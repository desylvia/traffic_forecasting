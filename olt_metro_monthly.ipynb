{
 "cells": [
  {
   "cell_type": "code",
   "execution_count": 1,
   "id": "ab141d53-7352-4302-8a70-ef958693762b",
   "metadata": {
    "tags": []
   },
   "outputs": [],
   "source": [
    "import utils\n",
    "import duckdb\n",
    "import numpy as np\n",
    "import pandas as pd\n",
    "import multiprocessing\n",
    "import model as model\n",
    "from datetime import datetime, date\n",
    "import matplotlib.pyplot as plt\n",
    "\n",
    "# Global vars\n",
    "granularity = 'SME'\n",
    "seasonality_factor = 0.4\n",
    "agg_mode = model.agg_mode['p70']"
   ]
  },
  {
   "cell_type": "markdown",
   "id": "87c0a601-7d7f-49ae-a92f-a77c5d909905",
   "metadata": {},
   "source": [
    "# Fetch Data and Preprocessing"
   ]
  },
  {
   "cell_type": "markdown",
   "id": "fe9a2964-f140-4fbd-a887-42679b9dab60",
   "metadata": {},
   "source": [
    "## Fetch Data"
   ]
  },
  {
   "cell_type": "code",
   "execution_count": 2,
   "id": "b5243c27-8687-4130-8cc0-cc9e04d00eb1",
   "metadata": {
    "tags": []
   },
   "outputs": [
    {
     "name": "stdout",
     "output_type": "stream",
     "text": [
      "'occ_old.csv' already exists in 'data'. Skipping fetch.\n"
     ]
    },
    {
     "data": {
      "text/plain": [
       "'data/occ_old.csv'"
      ]
     },
     "execution_count": 2,
     "metadata": {},
     "output_type": "execute_result"
    }
   ],
   "source": [
    "# Check occ old\n",
    "utils.fetch_old_data(\"occ_old.csv\", \"data\", utils.fetch_data)"
   ]
  },
  {
   "cell_type": "code",
   "execution_count": 3,
   "id": "ff42ffff-e6ec-42fa-8ede-f01cd847175e",
   "metadata": {
    "tags": []
   },
   "outputs": [
    {
     "data": {
      "text/plain": [
       "'done'"
      ]
     },
     "execution_count": 3,
     "metadata": {},
     "output_type": "execute_result"
    }
   ],
   "source": [
    "# Get occ new\n",
    "utils.fetch_new_data()"
   ]
  },
  {
   "cell_type": "markdown",
   "id": "be970705-51e3-4652-9baf-486e7656006e",
   "metadata": {},
   "source": [
    "## Ruas look up"
   ]
  },
  {
   "cell_type": "code",
   "execution_count": 5,
   "id": "dcc3a62a-6f24-4a22-b0dd-6021fc3ea77e",
   "metadata": {
    "tags": []
   },
   "outputs": [],
   "source": [
    "data = pd.read_csv(\"data/occ_all.csv\", low_memory=False)\n",
    "data.createddate = pd.to_datetime(data.createddate)"
   ]
  },
  {
   "cell_type": "code",
   "execution_count": 6,
   "id": "d4c71fa4-2ae0-463e-b3bb-46763dbd0933",
   "metadata": {
    "tags": []
   },
   "outputs": [
    {
     "data": {
      "text/html": [
       "<div>\n",
       "<style scoped>\n",
       "    .dataframe tbody tr th:only-of-type {\n",
       "        vertical-align: middle;\n",
       "    }\n",
       "\n",
       "    .dataframe tbody tr th {\n",
       "        vertical-align: top;\n",
       "    }\n",
       "\n",
       "    .dataframe thead th {\n",
       "        text-align: right;\n",
       "    }\n",
       "</style>\n",
       "<table border=\"1\" class=\"dataframe\">\n",
       "  <thead>\n",
       "    <tr style=\"text-align: right;\">\n",
       "      <th></th>\n",
       "      <th>node</th>\n",
       "      <th>ip</th>\n",
       "      <th>createddate</th>\n",
       "      <th>reg</th>\n",
       "      <th>metro</th>\n",
       "      <th>cap</th>\n",
       "      <th>traffic</th>\n",
       "      <th>mode</th>\n",
       "    </tr>\n",
       "  </thead>\n",
       "  <tbody>\n",
       "    <tr>\n",
       "      <th>0</th>\n",
       "      <td>GPON00-D4-MGE-4FRAK</td>\n",
       "      <td>172.29.236.230</td>\n",
       "      <td>2024-03-31</td>\n",
       "      <td>4</td>\n",
       "      <td>ME-D4-MGL</td>\n",
       "      <td>20.0</td>\n",
       "      <td>2.6</td>\n",
       "      <td>uplink</td>\n",
       "    </tr>\n",
       "    <tr>\n",
       "      <th>1</th>\n",
       "      <td>GPON00-D4-MGE-4FRAK</td>\n",
       "      <td>172.29.236.230</td>\n",
       "      <td>2024-03-30</td>\n",
       "      <td>4</td>\n",
       "      <td>ME-D4-MGL</td>\n",
       "      <td>20.0</td>\n",
       "      <td>2.6</td>\n",
       "      <td>uplink</td>\n",
       "    </tr>\n",
       "    <tr>\n",
       "      <th>2</th>\n",
       "      <td>GPON00-D4-MGE-4FRAK</td>\n",
       "      <td>172.29.236.230</td>\n",
       "      <td>2024-03-29</td>\n",
       "      <td>4</td>\n",
       "      <td>ME-D4-MGL</td>\n",
       "      <td>20.0</td>\n",
       "      <td>2.8</td>\n",
       "      <td>uplink</td>\n",
       "    </tr>\n",
       "    <tr>\n",
       "      <th>3</th>\n",
       "      <td>GPON00-D4-MGE-4FRAK</td>\n",
       "      <td>172.29.236.230</td>\n",
       "      <td>2024-03-28</td>\n",
       "      <td>4</td>\n",
       "      <td>ME-D4-MGL</td>\n",
       "      <td>20.0</td>\n",
       "      <td>2.8</td>\n",
       "      <td>uplink</td>\n",
       "    </tr>\n",
       "    <tr>\n",
       "      <th>4</th>\n",
       "      <td>GPON00-D4-MGE-4FRAK</td>\n",
       "      <td>172.29.236.230</td>\n",
       "      <td>2024-03-27</td>\n",
       "      <td>4</td>\n",
       "      <td>ME-D4-MGL</td>\n",
       "      <td>20.0</td>\n",
       "      <td>2.8</td>\n",
       "      <td>uplink</td>\n",
       "    </tr>\n",
       "  </tbody>\n",
       "</table>\n",
       "</div>"
      ],
      "text/plain": [
       "                  node              ip createddate  reg      metro   cap  \\\n",
       "0  GPON00-D4-MGE-4FRAK  172.29.236.230  2024-03-31    4  ME-D4-MGL  20.0   \n",
       "1  GPON00-D4-MGE-4FRAK  172.29.236.230  2024-03-30    4  ME-D4-MGL  20.0   \n",
       "2  GPON00-D4-MGE-4FRAK  172.29.236.230  2024-03-29    4  ME-D4-MGL  20.0   \n",
       "3  GPON00-D4-MGE-4FRAK  172.29.236.230  2024-03-28    4  ME-D4-MGL  20.0   \n",
       "4  GPON00-D4-MGE-4FRAK  172.29.236.230  2024-03-27    4  ME-D4-MGL  20.0   \n",
       "\n",
       "   traffic    mode  \n",
       "0      2.6  uplink  \n",
       "1      2.6  uplink  \n",
       "2      2.8  uplink  \n",
       "3      2.8  uplink  \n",
       "4      2.8  uplink  "
      ]
     },
     "execution_count": 6,
     "metadata": {},
     "output_type": "execute_result"
    }
   ],
   "source": [
    "data.head()"
   ]
  },
  {
   "cell_type": "code",
   "execution_count": 7,
   "id": "b483fc12-fd08-41c7-8f02-65c5bed492df",
   "metadata": {
    "tags": []
   },
   "outputs": [],
   "source": [
    "df = utils.fill_ruas(data)\n",
    "df['ruas'] = df['ruas'].str.strip()"
   ]
  },
  {
   "cell_type": "markdown",
   "id": "847375fa-35a9-435a-88da-2f2d123858eb",
   "metadata": {},
   "source": [
    "### Checking"
   ]
  },
  {
   "cell_type": "code",
   "execution_count": 10,
   "id": "cd395c32-dd41-40c7-b83c-e14837fe6e3c",
   "metadata": {
    "tags": []
   },
   "outputs": [
    {
     "data": {
      "text/plain": [
       "8900"
      ]
     },
     "execution_count": 10,
     "metadata": {},
     "output_type": "execute_result"
    }
   ],
   "source": [
    "df['ruas'].nunique()"
   ]
  },
  {
   "cell_type": "code",
   "execution_count": 11,
   "id": "5b660344-a513-43e3-94d6-fef009e6d270",
   "metadata": {
    "tags": []
   },
   "outputs": [
    {
     "data": {
      "text/plain": [
       "createddate    datetime64[ns]\n",
       "reg                     int64\n",
       "node                   object\n",
       "metro                  object\n",
       "ruas                   object\n",
       "traffic               float64\n",
       "cap                   float64\n",
       "sumber                 object\n",
       "mode                   object\n",
       "dtype: object"
      ]
     },
     "execution_count": 11,
     "metadata": {},
     "output_type": "execute_result"
    }
   ],
   "source": [
    "df.dtypes"
   ]
  },
  {
   "cell_type": "code",
   "execution_count": 12,
   "id": "dbee1a28-e5ab-4eea-9844-a50428523f5f",
   "metadata": {
    "tags": []
   },
   "outputs": [
    {
     "data": {
      "text/plain": [
       "createddate         0\n",
       "reg                 0\n",
       "node                0\n",
       "metro               0\n",
       "ruas                0\n",
       "traffic             0\n",
       "cap                 0\n",
       "sumber         557445\n",
       "mode                0\n",
       "dtype: int64"
      ]
     },
     "execution_count": 12,
     "metadata": {},
     "output_type": "execute_result"
    }
   ],
   "source": [
    "df.isna().sum()"
   ]
  },
  {
   "cell_type": "code",
   "execution_count": 13,
   "id": "8aba86b2-a069-4971-b052-9fd7531ca73e",
   "metadata": {
    "tags": []
   },
   "outputs": [
    {
     "data": {
      "text/plain": [
       "reg\n",
       "5    1166790\n",
       "2    1043345\n",
       "1    1021936\n",
       "7     683883\n",
       "4     647042\n",
       "6     633794\n",
       "3     557750\n",
       "0        310\n",
       "Name: count, dtype: int64"
      ]
     },
     "execution_count": 13,
     "metadata": {},
     "output_type": "execute_result"
    }
   ],
   "source": [
    "df['reg'].value_counts()"
   ]
  },
  {
   "cell_type": "code",
   "execution_count": 14,
   "id": "d2e692d6-7aed-4ae9-8bc9-9c54917d4dfa",
   "metadata": {
    "tags": []
   },
   "outputs": [
    {
     "data": {
      "text/plain": [
       "(Timestamp('2022-06-13 00:00:00'), Timestamp('2025-04-22 00:00:00'))"
      ]
     },
     "execution_count": 14,
     "metadata": {},
     "output_type": "execute_result"
    }
   ],
   "source": [
    "df.createddate.min(), df.createddate.max()"
   ]
  },
  {
   "cell_type": "code",
   "execution_count": 15,
   "id": "84700c19-3ba0-4872-b2d5-91401e5a158d",
   "metadata": {
    "tags": []
   },
   "outputs": [],
   "source": [
    "df.to_csv(\"data/raw.csv\", index=None)"
   ]
  },
  {
   "cell_type": "code",
   "execution_count": 16,
   "id": "9c62ba8e-c0a0-41a0-8273-479818651699",
   "metadata": {
    "tags": []
   },
   "outputs": [
    {
     "data": {
      "text/html": [
       "<div>\n",
       "<style scoped>\n",
       "    .dataframe tbody tr th:only-of-type {\n",
       "        vertical-align: middle;\n",
       "    }\n",
       "\n",
       "    .dataframe tbody tr th {\n",
       "        vertical-align: top;\n",
       "    }\n",
       "\n",
       "    .dataframe thead th {\n",
       "        text-align: right;\n",
       "    }\n",
       "</style>\n",
       "<table border=\"1\" class=\"dataframe\">\n",
       "  <thead>\n",
       "    <tr style=\"text-align: right;\">\n",
       "      <th></th>\n",
       "      <th>createddate</th>\n",
       "      <th>reg</th>\n",
       "      <th>node</th>\n",
       "      <th>metro</th>\n",
       "      <th>ruas</th>\n",
       "      <th>traffic</th>\n",
       "      <th>cap</th>\n",
       "      <th>sumber</th>\n",
       "      <th>mode</th>\n",
       "    </tr>\n",
       "  </thead>\n",
       "  <tbody>\n",
       "    <tr>\n",
       "      <th>0</th>\n",
       "      <td>2025-04-22</td>\n",
       "      <td>1</td>\n",
       "      <td>GPON00-D1-AGR-2</td>\n",
       "      <td>ME-D1-AGRA</td>\n",
       "      <td>GPON00-D1-AGR-2_to_ME-D1-AGRA</td>\n",
       "      <td>0.00</td>\n",
       "      <td>3.0</td>\n",
       "      <td>lldp</td>\n",
       "      <td>uplink_n</td>\n",
       "    </tr>\n",
       "    <tr>\n",
       "      <th>1</th>\n",
       "      <td>2025-04-22</td>\n",
       "      <td>1</td>\n",
       "      <td>GPON00-D1-AMK-2</td>\n",
       "      <td>ME-D1-AMKA</td>\n",
       "      <td>GPON00-D1-AMK-2_to_ME-D1-AMKA</td>\n",
       "      <td>0.00</td>\n",
       "      <td>1.0</td>\n",
       "      <td>lldp</td>\n",
       "      <td>uplink_n</td>\n",
       "    </tr>\n",
       "    <tr>\n",
       "      <th>2</th>\n",
       "      <td>2025-04-22</td>\n",
       "      <td>1</td>\n",
       "      <td>GPON00-D1-AMK-2UKUI</td>\n",
       "      <td>OTHER</td>\n",
       "      <td>GPON00-D1-AMK-2UKUI_to_ME-D1-RGTA</td>\n",
       "      <td>0.04</td>\n",
       "      <td>11.0</td>\n",
       "      <td>lldp</td>\n",
       "      <td>uplink_n</td>\n",
       "    </tr>\n",
       "    <tr>\n",
       "      <th>3</th>\n",
       "      <td>2025-04-22</td>\n",
       "      <td>1</td>\n",
       "      <td>GPON00-D1-ANR-2</td>\n",
       "      <td>ME-D1-ANRA</td>\n",
       "      <td>GPON00-D1-ANR-2_to_ME-D1-ANRA</td>\n",
       "      <td>0.00</td>\n",
       "      <td>3.0</td>\n",
       "      <td>lldp</td>\n",
       "      <td>uplink_n</td>\n",
       "    </tr>\n",
       "    <tr>\n",
       "      <th>4</th>\n",
       "      <td>2025-04-22</td>\n",
       "      <td>1</td>\n",
       "      <td>GPON00-D1-BAK-2</td>\n",
       "      <td>ME-D1-BAKA</td>\n",
       "      <td>GPON00-D1-BAK-2_to_ME-D1-BAKA</td>\n",
       "      <td>0.00</td>\n",
       "      <td>1.0</td>\n",
       "      <td>lldp</td>\n",
       "      <td>uplink_n</td>\n",
       "    </tr>\n",
       "  </tbody>\n",
       "</table>\n",
       "</div>"
      ],
      "text/plain": [
       "  createddate  reg                 node       metro  \\\n",
       "0  2025-04-22    1      GPON00-D1-AGR-2  ME-D1-AGRA   \n",
       "1  2025-04-22    1      GPON00-D1-AMK-2  ME-D1-AMKA   \n",
       "2  2025-04-22    1  GPON00-D1-AMK-2UKUI       OTHER   \n",
       "3  2025-04-22    1      GPON00-D1-ANR-2  ME-D1-ANRA   \n",
       "4  2025-04-22    1      GPON00-D1-BAK-2  ME-D1-BAKA   \n",
       "\n",
       "                                ruas  traffic   cap sumber      mode  \n",
       "0      GPON00-D1-AGR-2_to_ME-D1-AGRA     0.00   3.0   lldp  uplink_n  \n",
       "1      GPON00-D1-AMK-2_to_ME-D1-AMKA     0.00   1.0   lldp  uplink_n  \n",
       "2  GPON00-D1-AMK-2UKUI_to_ME-D1-RGTA     0.04  11.0   lldp  uplink_n  \n",
       "3      GPON00-D1-ANR-2_to_ME-D1-ANRA     0.00   3.0   lldp  uplink_n  \n",
       "4      GPON00-D1-BAK-2_to_ME-D1-BAKA     0.00   1.0   lldp  uplink_n  "
      ]
     },
     "execution_count": 16,
     "metadata": {},
     "output_type": "execute_result"
    }
   ],
   "source": [
    "df.head()"
   ]
  },
  {
   "cell_type": "markdown",
   "id": "101ed6fb-d825-43e0-ba71-17cf910488e9",
   "metadata": {},
   "source": [
    "## Cut off Data"
   ]
  },
  {
   "cell_type": "code",
   "execution_count": 17,
   "id": "0c3376ec-f8cb-4e33-8d11-ac99e692a12d",
   "metadata": {
    "tags": []
   },
   "outputs": [
    {
     "data": {
      "text/plain": [
       "Timestamp('2025-04-01 00:00:00')"
      ]
     },
     "execution_count": 17,
     "metadata": {},
     "output_type": "execute_result"
    }
   ],
   "source": [
    "# Create a Pandas Timestamp object from the current date\n",
    "current_date_timestamp = pd.Timestamp(datetime.now())\n",
    "\n",
    "# Get the first day of the current month\n",
    "first_day_of_month = current_date_timestamp.replace(\n",
    "    day=1, hour=0, minute=0, second=0, microsecond=0\n",
    ")\n",
    "\n",
    "# Print the result\n",
    "first_day_of_month"
   ]
  },
  {
   "cell_type": "code",
   "execution_count": 18,
   "id": "e3d22c19-a672-4864-afff-3c9a9ba6e4c7",
   "metadata": {
    "tags": []
   },
   "outputs": [
    {
     "data": {
      "text/plain": [
       "(Timestamp('2025-03-31 00:00:00'), (5599163, 9))"
      ]
     },
     "execution_count": 18,
     "metadata": {},
     "output_type": "execute_result"
    }
   ],
   "source": [
    "df = df[df.createddate < first_day_of_month]\n",
    "df.createddate.max(), df.shape"
   ]
  },
  {
   "cell_type": "markdown",
   "id": "037d1033-e124-4929-8185-00eca6f685b7",
   "metadata": {},
   "source": [
    "### Resample and Save"
   ]
  },
  {
   "cell_type": "code",
   "execution_count": 19,
   "id": "8f8002a0-dc44-4994-acfe-af2e69a7d3d4",
   "metadata": {
    "tags": []
   },
   "outputs": [
    {
     "data": {
      "text/html": [
       "<div>\n",
       "<style scoped>\n",
       "    .dataframe tbody tr th:only-of-type {\n",
       "        vertical-align: middle;\n",
       "    }\n",
       "\n",
       "    .dataframe tbody tr th {\n",
       "        vertical-align: top;\n",
       "    }\n",
       "\n",
       "    .dataframe thead th {\n",
       "        text-align: right;\n",
       "    }\n",
       "</style>\n",
       "<table border=\"1\" class=\"dataframe\">\n",
       "  <thead>\n",
       "    <tr style=\"text-align: right;\">\n",
       "      <th></th>\n",
       "      <th>createddate</th>\n",
       "      <th>reg</th>\n",
       "      <th>node</th>\n",
       "      <th>metro</th>\n",
       "      <th>ruas</th>\n",
       "      <th>traffic</th>\n",
       "      <th>cap</th>\n",
       "      <th>sumber</th>\n",
       "      <th>mode</th>\n",
       "    </tr>\n",
       "  </thead>\n",
       "  <tbody>\n",
       "    <tr>\n",
       "      <th>0</th>\n",
       "      <td>2025-03-31</td>\n",
       "      <td>2</td>\n",
       "      <td>GP0N00-D2-BJT-2PMR</td>\n",
       "      <td>OTHER</td>\n",
       "      <td>GP0N00-D2-BJT-2PMR_to_OTHER</td>\n",
       "      <td>0.06</td>\n",
       "      <td>10.0</td>\n",
       "      <td>NaN</td>\n",
       "      <td>uplink_n</td>\n",
       "    </tr>\n",
       "    <tr>\n",
       "      <th>1</th>\n",
       "      <td>2025-03-31</td>\n",
       "      <td>1</td>\n",
       "      <td>GPON00-D1-ABA-2</td>\n",
       "      <td>ME-D1-ABAA</td>\n",
       "      <td>GPON00-D1-ABA-2_to_ME-D1-ABAA</td>\n",
       "      <td>3.10</td>\n",
       "      <td>4.0</td>\n",
       "      <td>lldp</td>\n",
       "      <td>uplink_n</td>\n",
       "    </tr>\n",
       "    <tr>\n",
       "      <th>2</th>\n",
       "      <td>2025-03-31</td>\n",
       "      <td>1</td>\n",
       "      <td>GPON00-D1-ABG-2</td>\n",
       "      <td>OTHER</td>\n",
       "      <td>GPON00-D1-ABG-2_to_OTHER</td>\n",
       "      <td>2.61</td>\n",
       "      <td>11.0</td>\n",
       "      <td>NaN</td>\n",
       "      <td>uplink_n</td>\n",
       "    </tr>\n",
       "    <tr>\n",
       "      <th>3</th>\n",
       "      <td>2025-03-31</td>\n",
       "      <td>1</td>\n",
       "      <td>GPON00-D1-AGR-2</td>\n",
       "      <td>ME-D1-AGRA</td>\n",
       "      <td>GPON00-D1-AGR-2_to_ME-D1-AGRA</td>\n",
       "      <td>7.39</td>\n",
       "      <td>47.0</td>\n",
       "      <td>lldp</td>\n",
       "      <td>uplink_n</td>\n",
       "    </tr>\n",
       "    <tr>\n",
       "      <th>4</th>\n",
       "      <td>2025-03-31</td>\n",
       "      <td>1</td>\n",
       "      <td>GPON00-D1-AGR-2GRA</td>\n",
       "      <td>ME-D1-AGRA</td>\n",
       "      <td>GPON00-D1-AGR-2GRA_to_ME-D1-AGRA</td>\n",
       "      <td>0.20</td>\n",
       "      <td>10.0</td>\n",
       "      <td>descp</td>\n",
       "      <td>uplink_n</td>\n",
       "    </tr>\n",
       "  </tbody>\n",
       "</table>\n",
       "</div>"
      ],
      "text/plain": [
       "  createddate  reg                node       metro  \\\n",
       "0  2025-03-31    2  GP0N00-D2-BJT-2PMR       OTHER   \n",
       "1  2025-03-31    1     GPON00-D1-ABA-2  ME-D1-ABAA   \n",
       "2  2025-03-31    1     GPON00-D1-ABG-2       OTHER   \n",
       "3  2025-03-31    1     GPON00-D1-AGR-2  ME-D1-AGRA   \n",
       "4  2025-03-31    1  GPON00-D1-AGR-2GRA  ME-D1-AGRA   \n",
       "\n",
       "                               ruas  traffic   cap sumber      mode  \n",
       "0       GP0N00-D2-BJT-2PMR_to_OTHER     0.06  10.0    NaN  uplink_n  \n",
       "1     GPON00-D1-ABA-2_to_ME-D1-ABAA     3.10   4.0   lldp  uplink_n  \n",
       "2          GPON00-D1-ABG-2_to_OTHER     2.61  11.0    NaN  uplink_n  \n",
       "3     GPON00-D1-AGR-2_to_ME-D1-AGRA     7.39  47.0   lldp  uplink_n  \n",
       "4  GPON00-D1-AGR-2GRA_to_ME-D1-AGRA     0.20  10.0  descp  uplink_n  "
      ]
     },
     "execution_count": 19,
     "metadata": {},
     "output_type": "execute_result"
    }
   ],
   "source": [
    "df.reset_index(drop=True, inplace=True)\n",
    "df.head()"
   ]
  },
  {
   "cell_type": "code",
   "execution_count": 20,
   "id": "97077177-1b3e-4915-873d-0c58bb8acd56",
   "metadata": {
    "tags": []
   },
   "outputs": [
    {
     "data": {
      "text/html": [
       "<div>\n",
       "<style scoped>\n",
       "    .dataframe tbody tr th:only-of-type {\n",
       "        vertical-align: middle;\n",
       "    }\n",
       "\n",
       "    .dataframe tbody tr th {\n",
       "        vertical-align: top;\n",
       "    }\n",
       "\n",
       "    .dataframe thead th {\n",
       "        text-align: right;\n",
       "    }\n",
       "</style>\n",
       "<table border=\"1\" class=\"dataframe\">\n",
       "  <thead>\n",
       "    <tr style=\"text-align: right;\">\n",
       "      <th></th>\n",
       "      <th>createddate</th>\n",
       "      <th>reg</th>\n",
       "      <th>ruas</th>\n",
       "      <th>traffic</th>\n",
       "    </tr>\n",
       "  </thead>\n",
       "  <tbody>\n",
       "    <tr>\n",
       "      <th>0</th>\n",
       "      <td>2025-03-31</td>\n",
       "      <td>2</td>\n",
       "      <td>GP0N00-D2-BJT-2PMR_to_OTHER</td>\n",
       "      <td>0.06</td>\n",
       "    </tr>\n",
       "    <tr>\n",
       "      <th>1</th>\n",
       "      <td>2025-03-31</td>\n",
       "      <td>1</td>\n",
       "      <td>GPON00-D1-ABA-2_to_ME-D1-ABAA</td>\n",
       "      <td>3.10</td>\n",
       "    </tr>\n",
       "    <tr>\n",
       "      <th>2</th>\n",
       "      <td>2025-03-31</td>\n",
       "      <td>1</td>\n",
       "      <td>GPON00-D1-ABG-2_to_OTHER</td>\n",
       "      <td>2.61</td>\n",
       "    </tr>\n",
       "    <tr>\n",
       "      <th>3</th>\n",
       "      <td>2025-03-31</td>\n",
       "      <td>1</td>\n",
       "      <td>GPON00-D1-AGR-2_to_ME-D1-AGRA</td>\n",
       "      <td>7.39</td>\n",
       "    </tr>\n",
       "    <tr>\n",
       "      <th>4</th>\n",
       "      <td>2025-03-31</td>\n",
       "      <td>1</td>\n",
       "      <td>GPON00-D1-AGR-2GRA_to_ME-D1-AGRA</td>\n",
       "      <td>0.20</td>\n",
       "    </tr>\n",
       "  </tbody>\n",
       "</table>\n",
       "</div>"
      ],
      "text/plain": [
       "  createddate  reg                              ruas  traffic\n",
       "0  2025-03-31    2       GP0N00-D2-BJT-2PMR_to_OTHER     0.06\n",
       "1  2025-03-31    1     GPON00-D1-ABA-2_to_ME-D1-ABAA     3.10\n",
       "2  2025-03-31    1          GPON00-D1-ABG-2_to_OTHER     2.61\n",
       "3  2025-03-31    1     GPON00-D1-AGR-2_to_ME-D1-AGRA     7.39\n",
       "4  2025-03-31    1  GPON00-D1-AGR-2GRA_to_ME-D1-AGRA     0.20"
      ]
     },
     "execution_count": 20,
     "metadata": {},
     "output_type": "execute_result"
    }
   ],
   "source": [
    "df_ = df[['createddate', 'reg', 'ruas', 'traffic']].copy()\n",
    "df_.head()"
   ]
  },
  {
   "cell_type": "code",
   "execution_count": 21,
   "id": "9092aff8-6ee8-4506-b1d3-d486b9c4f422",
   "metadata": {
    "tags": []
   },
   "outputs": [
    {
     "data": {
      "text/plain": [
       "createddate    datetime64[ns]\n",
       "reg                     int64\n",
       "ruas                   object\n",
       "traffic               float64\n",
       "dtype: object"
      ]
     },
     "execution_count": 21,
     "metadata": {},
     "output_type": "execute_result"
    }
   ],
   "source": [
    "df_.dtypes"
   ]
  },
  {
   "cell_type": "code",
   "execution_count": 22,
   "id": "cb85c0dd-cc85-4898-9d35-817d97727310",
   "metadata": {
    "tags": []
   },
   "outputs": [],
   "source": [
    "df_.to_csv(\"data/daily_data.csv\", index=None)\n",
    "dfmonthly_mean = (\n",
    "    df_.groupby(\n",
    "        [\n",
    "            \"ruas\",\n",
    "            pd.Grouper(key=\"createddate\", freq=\"ME\"),\n",
    "        ],\n",
    "        group_keys=True,\n",
    "    )\n",
    "    .mean()\n",
    "    .reset_index()\n",
    ")\n",
    "dfmonthly_mean.to_csv(\"data/monthly_mean.csv\", index=None)"
   ]
  },
  {
   "cell_type": "code",
   "execution_count": 23,
   "id": "0dda15e3-2d12-4198-86e7-6874a95dd0be",
   "metadata": {
    "tags": []
   },
   "outputs": [],
   "source": [
    "df_agg = df_.groupby(\n",
    "    ['ruas', pd.Grouper(key=\"createddate\", freq=granularity)],\n",
    "    group_keys=True\n",
    ").agg({'traffic': agg_mode}).reset_index()\n",
    "\n",
    "df_agg.to_csv(\"data/data_mean_mod.csv\", index=None)"
   ]
  },
  {
   "cell_type": "markdown",
   "id": "4a7e9d82-2637-43f8-89ab-46c0922ea5db",
   "metadata": {},
   "source": [
    "# Train Validation"
   ]
  },
  {
   "cell_type": "code",
   "execution_count": 24,
   "id": "3488440d-869c-46b0-97ae-aae98171c44f",
   "metadata": {
    "tags": []
   },
   "outputs": [
    {
     "data": {
      "text/html": [
       "<div>\n",
       "<style scoped>\n",
       "    .dataframe tbody tr th:only-of-type {\n",
       "        vertical-align: middle;\n",
       "    }\n",
       "\n",
       "    .dataframe tbody tr th {\n",
       "        vertical-align: top;\n",
       "    }\n",
       "\n",
       "    .dataframe thead th {\n",
       "        text-align: right;\n",
       "    }\n",
       "</style>\n",
       "<table border=\"1\" class=\"dataframe\">\n",
       "  <thead>\n",
       "    <tr style=\"text-align: right;\">\n",
       "      <th></th>\n",
       "      <th>ruas</th>\n",
       "      <th>createddate</th>\n",
       "      <th>traffic</th>\n",
       "      <th>yearmonth</th>\n",
       "    </tr>\n",
       "  </thead>\n",
       "  <tbody>\n",
       "    <tr>\n",
       "      <th>0</th>\n",
       "      <td>09-MBS-35_to_ME-D2-KT2</td>\n",
       "      <td>2022-11-30</td>\n",
       "      <td>0.0</td>\n",
       "      <td>2022-11</td>\n",
       "    </tr>\n",
       "    <tr>\n",
       "      <th>1</th>\n",
       "      <td>09-MBS-35_to_ME-D2-KT2</td>\n",
       "      <td>2022-12-15</td>\n",
       "      <td>0.0</td>\n",
       "      <td>2022-12</td>\n",
       "    </tr>\n",
       "    <tr>\n",
       "      <th>2</th>\n",
       "      <td>09-MBS-35_to_ME-D2-KT2</td>\n",
       "      <td>2022-12-31</td>\n",
       "      <td>0.0</td>\n",
       "      <td>2022-12</td>\n",
       "    </tr>\n",
       "    <tr>\n",
       "      <th>3</th>\n",
       "      <td>09-MBS-35_to_ME-D2-KT2</td>\n",
       "      <td>2023-01-15</td>\n",
       "      <td>0.0</td>\n",
       "      <td>2023-01</td>\n",
       "    </tr>\n",
       "    <tr>\n",
       "      <th>4</th>\n",
       "      <td>09-MBS-35_to_ME-D2-KT2</td>\n",
       "      <td>2023-01-31</td>\n",
       "      <td>0.0</td>\n",
       "      <td>2023-01</td>\n",
       "    </tr>\n",
       "  </tbody>\n",
       "</table>\n",
       "</div>"
      ],
      "text/plain": [
       "                     ruas createddate  traffic yearmonth\n",
       "0  09-MBS-35_to_ME-D2-KT2  2022-11-30      0.0   2022-11\n",
       "1  09-MBS-35_to_ME-D2-KT2  2022-12-15      0.0   2022-12\n",
       "2  09-MBS-35_to_ME-D2-KT2  2022-12-31      0.0   2022-12\n",
       "3  09-MBS-35_to_ME-D2-KT2  2023-01-15      0.0   2023-01\n",
       "4  09-MBS-35_to_ME-D2-KT2  2023-01-31      0.0   2023-01"
      ]
     },
     "execution_count": 24,
     "metadata": {},
     "output_type": "execute_result"
    }
   ],
   "source": [
    "df = pd.read_csv(\"data/data_mean_mod.csv\")\n",
    "\n",
    "df.createddate = pd.to_datetime(df.createddate)\n",
    "df['yearmonth'] = df['createddate'].dt.strftime('%Y-%m')\n",
    "\n",
    "df.head()"
   ]
  },
  {
   "cell_type": "markdown",
   "id": "75bfbc81-c7e8-4116-a7cd-02205cc70c04",
   "metadata": {},
   "source": [
    "## Remove old and new ruas"
   ]
  },
  {
   "cell_type": "code",
   "execution_count": 25,
   "id": "507e7b16-4d59-40b6-b8d6-bdc198ea4f6f",
   "metadata": {
    "tags": []
   },
   "outputs": [
    {
     "data": {
      "text/plain": [
       "(8741, 7420)"
      ]
     },
     "execution_count": 25,
     "metadata": {},
     "output_type": "execute_result"
    }
   ],
   "source": [
    "# Remove old ruas\n",
    "old_ruas = utils.extract_old_ruas(df)\n",
    "\n",
    "# Remove new ruas\n",
    "new_ruas = utils.extract_new_ruas(df)\n",
    "\n",
    "# Get forecast-able ruas\n",
    "df_ = df[~df['ruas'].isin(old_ruas['ruas'])]\n",
    "df_ = df_[~df_['ruas'].isin(new_ruas['ruas'])]\n",
    "\n",
    "not_forecast_ruas = old_ruas['ruas'].to_list() + new_ruas['ruas'].to_list()\n",
    "\n",
    "df['ruas'].nunique(), df_['ruas'].nunique()"
   ]
  },
  {
   "cell_type": "code",
   "execution_count": 26,
   "id": "491ca460-9b0b-4dc9-bcb2-320ae5f3d008",
   "metadata": {
    "tags": []
   },
   "outputs": [
    {
     "data": {
      "text/html": [
       "<div>\n",
       "<style scoped>\n",
       "    .dataframe tbody tr th:only-of-type {\n",
       "        vertical-align: middle;\n",
       "    }\n",
       "\n",
       "    .dataframe tbody tr th {\n",
       "        vertical-align: top;\n",
       "    }\n",
       "\n",
       "    .dataframe thead th {\n",
       "        text-align: right;\n",
       "    }\n",
       "</style>\n",
       "<table border=\"1\" class=\"dataframe\">\n",
       "  <thead>\n",
       "    <tr style=\"text-align: right;\">\n",
       "      <th></th>\n",
       "      <th>ruas</th>\n",
       "      <th>createddate</th>\n",
       "      <th>traffic</th>\n",
       "      <th>yearmonth</th>\n",
       "    </tr>\n",
       "  </thead>\n",
       "  <tbody>\n",
       "    <tr>\n",
       "      <th>60</th>\n",
       "      <td>BLADE-D2-LEGOK-2_to_OTHER</td>\n",
       "      <td>2024-07-31</td>\n",
       "      <td>0.00</td>\n",
       "      <td>2024-07</td>\n",
       "    </tr>\n",
       "    <tr>\n",
       "      <th>61</th>\n",
       "      <td>BLADE-D2-LEGOK-2_to_OTHER</td>\n",
       "      <td>2024-08-15</td>\n",
       "      <td>0.00</td>\n",
       "      <td>2024-08</td>\n",
       "    </tr>\n",
       "    <tr>\n",
       "      <th>62</th>\n",
       "      <td>BLADE-D2-LEGOK-2_to_OTHER</td>\n",
       "      <td>2024-08-31</td>\n",
       "      <td>0.00</td>\n",
       "      <td>2024-08</td>\n",
       "    </tr>\n",
       "    <tr>\n",
       "      <th>63</th>\n",
       "      <td>BLADE-D2-LEGOK-2_to_OTHER</td>\n",
       "      <td>2024-09-15</td>\n",
       "      <td>0.00</td>\n",
       "      <td>2024-09</td>\n",
       "    </tr>\n",
       "    <tr>\n",
       "      <th>64</th>\n",
       "      <td>BLADE-D2-LEGOK-2_to_OTHER</td>\n",
       "      <td>2024-09-30</td>\n",
       "      <td>0.01</td>\n",
       "      <td>2024-09</td>\n",
       "    </tr>\n",
       "  </tbody>\n",
       "</table>\n",
       "</div>"
      ],
      "text/plain": [
       "                         ruas createddate  traffic yearmonth\n",
       "60  BLADE-D2-LEGOK-2_to_OTHER  2024-07-31     0.00   2024-07\n",
       "61  BLADE-D2-LEGOK-2_to_OTHER  2024-08-15     0.00   2024-08\n",
       "62  BLADE-D2-LEGOK-2_to_OTHER  2024-08-31     0.00   2024-08\n",
       "63  BLADE-D2-LEGOK-2_to_OTHER  2024-09-15     0.00   2024-09\n",
       "64  BLADE-D2-LEGOK-2_to_OTHER  2024-09-30     0.01   2024-09"
      ]
     },
     "execution_count": 26,
     "metadata": {},
     "output_type": "execute_result"
    }
   ],
   "source": [
    "df_.head()"
   ]
  },
  {
   "cell_type": "markdown",
   "id": "91bcaf05-a346-487c-bc75-9dab03e621bc",
   "metadata": {},
   "source": [
    "## Last value"
   ]
  },
  {
   "cell_type": "code",
   "execution_count": 27,
   "id": "969233c3-cb5f-4f65-8aa8-4d6992baa219",
   "metadata": {
    "tags": []
   },
   "outputs": [
    {
     "data": {
      "text/plain": [
       "1321"
      ]
     },
     "execution_count": 27,
     "metadata": {},
     "output_type": "execute_result"
    }
   ],
   "source": [
    "# last value before modeling (only for old ruas)\n",
    "\n",
    "df_lv = df[df['ruas'].isin(not_forecast_ruas)]\n",
    "df_lv['ruas'].nunique()"
   ]
  },
  {
   "cell_type": "code",
   "execution_count": 28,
   "id": "8321c62e-04c3-47ad-acbd-25e58eb45cf6",
   "metadata": {
    "tags": []
   },
   "outputs": [
    {
     "data": {
      "text/html": [
       "<div>\n",
       "<style scoped>\n",
       "    .dataframe tbody tr th:only-of-type {\n",
       "        vertical-align: middle;\n",
       "    }\n",
       "\n",
       "    .dataframe tbody tr th {\n",
       "        vertical-align: top;\n",
       "    }\n",
       "\n",
       "    .dataframe thead th {\n",
       "        text-align: right;\n",
       "    }\n",
       "</style>\n",
       "<table border=\"1\" class=\"dataframe\">\n",
       "  <thead>\n",
       "    <tr style=\"text-align: right;\">\n",
       "      <th></th>\n",
       "      <th>ruas</th>\n",
       "      <th>createddate</th>\n",
       "      <th>traffic</th>\n",
       "      <th>yearmonth</th>\n",
       "    </tr>\n",
       "  </thead>\n",
       "  <tbody>\n",
       "    <tr>\n",
       "      <th>0</th>\n",
       "      <td>09-MBS-35_to_ME-D2-KT2</td>\n",
       "      <td>2022-11-30</td>\n",
       "      <td>0.0</td>\n",
       "      <td>2022-11</td>\n",
       "    </tr>\n",
       "    <tr>\n",
       "      <th>1</th>\n",
       "      <td>09-MBS-35_to_ME-D2-KT2</td>\n",
       "      <td>2022-12-15</td>\n",
       "      <td>0.0</td>\n",
       "      <td>2022-12</td>\n",
       "    </tr>\n",
       "    <tr>\n",
       "      <th>2</th>\n",
       "      <td>09-MBS-35_to_ME-D2-KT2</td>\n",
       "      <td>2022-12-31</td>\n",
       "      <td>0.0</td>\n",
       "      <td>2022-12</td>\n",
       "    </tr>\n",
       "    <tr>\n",
       "      <th>3</th>\n",
       "      <td>09-MBS-35_to_ME-D2-KT2</td>\n",
       "      <td>2023-01-15</td>\n",
       "      <td>0.0</td>\n",
       "      <td>2023-01</td>\n",
       "    </tr>\n",
       "    <tr>\n",
       "      <th>4</th>\n",
       "      <td>09-MBS-35_to_ME-D2-KT2</td>\n",
       "      <td>2023-01-31</td>\n",
       "      <td>0.0</td>\n",
       "      <td>2023-01</td>\n",
       "    </tr>\n",
       "  </tbody>\n",
       "</table>\n",
       "</div>"
      ],
      "text/plain": [
       "                     ruas createddate  traffic yearmonth\n",
       "0  09-MBS-35_to_ME-D2-KT2  2022-11-30      0.0   2022-11\n",
       "1  09-MBS-35_to_ME-D2-KT2  2022-12-15      0.0   2022-12\n",
       "2  09-MBS-35_to_ME-D2-KT2  2022-12-31      0.0   2022-12\n",
       "3  09-MBS-35_to_ME-D2-KT2  2023-01-15      0.0   2023-01\n",
       "4  09-MBS-35_to_ME-D2-KT2  2023-01-31      0.0   2023-01"
      ]
     },
     "execution_count": 28,
     "metadata": {},
     "output_type": "execute_result"
    }
   ],
   "source": [
    "lv = utils.last_value(df_lv)\n",
    "\n",
    "lv.head()"
   ]
  },
  {
   "cell_type": "code",
   "execution_count": 29,
   "id": "eb5fdbf4-3d60-4884-9dec-034e973bad27",
   "metadata": {
    "tags": []
   },
   "outputs": [
    {
     "data": {
      "text/plain": [
       "8741"
      ]
     },
     "execution_count": 29,
     "metadata": {},
     "output_type": "execute_result"
    }
   ],
   "source": [
    "# Combine last value with original df\n",
    "df_ = pd.concat([df_, lv], axis=0, ignore_index=True)\n",
    "df_['ruas'].nunique()"
   ]
  },
  {
   "cell_type": "markdown",
   "id": "e73ce765-7d37-4fa6-946a-1c9d120af10d",
   "metadata": {},
   "source": [
    "### 1 month"
   ]
  },
  {
   "cell_type": "markdown",
   "id": "818b2ec4-9469-46b5-ad6b-9485cd83f50a",
   "metadata": {},
   "source": [
    "#### Cut off Test Data"
   ]
  },
  {
   "cell_type": "code",
   "execution_count": 30,
   "id": "709ebc84-1119-4aec-83fd-28b79069ecb0",
   "metadata": {
    "tags": []
   },
   "outputs": [
    {
     "data": {
      "text/plain": [
       "('2025-03-01', '2025-03')"
      ]
     },
     "execution_count": 30,
     "metadata": {},
     "output_type": "execute_result"
    }
   ],
   "source": [
    "# Get the current date\n",
    "current_date = datetime.today()\n",
    "\n",
    "# Calculate the date 1 month ago\n",
    "one_month_ago = current_date - pd.DateOffset(months=1)\n",
    "\n",
    "# Get the first day of the month for the calculated date\n",
    "START_TEST_DATE = one_month_ago.replace(day=1).strftime(\"%Y-%m-%d\")\n",
    "threshold_test = one_month_ago.replace(day=1).strftime(\"%Y-%m\")\n",
    "\n",
    "START_TEST_DATE, threshold_test"
   ]
  },
  {
   "cell_type": "code",
   "execution_count": 31,
   "id": "36b8d8c5-4043-4653-92ef-7434e4f7d240",
   "metadata": {
    "tags": []
   },
   "outputs": [],
   "source": [
    "df_train = df_[df_.createddate < START_TEST_DATE]"
   ]
  },
  {
   "cell_type": "code",
   "execution_count": 32,
   "id": "f5fc9b21-7314-4eea-87d7-967c4054afae",
   "metadata": {
    "tags": []
   },
   "outputs": [
    {
     "data": {
      "text/plain": [
       "yearmonth\n",
       "2025-02    15901\n",
       "2025-01    15860\n",
       "2024-12    15679\n",
       "2024-11    15609\n",
       "2024-10    15541\n",
       "2024-09    15461\n",
       "2024-08    15280\n",
       "2024-07    14597\n",
       "2024-06    14419\n",
       "2024-05    13976\n",
       "2024-04    13918\n",
       "2024-03    13274\n",
       "2023-12    12210\n",
       "2024-02    12197\n",
       "2023-11    12128\n",
       "2023-10    11992\n",
       "2023-09    11919\n",
       "2023-08    11863\n",
       "2023-07    11840\n",
       "2023-06    11824\n",
       "2023-05    11818\n",
       "2023-01    11470\n",
       "2023-04    11462\n",
       "2022-12    11183\n",
       "2022-11    11157\n",
       "2022-10    11130\n",
       "2022-09    11057\n",
       "2022-08    10906\n",
       "2022-06    10833\n",
       "2022-07    10805\n",
       "2024-01     6218\n",
       "2023-03     5793\n",
       "2023-02     5788\n",
       "2022-05     5361\n",
       "Name: count, dtype: int64"
      ]
     },
     "execution_count": 32,
     "metadata": {},
     "output_type": "execute_result"
    }
   ],
   "source": [
    "df_train['yearmonth'].value_counts()"
   ]
  },
  {
   "cell_type": "markdown",
   "id": "e50c7cff-b211-4b34-a486-468907e2b7d5",
   "metadata": {},
   "source": [
    "#### Modeling"
   ]
  },
  {
   "cell_type": "code",
   "execution_count": 33,
   "id": "46c40f71-b901-486e-938b-e37da5a098f0",
   "metadata": {
    "tags": []
   },
   "outputs": [],
   "source": [
    "# model configuration\n",
    "growth_factor = 0.2  # default: 0.2"
   ]
  },
  {
   "cell_type": "code",
   "execution_count": 34,
   "id": "b1ec5d4e-da3f-4f49-a96d-da19685b7740",
   "metadata": {
    "tags": []
   },
   "outputs": [],
   "source": [
    "# data for training and testing\n",
    "df_train = utils.create_statsforecast_df(df_train)\n",
    "df_test = utils.create_test_data(df_train, START_TEST_DATE, 0)"
   ]
  },
  {
   "cell_type": "code",
   "execution_count": 35,
   "id": "1032e574-452d-44f4-8271-0ce5076bff1a",
   "metadata": {
    "tags": []
   },
   "outputs": [
    {
     "data": {
      "text/plain": [
       "('2025-02', '2025-03', '2025-05')"
      ]
     },
     "execution_count": 35,
     "metadata": {},
     "output_type": "execute_result"
    }
   ],
   "source": [
    "df_train.yearmonth.max(), df_test.yearmonth.min(), df_test.yearmonth.max()"
   ]
  },
  {
   "cell_type": "code",
   "execution_count": 36,
   "id": "3bcc8e4e-1d06-46f3-a1c1-9d6b800433b8",
   "metadata": {
    "tags": []
   },
   "outputs": [],
   "source": [
    "with multiprocessing.Pool() as a_pool:\n",
    "     result = a_pool.starmap(\n",
    "            model.predictions,\n",
    "            [(ruas, df_train, df_test, granularity, agg_mode, growth_factor) \\\n",
    "             for ruas in df_train.unique_id.unique()]\n",
    ")"
   ]
  },
  {
   "cell_type": "code",
   "execution_count": 37,
   "id": "03f46972-5570-4a17-b295-dddfea58229f",
   "metadata": {
    "tags": []
   },
   "outputs": [
    {
     "data": {
      "text/html": [
       "<div>\n",
       "<style scoped>\n",
       "    .dataframe tbody tr th:only-of-type {\n",
       "        vertical-align: middle;\n",
       "    }\n",
       "\n",
       "    .dataframe tbody tr th {\n",
       "        vertical-align: top;\n",
       "    }\n",
       "\n",
       "    .dataframe thead th {\n",
       "        text-align: right;\n",
       "    }\n",
       "</style>\n",
       "<table border=\"1\" class=\"dataframe\">\n",
       "  <thead>\n",
       "    <tr style=\"text-align: right;\">\n",
       "      <th></th>\n",
       "      <th>ruas</th>\n",
       "      <th>forecast</th>\n",
       "      <th>yearmonth</th>\n",
       "    </tr>\n",
       "  </thead>\n",
       "  <tbody>\n",
       "    <tr>\n",
       "      <th>0</th>\n",
       "      <td>BLADE-D2-LEGOK-2_to_OTHER</td>\n",
       "      <td>0.007175</td>\n",
       "      <td>2025-03</td>\n",
       "    </tr>\n",
       "    <tr>\n",
       "      <th>1</th>\n",
       "      <td>BLADE-D2-LEGOK-2_to_OTHER</td>\n",
       "      <td>0.007292</td>\n",
       "      <td>2025-04</td>\n",
       "    </tr>\n",
       "    <tr>\n",
       "      <th>2</th>\n",
       "      <td>BLADE-D2-LEGOK-2_to_OTHER</td>\n",
       "      <td>0.007409</td>\n",
       "      <td>2025-05</td>\n",
       "    </tr>\n",
       "    <tr>\n",
       "      <th>3</th>\n",
       "      <td>GPON00-D1-ABA-2_to_ME-D1-ABAA</td>\n",
       "      <td>2.472978</td>\n",
       "      <td>2025-03</td>\n",
       "    </tr>\n",
       "    <tr>\n",
       "      <th>4</th>\n",
       "      <td>GPON00-D1-ABA-2_to_ME-D1-ABAA</td>\n",
       "      <td>2.521855</td>\n",
       "      <td>2025-04</td>\n",
       "    </tr>\n",
       "  </tbody>\n",
       "</table>\n",
       "</div>"
      ],
      "text/plain": [
       "                            ruas  forecast yearmonth\n",
       "0      BLADE-D2-LEGOK-2_to_OTHER  0.007175   2025-03\n",
       "1      BLADE-D2-LEGOK-2_to_OTHER  0.007292   2025-04\n",
       "2      BLADE-D2-LEGOK-2_to_OTHER  0.007409   2025-05\n",
       "3  GPON00-D1-ABA-2_to_ME-D1-ABAA  2.472978   2025-03\n",
       "4  GPON00-D1-ABA-2_to_ME-D1-ABAA  2.521855   2025-04"
      ]
     },
     "execution_count": 37,
     "metadata": {},
     "output_type": "execute_result"
    }
   ],
   "source": [
    "result = pd.concat(result, ignore_index=True)\n",
    "df_conslinreg = result[['unique_id', 'forecast', 'yearmonth']].rename(columns={'unique_id': 'ruas'}).copy()\n",
    "df_conslinreg.to_csv(\"data/prediction_dataset.csv\", index=None)\n",
    "\n",
    "df_conslinreg.head()"
   ]
  },
  {
   "cell_type": "markdown",
   "id": "1c88f1fd-7a9c-4f8e-b92d-d9d5ea0f3aa6",
   "metadata": {},
   "source": [
    "#### Seasonality"
   ]
  },
  {
   "cell_type": "code",
   "execution_count": 38,
   "id": "cd14d750-4d97-41bf-ac44-703aaf29d1f1",
   "metadata": {
    "tags": []
   },
   "outputs": [],
   "source": [
    "# post-processing: add seasonality\n",
    "df_conslinreg_deviation_agg = pd.concat([\n",
    "    model.calculate_deviation_in_percent(\n",
    "        df_train, ruas, granularity, agg_mode, growth_factor, seasonality_factor\n",
    "    ).groupby(['ruas','month_name'], as_index=False).agg(avg_deviation=('deviation','mean')) \\\n",
    "    for ruas in df_conslinreg.ruas.unique()\n",
    "])\n",
    "\n",
    "df_conslinreg_seasonal = model.add_seasonality(\n",
    "    df_conslinreg_deviation_agg, \n",
    "    df_conslinreg\n",
    ")\n",
    "\n",
    "df_conslinreg_seasonal.to_csv(f\"data/{utils.LAYER}_validation_seasonality.csv\", index=None)"
   ]
  },
  {
   "cell_type": "markdown",
   "id": "869adceb-7640-4383-92ff-de3842dd280d",
   "metadata": {},
   "source": [
    "#### Metrics"
   ]
  },
  {
   "cell_type": "code",
   "execution_count": 39,
   "id": "311b6169-2d3f-4b01-8223-8f2c746a0a74",
   "metadata": {
    "tags": []
   },
   "outputs": [
    {
     "data": {
      "text/html": [
       "<div>\n",
       "<style scoped>\n",
       "    .dataframe tbody tr th:only-of-type {\n",
       "        vertical-align: middle;\n",
       "    }\n",
       "\n",
       "    .dataframe tbody tr th {\n",
       "        vertical-align: top;\n",
       "    }\n",
       "\n",
       "    .dataframe thead th {\n",
       "        text-align: right;\n",
       "    }\n",
       "</style>\n",
       "<table border=\"1\" class=\"dataframe\">\n",
       "  <thead>\n",
       "    <tr style=\"text-align: right;\">\n",
       "      <th></th>\n",
       "      <th>createddate</th>\n",
       "      <th>ruas</th>\n",
       "      <th>traffic</th>\n",
       "      <th>yearmonth</th>\n",
       "    </tr>\n",
       "  </thead>\n",
       "  <tbody>\n",
       "    <tr>\n",
       "      <th>0</th>\n",
       "      <td>2025-03-31</td>\n",
       "      <td>GP0N00-D2-BJT-2PMR_to_OTHER</td>\n",
       "      <td>0.06</td>\n",
       "      <td>2025-03</td>\n",
       "    </tr>\n",
       "    <tr>\n",
       "      <th>1</th>\n",
       "      <td>2025-03-31</td>\n",
       "      <td>GPON00-D1-ABA-2_to_ME-D1-ABAA</td>\n",
       "      <td>3.10</td>\n",
       "      <td>2025-03</td>\n",
       "    </tr>\n",
       "    <tr>\n",
       "      <th>2</th>\n",
       "      <td>2025-03-31</td>\n",
       "      <td>GPON00-D1-ABG-2_to_OTHER</td>\n",
       "      <td>2.61</td>\n",
       "      <td>2025-03</td>\n",
       "    </tr>\n",
       "    <tr>\n",
       "      <th>3</th>\n",
       "      <td>2025-03-31</td>\n",
       "      <td>GPON00-D1-AGR-2_to_ME-D1-AGRA</td>\n",
       "      <td>7.39</td>\n",
       "      <td>2025-03</td>\n",
       "    </tr>\n",
       "    <tr>\n",
       "      <th>4</th>\n",
       "      <td>2025-03-31</td>\n",
       "      <td>GPON00-D1-AGR-2GRA_to_ME-D1-AGRA</td>\n",
       "      <td>0.20</td>\n",
       "      <td>2025-03</td>\n",
       "    </tr>\n",
       "  </tbody>\n",
       "</table>\n",
       "</div>"
      ],
      "text/plain": [
       "  createddate                              ruas  traffic yearmonth\n",
       "0  2025-03-31       GP0N00-D2-BJT-2PMR_to_OTHER     0.06   2025-03\n",
       "1  2025-03-31     GPON00-D1-ABA-2_to_ME-D1-ABAA     3.10   2025-03\n",
       "2  2025-03-31          GPON00-D1-ABG-2_to_OTHER     2.61   2025-03\n",
       "3  2025-03-31     GPON00-D1-AGR-2_to_ME-D1-AGRA     7.39   2025-03\n",
       "4  2025-03-31  GPON00-D1-AGR-2GRA_to_ME-D1-AGRA     0.20   2025-03"
      ]
     },
     "execution_count": 39,
     "metadata": {},
     "output_type": "execute_result"
    }
   ],
   "source": [
    "df_cur = pd.read_csv(\"data/daily_data.csv\")\n",
    "df_cur.drop('reg', axis=1, inplace=True)\n",
    "\n",
    "df_cur.createddate = pd.to_datetime(df_cur.createddate)\n",
    "df_cur['yearmonth'] = df_cur['createddate'].dt.strftime('%Y-%m')\n",
    "\n",
    "df_cur.head()"
   ]
  },
  {
   "cell_type": "code",
   "execution_count": 40,
   "id": "36330251-52ef-4170-b934-3b919e53d97d",
   "metadata": {
    "tags": []
   },
   "outputs": [
    {
     "data": {
      "text/plain": [
       "yearmonth\n",
       "2025-03    226966\n",
       "2025-01    222768\n",
       "2024-12    222458\n",
       "2024-10    220491\n",
       "2024-08    215969\n",
       "2024-11    214099\n",
       "2024-09    211992\n",
       "2024-07    207306\n",
       "2024-05    206416\n",
       "2024-06    200016\n",
       "2024-04    199807\n",
       "2025-02    195856\n",
       "2023-12    179305\n",
       "2024-01    179253\n",
       "2023-07    174564\n",
       "2023-09    174531\n",
       "2023-05    171543\n",
       "2023-06    170916\n",
       "2022-10    169320\n",
       "2022-12    168874\n",
       "2023-01    166082\n",
       "2022-08    165929\n",
       "2022-07    164657\n",
       "2023-08    163142\n",
       "2022-11    159281\n",
       "2023-11    153366\n",
       "2023-02    146778\n",
       "2023-10    146233\n",
       "2023-04    129571\n",
       "2024-03    107663\n",
       "2022-09     81298\n",
       "2022-06     58768\n",
       "2024-02     23945\n",
       "Name: count, dtype: int64"
      ]
     },
     "execution_count": 40,
     "metadata": {},
     "output_type": "execute_result"
    }
   ],
   "source": [
    "df_cur['yearmonth'].value_counts()"
   ]
  },
  {
   "cell_type": "code",
   "execution_count": 41,
   "id": "4fa7e7e6-0e03-4ed9-9ed8-515666afdb07",
   "metadata": {
    "tags": []
   },
   "outputs": [
    {
     "name": "stdout",
     "output_type": "stream",
     "text": [
      "[INFO] jumlah unique ruas data actual: 7567\n",
      "[INFO] jumlah unique ruas data prediction: 8612\n"
     ]
    }
   ],
   "source": [
    "df_eval_conslinreg = utils.get_eval_data(\n",
    "    df_cur, \n",
    "    df_conslinreg_seasonal, #df_conslinreg,\n",
    "    threshold_test, \n",
    "    agg_mode\n",
    ")"
   ]
  },
  {
   "cell_type": "code",
   "execution_count": 42,
   "id": "8084ce12-0b79-44af-9244-bdd877a53fb6",
   "metadata": {
    "tags": []
   },
   "outputs": [
    {
     "data": {
      "text/html": [
       "<div>\n",
       "<style scoped>\n",
       "    .dataframe tbody tr th:only-of-type {\n",
       "        vertical-align: middle;\n",
       "    }\n",
       "\n",
       "    .dataframe tbody tr th {\n",
       "        vertical-align: top;\n",
       "    }\n",
       "\n",
       "    .dataframe thead th {\n",
       "        text-align: right;\n",
       "    }\n",
       "</style>\n",
       "<table border=\"1\" class=\"dataframe\">\n",
       "  <thead>\n",
       "    <tr style=\"text-align: right;\">\n",
       "      <th></th>\n",
       "      <th>smape</th>\n",
       "      <th>mape</th>\n",
       "      <th>wmape</th>\n",
       "      <th>r2_score</th>\n",
       "      <th>rmse</th>\n",
       "      <th>mae</th>\n",
       "      <th>layer</th>\n",
       "      <th>model</th>\n",
       "      <th>yearmonth</th>\n",
       "      <th>yearmonth_train_set</th>\n",
       "      <th>freq</th>\n",
       "      <th>os_username</th>\n",
       "      <th>insert_dma</th>\n",
       "    </tr>\n",
       "  </thead>\n",
       "  <tbody>\n",
       "    <tr>\n",
       "      <th>0</th>\n",
       "      <td>0.035417</td>\n",
       "      <td>inf</td>\n",
       "      <td>0.06921</td>\n",
       "      <td>0.976908</td>\n",
       "      <td>0.801192</td>\n",
       "      <td>0.368584</td>\n",
       "      <td>olt - metro</td>\n",
       "      <td>ConsLinReg</td>\n",
       "      <td>202503</td>\n",
       "      <td>202502</td>\n",
       "      <td>SME</td>\n",
       "      <td>jupyter-896636@telkom.co.i-b8787</td>\n",
       "      <td>2025-04-24 18:05:14.933206</td>\n",
       "    </tr>\n",
       "  </tbody>\n",
       "</table>\n",
       "</div>"
      ],
      "text/plain": [
       "      smape  mape    wmape  r2_score      rmse       mae        layer  \\\n",
       "0  0.035417   inf  0.06921  0.976908  0.801192  0.368584  olt - metro   \n",
       "\n",
       "        model yearmonth yearmonth_train_set freq  \\\n",
       "0  ConsLinReg    202503              202502  SME   \n",
       "\n",
       "                        os_username                 insert_dma  \n",
       "0  jupyter-896636@telkom.co.i-b8787 2025-04-24 18:05:14.933206  "
      ]
     },
     "execution_count": 42,
     "metadata": {},
     "output_type": "execute_result"
    }
   ],
   "source": [
    "metrics = utils.evaluation_model(\n",
    "        y_actual=df_eval_conslinreg[['yearmonth','ruas','traffic']].query(\"yearmonth == @threshold_test\"),\n",
    "        y_pred=df_eval_conslinreg[['yearmonth','ruas','forecast']].query(\"yearmonth == @threshold_test\"),\n",
    "        layer=utils.LAYER_DASH,\n",
    "        model=utils.MODEL_NAME,\n",
    "        threshold=threshold_test,\n",
    "        freq=granularity\n",
    ")\n",
    "    \n",
    "#metrics.replace(np.inf, np.nan).to_sql(\"eval_train_model\", utils.build_db_engine(), if_exists=\"append\", index=None)\n",
    "metrics"
   ]
  },
  {
   "cell_type": "markdown",
   "id": "2532d5de-d9e1-4b33-bdd3-74a1d805d6f7",
   "metadata": {},
   "source": [
    "### 3 months"
   ]
  },
  {
   "cell_type": "markdown",
   "id": "b8921514-3c3a-45f8-81c9-3c51f0f344aa",
   "metadata": {},
   "source": [
    "#### Cut off Test Data"
   ]
  },
  {
   "cell_type": "code",
   "execution_count": 41,
   "id": "4237c966-1f14-4cb5-8b95-fdc89b950827",
   "metadata": {
    "tags": []
   },
   "outputs": [
    {
     "data": {
      "text/plain": [
       "('2025-01', '2025-03', '2025-02', '2025-01')"
      ]
     },
     "execution_count": 41,
     "metadata": {},
     "output_type": "execute_result"
    }
   ],
   "source": [
    "# Get the current date\n",
    "current_date = datetime.today()\n",
    "\n",
    "# 1 month ago\n",
    "months_ago = current_date - pd.DateOffset(months=1)\n",
    "START_TEST_DATE_1 = months_ago.replace(day=1).strftime(\"%Y-%m-%d\")\n",
    "threshold_test_1 = months_ago.replace(day=1).strftime(\"%Y-%m\")\n",
    "\n",
    "# 2 months ago\n",
    "months_ago = current_date - pd.DateOffset(months=2)\n",
    "START_TEST_DATE_2 = months_ago.replace(day=1).strftime(\"%Y-%m-%d\")\n",
    "threshold_test_2 = months_ago.replace(day=1).strftime(\"%Y-%m\")\n",
    "\n",
    "# 3 months ago\n",
    "months_ago = current_date - pd.DateOffset(months=3)\n",
    "START_TEST_DATE_3 = months_ago.replace(day=1).strftime(\"%Y-%m-%d\")\n",
    "threshold_test_3 = months_ago.replace(day=1).strftime(\"%Y-%m\")\n",
    "threshold_test = months_ago.replace(day=1).strftime(\"%Y-%m\")\n",
    "\n",
    "threshold_test, threshold_test_1, threshold_test_2, threshold_test_3"
   ]
  },
  {
   "cell_type": "code",
   "execution_count": 42,
   "id": "e2c86372-a52d-431e-a35a-b836d46308e0",
   "metadata": {
    "tags": []
   },
   "outputs": [],
   "source": [
    "df_train = df_[df_.createddate < START_TEST_DATE_3]"
   ]
  },
  {
   "cell_type": "code",
   "execution_count": 43,
   "id": "da949252-f02a-44ed-9060-8e6ceac23f85",
   "metadata": {
    "tags": []
   },
   "outputs": [
    {
     "data": {
      "text/plain": [
       "('2022-05', '2024-12')"
      ]
     },
     "execution_count": 43,
     "metadata": {},
     "output_type": "execute_result"
    }
   ],
   "source": [
    "df_train.yearmonth.min(), df_train.yearmonth.max()"
   ]
  },
  {
   "cell_type": "markdown",
   "id": "ca0df712-e5c5-4cde-8ee0-1d7460629508",
   "metadata": {},
   "source": [
    "#### Modeling"
   ]
  },
  {
   "cell_type": "code",
   "execution_count": 44,
   "id": "3db5be03-35cb-4d47-baeb-3d4d39be602a",
   "metadata": {
    "tags": []
   },
   "outputs": [],
   "source": [
    "# model configuration\n",
    "growth_factor = 0.2  # default: 0.2"
   ]
  },
  {
   "cell_type": "code",
   "execution_count": 45,
   "id": "75aff965-e30f-4122-a735-012222b77e46",
   "metadata": {
    "tags": []
   },
   "outputs": [],
   "source": [
    "# data for training and testing\n",
    "df_train = utils.create_statsforecast_df(df_train)\n",
    "df_test = utils.create_test_data(df_train, START_TEST_DATE_3, 0)"
   ]
  },
  {
   "cell_type": "code",
   "execution_count": 46,
   "id": "f37550d0-a4a3-4a87-ab7e-f838f6eca8ea",
   "metadata": {
    "tags": []
   },
   "outputs": [
    {
     "data": {
      "text/plain": [
       "('2024-12', '2025-01', '2025-03')"
      ]
     },
     "execution_count": 46,
     "metadata": {},
     "output_type": "execute_result"
    }
   ],
   "source": [
    "df_train.yearmonth.max(), df_test.yearmonth.min(), df_test.yearmonth.max()"
   ]
  },
  {
   "cell_type": "code",
   "execution_count": 47,
   "id": "d6803ee6-d45a-4d20-b8ad-f71000788c29",
   "metadata": {
    "tags": []
   },
   "outputs": [],
   "source": [
    "with multiprocessing.Pool() as a_pool:\n",
    "     result = a_pool.starmap(\n",
    "            model.predictions,\n",
    "            [(ruas, df_train, df_test, granularity, agg_mode, growth_factor) \\\n",
    "             for ruas in df_train.unique_id.unique()]\n",
    ")"
   ]
  },
  {
   "cell_type": "code",
   "execution_count": 48,
   "id": "cc1f633b-aa1a-4baa-9f1d-4a95719902ca",
   "metadata": {
    "tags": []
   },
   "outputs": [],
   "source": [
    "result = pd.concat(result, ignore_index=True)\n",
    "df_conslinreg = result[['unique_id', 'forecast', 'yearmonth']].rename(columns={'unique_id': 'ruas'}).copy()"
   ]
  },
  {
   "cell_type": "markdown",
   "id": "0cb6da04-bbeb-489a-b6e6-cd10de4a40e1",
   "metadata": {},
   "source": [
    "#### Seasonality"
   ]
  },
  {
   "cell_type": "code",
   "execution_count": 49,
   "id": "0bf26399-4c9b-4fa2-8682-4d887f8f27ae",
   "metadata": {
    "tags": []
   },
   "outputs": [],
   "source": [
    "# post-processing: add seasonality\n",
    "df_conslinreg_deviation_agg = pd.concat([\n",
    "    model.calculate_deviation_in_percent(\n",
    "        df_train, ruas, granularity, agg_mode, growth_factor, seasonality_factor\n",
    "    ).groupby(['ruas','month_name'], as_index=False).agg(avg_deviation=('deviation','mean')) \\\n",
    "    for ruas in df_conslinreg.ruas.unique()\n",
    "])\n",
    "\n",
    "df_conslinreg_seasonal = model.add_seasonality(\n",
    "    df_conslinreg_deviation_agg, \n",
    "    df_conslinreg\n",
    ")"
   ]
  },
  {
   "cell_type": "markdown",
   "id": "d49cc066-7359-46bd-b6e3-631379ae1c1c",
   "metadata": {},
   "source": [
    "#### Metrics"
   ]
  },
  {
   "cell_type": "code",
   "execution_count": 50,
   "id": "e7bdb580-551c-49e3-881c-108e19cb8118",
   "metadata": {
    "tags": []
   },
   "outputs": [],
   "source": [
    "df_cur = pd.read_csv(\"data/daily_data.csv\")\n",
    "df_cur.drop('reg', axis=1, inplace=True)\n",
    "\n",
    "df_cur.createddate = pd.to_datetime(df_cur.createddate)\n",
    "df_cur['yearmonth'] = df_cur['createddate'].dt.strftime('%Y-%m')"
   ]
  },
  {
   "cell_type": "code",
   "execution_count": 51,
   "id": "f0b173a5-5314-423d-bb46-90ff296acc6b",
   "metadata": {
    "tags": []
   },
   "outputs": [
    {
     "data": {
      "text/plain": [
       "yearmonth\n",
       "2025-03    226966\n",
       "2025-01    222768\n",
       "2024-12    222458\n",
       "2024-10    220491\n",
       "2024-08    215969\n",
       "2024-11    214099\n",
       "2024-09    211992\n",
       "2024-07    207306\n",
       "2024-05    206416\n",
       "2024-06    200016\n",
       "2024-04    199807\n",
       "2025-02    195856\n",
       "2023-12    179305\n",
       "2024-01    179253\n",
       "2023-07    174564\n",
       "2023-09    174531\n",
       "2023-05    171543\n",
       "2023-06    170916\n",
       "2022-10    169320\n",
       "2022-12    168874\n",
       "2023-01    166082\n",
       "2022-08    165929\n",
       "2022-07    164657\n",
       "2023-08    163142\n",
       "2022-11    159281\n",
       "2023-11    153366\n",
       "2023-02    146778\n",
       "2023-10    146233\n",
       "2023-04    129571\n",
       "2024-03    107663\n",
       "2022-09     81298\n",
       "2022-06     58768\n",
       "2024-02     23945\n",
       "Name: count, dtype: int64"
      ]
     },
     "execution_count": 51,
     "metadata": {},
     "output_type": "execute_result"
    }
   ],
   "source": [
    "df_cur['yearmonth'].value_counts()"
   ]
  },
  {
   "cell_type": "code",
   "execution_count": 52,
   "id": "6931dac5-a12e-4141-9222-89c147d457be",
   "metadata": {
    "tags": []
   },
   "outputs": [
    {
     "name": "stdout",
     "output_type": "stream",
     "text": [
      "[INFO] jumlah unique ruas data actual: 7614\n",
      "[INFO] jumlah unique ruas data prediction: 8516\n"
     ]
    }
   ],
   "source": [
    "df_eval_conslinreg = utils.get_eval_data(\n",
    "    df_cur, \n",
    "    df_conslinreg_seasonal, #df_conslinreg, \n",
    "    threshold_test, \n",
    "    agg_mode\n",
    ")"
   ]
  },
  {
   "cell_type": "code",
   "execution_count": 53,
   "id": "e6b5de71-487a-48bf-9550-2698e98c96ff",
   "metadata": {
    "tags": []
   },
   "outputs": [
    {
     "data": {
      "text/html": [
       "<div>\n",
       "<style scoped>\n",
       "    .dataframe tbody tr th:only-of-type {\n",
       "        vertical-align: middle;\n",
       "    }\n",
       "\n",
       "    .dataframe tbody tr th {\n",
       "        vertical-align: top;\n",
       "    }\n",
       "\n",
       "    .dataframe thead th {\n",
       "        text-align: right;\n",
       "    }\n",
       "</style>\n",
       "<table border=\"1\" class=\"dataframe\">\n",
       "  <thead>\n",
       "    <tr style=\"text-align: right;\">\n",
       "      <th></th>\n",
       "      <th>smape</th>\n",
       "      <th>mape</th>\n",
       "      <th>wmape</th>\n",
       "      <th>r2_score</th>\n",
       "      <th>rmse</th>\n",
       "      <th>mae</th>\n",
       "      <th>layer</th>\n",
       "      <th>model</th>\n",
       "      <th>yearmonth</th>\n",
       "      <th>yearmonth_train_set</th>\n",
       "      <th>freq</th>\n",
       "      <th>os_username</th>\n",
       "      <th>insert_dma</th>\n",
       "    </tr>\n",
       "  </thead>\n",
       "  <tbody>\n",
       "    <tr>\n",
       "      <th>0</th>\n",
       "      <td>0.056063</td>\n",
       "      <td>inf</td>\n",
       "      <td>0.088941</td>\n",
       "      <td>0.96547</td>\n",
       "      <td>0.980572</td>\n",
       "      <td>0.478501</td>\n",
       "      <td>olt - metro</td>\n",
       "      <td>ConsLinReg</td>\n",
       "      <td>202503</td>\n",
       "      <td>202412</td>\n",
       "      <td>SME</td>\n",
       "      <td>jupyter-896636@telkom.co.i-b8787</td>\n",
       "      <td>2025-04-08 14:05:24.117884</td>\n",
       "    </tr>\n",
       "  </tbody>\n",
       "</table>\n",
       "</div>"
      ],
      "text/plain": [
       "      smape  mape     wmape  r2_score      rmse       mae        layer  \\\n",
       "0  0.056063   inf  0.088941   0.96547  0.980572  0.478501  olt - metro   \n",
       "\n",
       "        model yearmonth yearmonth_train_set freq  \\\n",
       "0  ConsLinReg    202503              202412  SME   \n",
       "\n",
       "                        os_username                 insert_dma  \n",
       "0  jupyter-896636@telkom.co.i-b8787 2025-04-08 14:05:24.117884  "
      ]
     },
     "execution_count": 53,
     "metadata": {},
     "output_type": "execute_result"
    }
   ],
   "source": [
    "# last month\n",
    "metrics = utils.evaluation_model(\n",
    "        y_actual=df_eval_conslinreg[['yearmonth','ruas','traffic']].query(\"yearmonth == @threshold_test_1\"),\n",
    "        y_pred=df_eval_conslinreg[['yearmonth','ruas','forecast']].query(\"yearmonth == @threshold_test_1\"),\n",
    "        layer=utils.LAYER_DASH,\n",
    "        model=utils.MODEL_NAME,\n",
    "        threshold=threshold_test_1,\n",
    "        freq=granularity,\n",
    "        train_period=threshold_test_3\n",
    ")\n",
    "    \n",
    "metrics.replace(np.inf, np.nan).to_sql(\"eval_train_model_t3\", utils.build_db_engine(), if_exists=\"append\", index=None)\n",
    "metrics"
   ]
  },
  {
   "cell_type": "code",
   "execution_count": 54,
   "id": "0d035afb-7d20-4131-8a1a-b1790315c9ba",
   "metadata": {
    "tags": []
   },
   "outputs": [
    {
     "data": {
      "text/html": [
       "<div>\n",
       "<style scoped>\n",
       "    .dataframe tbody tr th:only-of-type {\n",
       "        vertical-align: middle;\n",
       "    }\n",
       "\n",
       "    .dataframe tbody tr th {\n",
       "        vertical-align: top;\n",
       "    }\n",
       "\n",
       "    .dataframe thead th {\n",
       "        text-align: right;\n",
       "    }\n",
       "</style>\n",
       "<table border=\"1\" class=\"dataframe\">\n",
       "  <thead>\n",
       "    <tr style=\"text-align: right;\">\n",
       "      <th></th>\n",
       "      <th>smape</th>\n",
       "      <th>mape</th>\n",
       "      <th>wmape</th>\n",
       "      <th>r2_score</th>\n",
       "      <th>rmse</th>\n",
       "      <th>mae</th>\n",
       "      <th>layer</th>\n",
       "      <th>model</th>\n",
       "      <th>yearmonth</th>\n",
       "      <th>yearmonth_train_set</th>\n",
       "      <th>freq</th>\n",
       "      <th>os_username</th>\n",
       "      <th>insert_dma</th>\n",
       "    </tr>\n",
       "  </thead>\n",
       "  <tbody>\n",
       "    <tr>\n",
       "      <th>0</th>\n",
       "      <td>0.042382</td>\n",
       "      <td>inf</td>\n",
       "      <td>0.081072</td>\n",
       "      <td>0.974715</td>\n",
       "      <td>0.8364</td>\n",
       "      <td>0.430621</td>\n",
       "      <td>olt - metro</td>\n",
       "      <td>ConsLinReg</td>\n",
       "      <td>202502</td>\n",
       "      <td>202412</td>\n",
       "      <td>SME</td>\n",
       "      <td>jupyter-896636@telkom.co.i-b8787</td>\n",
       "      <td>2025-04-08 14:05:28.488794</td>\n",
       "    </tr>\n",
       "  </tbody>\n",
       "</table>\n",
       "</div>"
      ],
      "text/plain": [
       "      smape  mape     wmape  r2_score    rmse       mae        layer  \\\n",
       "0  0.042382   inf  0.081072  0.974715  0.8364  0.430621  olt - metro   \n",
       "\n",
       "        model yearmonth yearmonth_train_set freq  \\\n",
       "0  ConsLinReg    202502              202412  SME   \n",
       "\n",
       "                        os_username                 insert_dma  \n",
       "0  jupyter-896636@telkom.co.i-b8787 2025-04-08 14:05:28.488794  "
      ]
     },
     "execution_count": 54,
     "metadata": {},
     "output_type": "execute_result"
    }
   ],
   "source": [
    "# two months ago\n",
    "metrics = utils.evaluation_model(\n",
    "        y_actual=df_eval_conslinreg[['yearmonth','ruas','traffic']].query(\"yearmonth == @threshold_test_2\"),\n",
    "        y_pred=df_eval_conslinreg[['yearmonth','ruas','forecast']].query(\"yearmonth == @threshold_test_2\"),\n",
    "        layer=utils.LAYER_DASH,\n",
    "        model=utils.MODEL_NAME,\n",
    "        threshold=threshold_test_2,\n",
    "        freq=granularity,\n",
    "        train_period=threshold_test_3\n",
    ")\n",
    "    \n",
    "metrics.replace(np.inf, np.nan).to_sql(\"eval_train_model_t3\", utils.build_db_engine(), if_exists=\"append\", index=None)\n",
    "metrics"
   ]
  },
  {
   "cell_type": "code",
   "execution_count": 55,
   "id": "daee4fba-227b-47b4-b111-05865664994e",
   "metadata": {
    "tags": []
   },
   "outputs": [
    {
     "data": {
      "text/html": [
       "<div>\n",
       "<style scoped>\n",
       "    .dataframe tbody tr th:only-of-type {\n",
       "        vertical-align: middle;\n",
       "    }\n",
       "\n",
       "    .dataframe tbody tr th {\n",
       "        vertical-align: top;\n",
       "    }\n",
       "\n",
       "    .dataframe thead th {\n",
       "        text-align: right;\n",
       "    }\n",
       "</style>\n",
       "<table border=\"1\" class=\"dataframe\">\n",
       "  <thead>\n",
       "    <tr style=\"text-align: right;\">\n",
       "      <th></th>\n",
       "      <th>smape</th>\n",
       "      <th>mape</th>\n",
       "      <th>wmape</th>\n",
       "      <th>r2_score</th>\n",
       "      <th>rmse</th>\n",
       "      <th>mae</th>\n",
       "      <th>layer</th>\n",
       "      <th>model</th>\n",
       "      <th>yearmonth</th>\n",
       "      <th>yearmonth_train_set</th>\n",
       "      <th>freq</th>\n",
       "      <th>os_username</th>\n",
       "      <th>insert_dma</th>\n",
       "    </tr>\n",
       "  </thead>\n",
       "  <tbody>\n",
       "    <tr>\n",
       "      <th>0</th>\n",
       "      <td>0.034752</td>\n",
       "      <td>inf</td>\n",
       "      <td>0.074731</td>\n",
       "      <td>0.980345</td>\n",
       "      <td>0.730952</td>\n",
       "      <td>0.391208</td>\n",
       "      <td>olt - metro</td>\n",
       "      <td>ConsLinReg</td>\n",
       "      <td>202501</td>\n",
       "      <td>202412</td>\n",
       "      <td>SME</td>\n",
       "      <td>jupyter-896636@telkom.co.i-b8787</td>\n",
       "      <td>2025-04-08 14:05:32.437410</td>\n",
       "    </tr>\n",
       "  </tbody>\n",
       "</table>\n",
       "</div>"
      ],
      "text/plain": [
       "      smape  mape     wmape  r2_score      rmse       mae        layer  \\\n",
       "0  0.034752   inf  0.074731  0.980345  0.730952  0.391208  olt - metro   \n",
       "\n",
       "        model yearmonth yearmonth_train_set freq  \\\n",
       "0  ConsLinReg    202501              202412  SME   \n",
       "\n",
       "                        os_username                 insert_dma  \n",
       "0  jupyter-896636@telkom.co.i-b8787 2025-04-08 14:05:32.437410  "
      ]
     },
     "execution_count": 55,
     "metadata": {},
     "output_type": "execute_result"
    }
   ],
   "source": [
    "# three months ago\n",
    "metrics = utils.evaluation_model(\n",
    "        y_actual=df_eval_conslinreg[['yearmonth','ruas','traffic']].query(\"yearmonth == @threshold_test_3\"),\n",
    "        y_pred=df_eval_conslinreg[['yearmonth','ruas','forecast']].query(\"yearmonth == @threshold_test_3\"),\n",
    "        layer=utils.LAYER_DASH,\n",
    "        model=utils.MODEL_NAME,\n",
    "        threshold=threshold_test_3,\n",
    "        freq=granularity,\n",
    "        train_period=threshold_test_3\n",
    ")\n",
    "    \n",
    "metrics.replace(np.inf, np.nan).to_sql(\"eval_train_model_t3\", utils.build_db_engine(), if_exists=\"append\", index=None)\n",
    "metrics"
   ]
  },
  {
   "cell_type": "markdown",
   "id": "25358d59-ed11-4b92-92e5-1096b2b1fbc4",
   "metadata": {},
   "source": [
    "# Forecast All Data"
   ]
  },
  {
   "cell_type": "code",
   "execution_count": 56,
   "id": "28b8d475-3d8c-4e4f-82cd-6afb474e522f",
   "metadata": {},
   "outputs": [
    {
     "data": {
      "text/html": [
       "<div>\n",
       "<style scoped>\n",
       "    .dataframe tbody tr th:only-of-type {\n",
       "        vertical-align: middle;\n",
       "    }\n",
       "\n",
       "    .dataframe tbody tr th {\n",
       "        vertical-align: top;\n",
       "    }\n",
       "\n",
       "    .dataframe thead th {\n",
       "        text-align: right;\n",
       "    }\n",
       "</style>\n",
       "<table border=\"1\" class=\"dataframe\">\n",
       "  <thead>\n",
       "    <tr style=\"text-align: right;\">\n",
       "      <th></th>\n",
       "      <th>ruas</th>\n",
       "      <th>createddate</th>\n",
       "      <th>traffic</th>\n",
       "      <th>yearmonth</th>\n",
       "    </tr>\n",
       "  </thead>\n",
       "  <tbody>\n",
       "    <tr>\n",
       "      <th>0</th>\n",
       "      <td>09-MBS-35_to_ME-D2-KT2</td>\n",
       "      <td>2022-11-30</td>\n",
       "      <td>0.0</td>\n",
       "      <td>2022-11</td>\n",
       "    </tr>\n",
       "    <tr>\n",
       "      <th>1</th>\n",
       "      <td>09-MBS-35_to_ME-D2-KT2</td>\n",
       "      <td>2022-12-15</td>\n",
       "      <td>0.0</td>\n",
       "      <td>2022-12</td>\n",
       "    </tr>\n",
       "    <tr>\n",
       "      <th>2</th>\n",
       "      <td>09-MBS-35_to_ME-D2-KT2</td>\n",
       "      <td>2022-12-31</td>\n",
       "      <td>0.0</td>\n",
       "      <td>2022-12</td>\n",
       "    </tr>\n",
       "    <tr>\n",
       "      <th>3</th>\n",
       "      <td>09-MBS-35_to_ME-D2-KT2</td>\n",
       "      <td>2023-01-15</td>\n",
       "      <td>0.0</td>\n",
       "      <td>2023-01</td>\n",
       "    </tr>\n",
       "    <tr>\n",
       "      <th>4</th>\n",
       "      <td>09-MBS-35_to_ME-D2-KT2</td>\n",
       "      <td>2023-01-31</td>\n",
       "      <td>0.0</td>\n",
       "      <td>2023-01</td>\n",
       "    </tr>\n",
       "  </tbody>\n",
       "</table>\n",
       "</div>"
      ],
      "text/plain": [
       "                     ruas createddate  traffic yearmonth\n",
       "0  09-MBS-35_to_ME-D2-KT2  2022-11-30      0.0   2022-11\n",
       "1  09-MBS-35_to_ME-D2-KT2  2022-12-15      0.0   2022-12\n",
       "2  09-MBS-35_to_ME-D2-KT2  2022-12-31      0.0   2022-12\n",
       "3  09-MBS-35_to_ME-D2-KT2  2023-01-15      0.0   2023-01\n",
       "4  09-MBS-35_to_ME-D2-KT2  2023-01-31      0.0   2023-01"
      ]
     },
     "execution_count": 56,
     "metadata": {},
     "output_type": "execute_result"
    }
   ],
   "source": [
    "df = pd.read_csv(\"data/data_mean_mod.csv\")\n",
    "\n",
    "df.createddate = pd.to_datetime(df.createddate)\n",
    "df['yearmonth'] = df['createddate'].dt.strftime('%Y-%m')\n",
    "\n",
    "df.head()"
   ]
  },
  {
   "cell_type": "markdown",
   "id": "58ecf75a-e00d-4734-8197-88e94efa2f3e",
   "metadata": {},
   "source": [
    "## Remove old and new ruas"
   ]
  },
  {
   "cell_type": "code",
   "execution_count": 57,
   "id": "a93fb2cb-3c50-4988-864a-5bab3623ccd1",
   "metadata": {
    "tags": []
   },
   "outputs": [
    {
     "data": {
      "text/plain": [
       "(8739, 7419)"
      ]
     },
     "execution_count": 57,
     "metadata": {},
     "output_type": "execute_result"
    }
   ],
   "source": [
    "# Remove old ruas\n",
    "old_ruas = utils.extract_old_ruas(df)\n",
    "\n",
    "# Remove new ruas\n",
    "new_ruas = utils.extract_new_ruas(df)\n",
    "\n",
    "# Get forecast-able ruas\n",
    "df_ = df[~df['ruas'].isin(old_ruas['ruas'])]\n",
    "df_ = df_[~df_['ruas'].isin(new_ruas['ruas'])]\n",
    "\n",
    "not_forecast_ruas = old_ruas['ruas'].to_list() + new_ruas['ruas'].to_list()\n",
    "\n",
    "df['ruas'].nunique(), df_['ruas'].nunique()"
   ]
  },
  {
   "cell_type": "markdown",
   "id": "7467c4c0-dbea-4b27-899a-8c2428989e54",
   "metadata": {},
   "source": [
    "## Last value"
   ]
  },
  {
   "cell_type": "code",
   "execution_count": 58,
   "id": "64450aa9-ece8-4ee7-90d1-e9debbbd9edd",
   "metadata": {
    "tags": []
   },
   "outputs": [
    {
     "data": {
      "text/plain": [
       "1320"
      ]
     },
     "execution_count": 58,
     "metadata": {},
     "output_type": "execute_result"
    }
   ],
   "source": [
    "# last value before modeling (only for old ruas)\n",
    "\n",
    "df_lv = df[df['ruas'].isin(not_forecast_ruas)]\n",
    "df_lv['ruas'].nunique()"
   ]
  },
  {
   "cell_type": "code",
   "execution_count": 59,
   "id": "1971d80c-1831-4387-8b8a-0b0c805a2fac",
   "metadata": {
    "tags": []
   },
   "outputs": [
    {
     "data": {
      "text/plain": [
       "8739"
      ]
     },
     "execution_count": 59,
     "metadata": {},
     "output_type": "execute_result"
    }
   ],
   "source": [
    "# Combine last value with original df\n",
    "lv = utils.last_value(df_lv)\n",
    "df_ = pd.concat([df_, lv], axis=0, ignore_index=True)\n",
    "df_['ruas'].nunique()"
   ]
  },
  {
   "cell_type": "markdown",
   "id": "97c7a168-73d4-44e0-baa9-d00578f330bf",
   "metadata": {},
   "source": [
    "## Modeling"
   ]
  },
  {
   "cell_type": "code",
   "execution_count": 60,
   "id": "fddbdd23-aa09-4b61-8970-7ee8d97ef9cc",
   "metadata": {
    "tags": []
   },
   "outputs": [
    {
     "data": {
      "text/plain": [
       "Timestamp('2025-04-01 00:00:00')"
      ]
     },
     "execution_count": 60,
     "metadata": {},
     "output_type": "execute_result"
    }
   ],
   "source": [
    "# Create a Pandas Timestamp object from the current date\n",
    "current_date_timestamp = pd.Timestamp(datetime.now())\n",
    "\n",
    "# Get the first day of the current month\n",
    "first_day_of_month = current_date_timestamp.replace(\n",
    "    day=1, hour=0, minute=0, second=0, microsecond=0\n",
    ")\n",
    "\n",
    "# Print the result\n",
    "first_day_of_month"
   ]
  },
  {
   "cell_type": "code",
   "execution_count": 61,
   "id": "9b136a21-b445-4f37-83fd-3ee0eba22f3c",
   "metadata": {
    "tags": []
   },
   "outputs": [],
   "source": [
    "# model configuration\n",
    "growth_factor = 0.2  # default: 0.2"
   ]
  },
  {
   "cell_type": "code",
   "execution_count": 62,
   "id": "f5ef3d40-22c7-428e-8029-ef070365c986",
   "metadata": {
    "tags": []
   },
   "outputs": [
    {
     "data": {
      "text/plain": [
       "Timestamp('2025-03-31 00:00:00')"
      ]
     },
     "execution_count": 62,
     "metadata": {},
     "output_type": "execute_result"
    }
   ],
   "source": [
    "# data cut off\n",
    "df_ = df_[df_.createddate < first_day_of_month]\n",
    "df_.createddate.max()"
   ]
  },
  {
   "cell_type": "code",
   "execution_count": 63,
   "id": "59aaea16-b603-4945-a752-ef0c500ebf38",
   "metadata": {
    "tags": []
   },
   "outputs": [
    {
     "data": {
      "text/plain": [
       "'2025-04-01'"
      ]
     },
     "execution_count": 63,
     "metadata": {},
     "output_type": "execute_result"
    }
   ],
   "source": [
    "# data for training and testing\n",
    "df_train = df_.copy()\n",
    "df_train = utils.create_statsforecast_df(df_train)\n",
    "\n",
    "START_DATE = datetime.now().strftime(\"%Y-%m-01\")\n",
    "df_test = utils.create_test_data(df_train, START_DATE, 1)\n",
    "START_DATE"
   ]
  },
  {
   "cell_type": "code",
   "execution_count": 64,
   "id": "eaa714e8-ab8b-476d-8271-5c62106a76ec",
   "metadata": {
    "tags": []
   },
   "outputs": [
    {
     "data": {
      "text/plain": [
       "('2025-03', '2025-04', '2026-04')"
      ]
     },
     "execution_count": 64,
     "metadata": {},
     "output_type": "execute_result"
    }
   ],
   "source": [
    "df_train.yearmonth.max(), df_test.yearmonth.min(), df_test.yearmonth.max()"
   ]
  },
  {
   "cell_type": "code",
   "execution_count": 65,
   "id": "b4151e62-f7ce-4a3c-b663-4e2f6bf16139",
   "metadata": {
    "tags": []
   },
   "outputs": [],
   "source": [
    "with multiprocessing.Pool() as a_pool:\n",
    "     result = a_pool.starmap(\n",
    "            model.predictions,\n",
    "            [(ruas, df_train, df_test, granularity, agg_mode, growth_factor) \\\n",
    "             for ruas in df_train.unique_id.unique()]\n",
    ")"
   ]
  },
  {
   "cell_type": "code",
   "execution_count": 66,
   "id": "3c4a3eb7-2d37-4980-bff6-a17ca9d337fb",
   "metadata": {
    "tags": []
   },
   "outputs": [
    {
     "data": {
      "text/html": [
       "<div>\n",
       "<style scoped>\n",
       "    .dataframe tbody tr th:only-of-type {\n",
       "        vertical-align: middle;\n",
       "    }\n",
       "\n",
       "    .dataframe tbody tr th {\n",
       "        vertical-align: top;\n",
       "    }\n",
       "\n",
       "    .dataframe thead th {\n",
       "        text-align: right;\n",
       "    }\n",
       "</style>\n",
       "<table border=\"1\" class=\"dataframe\">\n",
       "  <thead>\n",
       "    <tr style=\"text-align: right;\">\n",
       "      <th></th>\n",
       "      <th>ruas</th>\n",
       "      <th>forecast</th>\n",
       "      <th>yearmonth</th>\n",
       "    </tr>\n",
       "  </thead>\n",
       "  <tbody>\n",
       "    <tr>\n",
       "      <th>0</th>\n",
       "      <td>BLADE-D2-LEGOK-2_to_OTHER</td>\n",
       "      <td>3.529345e-08</td>\n",
       "      <td>2025-04</td>\n",
       "    </tr>\n",
       "    <tr>\n",
       "      <th>1</th>\n",
       "      <td>BLADE-D2-LEGOK-2_to_OTHER</td>\n",
       "      <td>5.882242e-08</td>\n",
       "      <td>2025-05</td>\n",
       "    </tr>\n",
       "    <tr>\n",
       "      <th>2</th>\n",
       "      <td>BLADE-D2-LEGOK-2_to_OTHER</td>\n",
       "      <td>8.235139e-08</td>\n",
       "      <td>2025-06</td>\n",
       "    </tr>\n",
       "    <tr>\n",
       "      <th>3</th>\n",
       "      <td>BLADE-D2-LEGOK-2_to_OTHER</td>\n",
       "      <td>1.176448e-07</td>\n",
       "      <td>2025-07</td>\n",
       "    </tr>\n",
       "    <tr>\n",
       "      <th>4</th>\n",
       "      <td>BLADE-D2-LEGOK-2_to_OTHER</td>\n",
       "      <td>1.411738e-07</td>\n",
       "      <td>2025-08</td>\n",
       "    </tr>\n",
       "  </tbody>\n",
       "</table>\n",
       "</div>"
      ],
      "text/plain": [
       "                        ruas      forecast yearmonth\n",
       "0  BLADE-D2-LEGOK-2_to_OTHER  3.529345e-08   2025-04\n",
       "1  BLADE-D2-LEGOK-2_to_OTHER  5.882242e-08   2025-05\n",
       "2  BLADE-D2-LEGOK-2_to_OTHER  8.235139e-08   2025-06\n",
       "3  BLADE-D2-LEGOK-2_to_OTHER  1.176448e-07   2025-07\n",
       "4  BLADE-D2-LEGOK-2_to_OTHER  1.411738e-07   2025-08"
      ]
     },
     "execution_count": 66,
     "metadata": {},
     "output_type": "execute_result"
    }
   ],
   "source": [
    "result = pd.concat(result, ignore_index=True)\n",
    "df_conslinreg = result[['unique_id', 'forecast', 'yearmonth']].rename(columns={'unique_id': 'ruas'}).copy()\n",
    "df_conslinreg.to_csv(\"data/prediction_dataset_all.csv\", index=None)\n",
    "\n",
    "df_conslinreg.head()"
   ]
  },
  {
   "cell_type": "markdown",
   "id": "9557e0dc-45e8-4e3c-afd5-1992b4bdfede",
   "metadata": {},
   "source": [
    "## Seasonality"
   ]
  },
  {
   "cell_type": "code",
   "execution_count": 67,
   "id": "f476420f-7008-476d-8f21-bddd54d71af7",
   "metadata": {
    "tags": []
   },
   "outputs": [],
   "source": [
    "# Get trend (growth)\n",
    "df_conslinreg_deviation_agg = pd.concat([\n",
    "    model.calculate_deviation_in_percent(\n",
    "        df_train, ruas, granularity, agg_mode, growth_factor, seasonality_factor\n",
    "    ).groupby(['ruas','month_name'], as_index=False).agg(avg_deviation=('deviation','mean')) \\\n",
    "    for ruas in df_conslinreg.ruas.unique()\n",
    "])\n",
    "\n",
    "# Compute seasonality\n",
    "df_conslinreg_seasonal = model.add_seasonality(\n",
    "    df_conslinreg_deviation_agg, \n",
    "    df_conslinreg\n",
    ")"
   ]
  },
  {
   "cell_type": "code",
   "execution_count": 68,
   "id": "090fef1f-6060-497a-88a3-157df8b36aab",
   "metadata": {
    "tags": []
   },
   "outputs": [],
   "source": [
    "df_conslinreg.to_csv(f\"data/{utils.LAYER}_before_seasonality.csv\", index=None)\n",
    "df_conslinreg_seasonal.to_csv(f\"data/{utils.LAYER}_after_seasonality.csv\", index=None)"
   ]
  },
  {
   "cell_type": "markdown",
   "id": "62427912-b662-4c08-b128-bde926c45422",
   "metadata": {},
   "source": [
    "# Save DB"
   ]
  },
  {
   "cell_type": "code",
   "execution_count": 69,
   "id": "0cd90547-55b1-4f8a-8dfe-81f3e80dd1d5",
   "metadata": {
    "tags": []
   },
   "outputs": [
    {
     "data": {
      "text/plain": [
       "('2025-03-01', '2025-03')"
      ]
     },
     "execution_count": 69,
     "metadata": {},
     "output_type": "execute_result"
    }
   ],
   "source": [
    "# Get the current date\n",
    "current_date = datetime.today()\n",
    "\n",
    "# Calculate the date 1 month ago\n",
    "one_month_ago = current_date - pd.DateOffset(months=1)\n",
    "\n",
    "# Get the first day of the month for the calculated date\n",
    "START_TEST_DATE = one_month_ago.replace(day=1).strftime(\"%Y-%m-%d\")\n",
    "threshold_test = one_month_ago.replace(day=1).strftime(\"%Y-%m\")\n",
    "\n",
    "START_TEST_DATE, threshold_test"
   ]
  },
  {
   "cell_type": "markdown",
   "id": "25a6424b-004c-4afa-b3e1-2b94eb0b40fc",
   "metadata": {},
   "source": [
    "## Get capacity"
   ]
  },
  {
   "cell_type": "code",
   "execution_count": 70,
   "id": "e9078f8e-9fab-4472-a0bd-f8dc7a78d6ea",
   "metadata": {
    "tags": []
   },
   "outputs": [
    {
     "data": {
      "text/html": [
       "<div>\n",
       "<style scoped>\n",
       "    .dataframe tbody tr th:only-of-type {\n",
       "        vertical-align: middle;\n",
       "    }\n",
       "\n",
       "    .dataframe tbody tr th {\n",
       "        vertical-align: top;\n",
       "    }\n",
       "\n",
       "    .dataframe thead th {\n",
       "        text-align: right;\n",
       "    }\n",
       "</style>\n",
       "<table border=\"1\" class=\"dataframe\">\n",
       "  <thead>\n",
       "    <tr style=\"text-align: right;\">\n",
       "      <th></th>\n",
       "      <th>createddate</th>\n",
       "      <th>reg</th>\n",
       "      <th>node</th>\n",
       "      <th>metro</th>\n",
       "      <th>ruas</th>\n",
       "      <th>traffic</th>\n",
       "      <th>cap</th>\n",
       "      <th>sumber</th>\n",
       "      <th>mode</th>\n",
       "      <th>yearmonth</th>\n",
       "    </tr>\n",
       "  </thead>\n",
       "  <tbody>\n",
       "    <tr>\n",
       "      <th>0</th>\n",
       "      <td>2025-04-07</td>\n",
       "      <td>2</td>\n",
       "      <td>GP0N00-D2-BJT-2PMR</td>\n",
       "      <td>OTHER</td>\n",
       "      <td>GP0N00-D2-BJT-2PMR_to_OTHER</td>\n",
       "      <td>0.05</td>\n",
       "      <td>10.0</td>\n",
       "      <td>NaN</td>\n",
       "      <td>uplink_n</td>\n",
       "      <td>2025-04</td>\n",
       "    </tr>\n",
       "    <tr>\n",
       "      <th>1</th>\n",
       "      <td>2025-04-07</td>\n",
       "      <td>1</td>\n",
       "      <td>GPON00-D1-AGR-2</td>\n",
       "      <td>ME-D1-AGRA</td>\n",
       "      <td>GPON00-D1-AGR-2_to_ME-D1-AGRA</td>\n",
       "      <td>0.00</td>\n",
       "      <td>1.0</td>\n",
       "      <td>lldp</td>\n",
       "      <td>uplink_n</td>\n",
       "      <td>2025-04</td>\n",
       "    </tr>\n",
       "    <tr>\n",
       "      <th>2</th>\n",
       "      <td>2025-04-07</td>\n",
       "      <td>1</td>\n",
       "      <td>GPON00-D1-AGR-3KRP</td>\n",
       "      <td>ME-D1-BNKC</td>\n",
       "      <td>GPON00-D1-AGR-3KRP_to_ME-D1-AGRA</td>\n",
       "      <td>0.00</td>\n",
       "      <td>10.0</td>\n",
       "      <td>lldp</td>\n",
       "      <td>uplink_n</td>\n",
       "      <td>2025-04</td>\n",
       "    </tr>\n",
       "    <tr>\n",
       "      <th>3</th>\n",
       "      <td>2025-04-07</td>\n",
       "      <td>1</td>\n",
       "      <td>GPON00-D1-AMK-2UKUI</td>\n",
       "      <td>OTHER</td>\n",
       "      <td>GPON00-D1-AMK-2UKUI_to_ME-D1-RGTA</td>\n",
       "      <td>0.00</td>\n",
       "      <td>10.0</td>\n",
       "      <td>lldp</td>\n",
       "      <td>uplink_n</td>\n",
       "      <td>2025-04</td>\n",
       "    </tr>\n",
       "    <tr>\n",
       "      <th>4</th>\n",
       "      <td>2025-04-07</td>\n",
       "      <td>1</td>\n",
       "      <td>GPON00-D1-ANR-2</td>\n",
       "      <td>ME-D1-ANRA</td>\n",
       "      <td>GPON00-D1-ANR-2_to_ME-D1-ANRA</td>\n",
       "      <td>0.00</td>\n",
       "      <td>3.0</td>\n",
       "      <td>lldp</td>\n",
       "      <td>uplink_n</td>\n",
       "      <td>2025-04</td>\n",
       "    </tr>\n",
       "  </tbody>\n",
       "</table>\n",
       "</div>"
      ],
      "text/plain": [
       "  createddate  reg                 node       metro  \\\n",
       "0  2025-04-07    2   GP0N00-D2-BJT-2PMR       OTHER   \n",
       "1  2025-04-07    1      GPON00-D1-AGR-2  ME-D1-AGRA   \n",
       "2  2025-04-07    1   GPON00-D1-AGR-3KRP  ME-D1-BNKC   \n",
       "3  2025-04-07    1  GPON00-D1-AMK-2UKUI       OTHER   \n",
       "4  2025-04-07    1      GPON00-D1-ANR-2  ME-D1-ANRA   \n",
       "\n",
       "                                ruas  traffic   cap sumber      mode yearmonth  \n",
       "0        GP0N00-D2-BJT-2PMR_to_OTHER     0.05  10.0    NaN  uplink_n   2025-04  \n",
       "1      GPON00-D1-AGR-2_to_ME-D1-AGRA     0.00   1.0   lldp  uplink_n   2025-04  \n",
       "2   GPON00-D1-AGR-3KRP_to_ME-D1-AGRA     0.00  10.0   lldp  uplink_n   2025-04  \n",
       "3  GPON00-D1-AMK-2UKUI_to_ME-D1-RGTA     0.00  10.0   lldp  uplink_n   2025-04  \n",
       "4      GPON00-D1-ANR-2_to_ME-D1-ANRA     0.00   3.0   lldp  uplink_n   2025-04  "
      ]
     },
     "execution_count": 70,
     "metadata": {},
     "output_type": "execute_result"
    }
   ],
   "source": [
    "raw = pd.read_csv(\"data/raw.csv\")\n",
    "\n",
    "raw.createddate = pd.to_datetime(raw.createddate)\n",
    "raw['yearmonth'] = raw['createddate'].dt.strftime('%Y-%m')\n",
    "\n",
    "raw.head()"
   ]
  },
  {
   "cell_type": "code",
   "execution_count": 71,
   "id": "fa6e38da-5c95-4d7d-ba8b-5561c9ab2e98",
   "metadata": {
    "tags": []
   },
   "outputs": [
    {
     "data": {
      "application/vnd.jupyter.widget-view+json": {
       "model_id": "f746c316396e4d45830f8e4a2697d1a0",
       "version_major": 2,
       "version_minor": 0
      },
      "text/plain": [
       "FloatProgress(value=0.0, layout=Layout(width='auto'), style=ProgressStyle(bar_color='black'))"
      ]
     },
     "metadata": {},
     "output_type": "display_data"
    }
   ],
   "source": [
    "query = f\"\"\"\n",
    "    SELECT ruas, reg as treg, cap as capacity\n",
    "    FROM (\n",
    "        SELECT *,\n",
    "               ROW_NUMBER() OVER (PARTITION BY ruas ORDER BY createddate DESC) as row_num\n",
    "        FROM raw\n",
    "        WHERE yearmonth <= '{threshold_test}'\n",
    "    ) sub\n",
    "    WHERE row_num = 1\n",
    "    order by 1\n",
    "\"\"\"\n",
    "\n",
    "# Fetch the result as a DataFrame\n",
    "dfcapacity = duckdb.query(query).to_df()"
   ]
  },
  {
   "cell_type": "code",
   "execution_count": 72,
   "id": "3759cc52-6a56-426b-b0c8-8f3851dd53e2",
   "metadata": {},
   "outputs": [
    {
     "data": {
      "text/html": [
       "<div>\n",
       "<style scoped>\n",
       "    .dataframe tbody tr th:only-of-type {\n",
       "        vertical-align: middle;\n",
       "    }\n",
       "\n",
       "    .dataframe tbody tr th {\n",
       "        vertical-align: top;\n",
       "    }\n",
       "\n",
       "    .dataframe thead th {\n",
       "        text-align: right;\n",
       "    }\n",
       "</style>\n",
       "<table border=\"1\" class=\"dataframe\">\n",
       "  <thead>\n",
       "    <tr style=\"text-align: right;\">\n",
       "      <th></th>\n",
       "      <th>ruas</th>\n",
       "      <th>treg</th>\n",
       "      <th>capacity</th>\n",
       "    </tr>\n",
       "  </thead>\n",
       "  <tbody>\n",
       "    <tr>\n",
       "      <th>0</th>\n",
       "      <td>09-MBS-35_to_ME-D2-KT2</td>\n",
       "      <td>2</td>\n",
       "      <td>10.0</td>\n",
       "    </tr>\n",
       "    <tr>\n",
       "      <th>1</th>\n",
       "      <td>09-SPL-03_to_ME-D2-SPL</td>\n",
       "      <td>2</td>\n",
       "      <td>10.0</td>\n",
       "    </tr>\n",
       "    <tr>\n",
       "      <th>2</th>\n",
       "      <td>09PGG-12_to_ME-D2-PGG</td>\n",
       "      <td>2</td>\n",
       "      <td>21.0</td>\n",
       "    </tr>\n",
       "    <tr>\n",
       "      <th>3</th>\n",
       "      <td>172.21.212.239_to_OTHER</td>\n",
       "      <td>3</td>\n",
       "      <td>10.0</td>\n",
       "    </tr>\n",
       "    <tr>\n",
       "      <th>4</th>\n",
       "      <td>BLADE-D2-LEGOK-2_to_OTHER</td>\n",
       "      <td>2</td>\n",
       "      <td>1.0</td>\n",
       "    </tr>\n",
       "  </tbody>\n",
       "</table>\n",
       "</div>"
      ],
      "text/plain": [
       "                        ruas  treg  capacity\n",
       "0     09-MBS-35_to_ME-D2-KT2     2      10.0\n",
       "1     09-SPL-03_to_ME-D2-SPL     2      10.0\n",
       "2      09PGG-12_to_ME-D2-PGG     2      21.0\n",
       "3    172.21.212.239_to_OTHER     3      10.0\n",
       "4  BLADE-D2-LEGOK-2_to_OTHER     2       1.0"
      ]
     },
     "execution_count": 72,
     "metadata": {},
     "output_type": "execute_result"
    }
   ],
   "source": [
    "dfcapacity.head()"
   ]
  },
  {
   "cell_type": "markdown",
   "id": "ca37b54b-0148-479a-acec-08a9236d584c",
   "metadata": {},
   "source": [
    "## Processed output tables"
   ]
  },
  {
   "cell_type": "code",
   "execution_count": 73,
   "id": "a2fa8847-396b-4bd0-b7ff-52ab2b0fd3a2",
   "metadata": {
    "tags": []
   },
   "outputs": [
    {
     "data": {
      "text/html": [
       "<div>\n",
       "<style scoped>\n",
       "    .dataframe tbody tr th:only-of-type {\n",
       "        vertical-align: middle;\n",
       "    }\n",
       "\n",
       "    .dataframe tbody tr th {\n",
       "        vertical-align: top;\n",
       "    }\n",
       "\n",
       "    .dataframe thead th {\n",
       "        text-align: right;\n",
       "    }\n",
       "</style>\n",
       "<table border=\"1\" class=\"dataframe\">\n",
       "  <thead>\n",
       "    <tr style=\"text-align: right;\">\n",
       "      <th></th>\n",
       "      <th>ruas</th>\n",
       "      <th>forecast</th>\n",
       "      <th>yearmonth</th>\n",
       "    </tr>\n",
       "  </thead>\n",
       "  <tbody>\n",
       "    <tr>\n",
       "      <th>0</th>\n",
       "      <td>BLADE-D2-LEGOK-2_to_OTHER</td>\n",
       "      <td>3.529345e-08</td>\n",
       "      <td>202504</td>\n",
       "    </tr>\n",
       "    <tr>\n",
       "      <th>1</th>\n",
       "      <td>BLADE-D2-LEGOK-2_to_OTHER</td>\n",
       "      <td>5.882242e-08</td>\n",
       "      <td>202505</td>\n",
       "    </tr>\n",
       "    <tr>\n",
       "      <th>2</th>\n",
       "      <td>BLADE-D2-LEGOK-2_to_OTHER</td>\n",
       "      <td>8.235139e-08</td>\n",
       "      <td>202506</td>\n",
       "    </tr>\n",
       "    <tr>\n",
       "      <th>3</th>\n",
       "      <td>BLADE-D2-LEGOK-2_to_OTHER</td>\n",
       "      <td>7.058690e-08</td>\n",
       "      <td>202507</td>\n",
       "    </tr>\n",
       "    <tr>\n",
       "      <th>4</th>\n",
       "      <td>BLADE-D2-LEGOK-2_to_OTHER</td>\n",
       "      <td>8.470428e-08</td>\n",
       "      <td>202508</td>\n",
       "    </tr>\n",
       "  </tbody>\n",
       "</table>\n",
       "</div>"
      ],
      "text/plain": [
       "                        ruas      forecast  yearmonth\n",
       "0  BLADE-D2-LEGOK-2_to_OTHER  3.529345e-08     202504\n",
       "1  BLADE-D2-LEGOK-2_to_OTHER  5.882242e-08     202505\n",
       "2  BLADE-D2-LEGOK-2_to_OTHER  8.235139e-08     202506\n",
       "3  BLADE-D2-LEGOK-2_to_OTHER  7.058690e-08     202507\n",
       "4  BLADE-D2-LEGOK-2_to_OTHER  8.470428e-08     202508"
      ]
     },
     "execution_count": 73,
     "metadata": {},
     "output_type": "execute_result"
    }
   ],
   "source": [
    "df_final = pd.read_csv(f\"data/{utils.LAYER}_after_seasonality.csv\")\n",
    "df_final.yearmonth = df_final.yearmonth.str.replace(\"-\", \"\").astype(int)\n",
    "df_final.head()"
   ]
  },
  {
   "cell_type": "code",
   "execution_count": 74,
   "id": "58c8c365-44ab-423d-81a6-92545e6194d6",
   "metadata": {
    "tags": []
   },
   "outputs": [
    {
     "data": {
      "text/html": [
       "<div>\n",
       "<style scoped>\n",
       "    .dataframe tbody tr th:only-of-type {\n",
       "        vertical-align: middle;\n",
       "    }\n",
       "\n",
       "    .dataframe tbody tr th {\n",
       "        vertical-align: top;\n",
       "    }\n",
       "\n",
       "    .dataframe thead th {\n",
       "        text-align: right;\n",
       "    }\n",
       "</style>\n",
       "<table border=\"1\" class=\"dataframe\">\n",
       "  <thead>\n",
       "    <tr style=\"text-align: right;\">\n",
       "      <th></th>\n",
       "      <th>ruas</th>\n",
       "      <th>forecast</th>\n",
       "      <th>yearmonth</th>\n",
       "    </tr>\n",
       "  </thead>\n",
       "  <tbody>\n",
       "    <tr>\n",
       "      <th>0</th>\n",
       "      <td>BLADE-D2-LEGOK-2_to_OTHER</td>\n",
       "      <td>0.007175</td>\n",
       "      <td>202503</td>\n",
       "    </tr>\n",
       "    <tr>\n",
       "      <th>3</th>\n",
       "      <td>GPON00-D1-ABA-2_to_ME-D1-ABAA</td>\n",
       "      <td>2.683435</td>\n",
       "      <td>202503</td>\n",
       "    </tr>\n",
       "    <tr>\n",
       "      <th>6</th>\n",
       "      <td>GPON00-D1-ABG-2_to_ME-D1-SPPA</td>\n",
       "      <td>2.631277</td>\n",
       "      <td>202503</td>\n",
       "    </tr>\n",
       "    <tr>\n",
       "      <th>9</th>\n",
       "      <td>GPON00-D1-ABG-2_to_OTHER</td>\n",
       "      <td>2.265606</td>\n",
       "      <td>202503</td>\n",
       "    </tr>\n",
       "    <tr>\n",
       "      <th>12</th>\n",
       "      <td>GPON00-D1-AGR-2_to_ME-D1-AGRA</td>\n",
       "      <td>8.827600</td>\n",
       "      <td>202503</td>\n",
       "    </tr>\n",
       "  </tbody>\n",
       "</table>\n",
       "</div>"
      ],
      "text/plain": [
       "                             ruas  forecast  yearmonth\n",
       "0       BLADE-D2-LEGOK-2_to_OTHER  0.007175     202503\n",
       "3   GPON00-D1-ABA-2_to_ME-D1-ABAA  2.683435     202503\n",
       "6   GPON00-D1-ABG-2_to_ME-D1-SPPA  2.631277     202503\n",
       "9        GPON00-D1-ABG-2_to_OTHER  2.265606     202503\n",
       "12  GPON00-D1-AGR-2_to_ME-D1-AGRA  8.827600     202503"
      ]
     },
     "execution_count": 74,
     "metadata": {},
     "output_type": "execute_result"
    }
   ],
   "source": [
    "df_validation = pd.read_csv(f\"data/{utils.LAYER}_validation_seasonality.csv\")\n",
    "df_validation = df_validation[df_validation.yearmonth == threshold_test]\n",
    "df_validation.yearmonth = df_validation.yearmonth.str.replace(\"-\", \"\").astype(int)\n",
    "\n",
    "df_validation.head()"
   ]
  },
  {
   "cell_type": "code",
   "execution_count": 75,
   "id": "c5ec8a17-8236-41ff-b38b-40bf42881339",
   "metadata": {
    "tags": []
   },
   "outputs": [
    {
     "data": {
      "text/html": [
       "<div>\n",
       "<style scoped>\n",
       "    .dataframe tbody tr th:only-of-type {\n",
       "        vertical-align: middle;\n",
       "    }\n",
       "\n",
       "    .dataframe tbody tr th {\n",
       "        vertical-align: top;\n",
       "    }\n",
       "\n",
       "    .dataframe thead th {\n",
       "        text-align: right;\n",
       "    }\n",
       "</style>\n",
       "<table border=\"1\" class=\"dataframe\">\n",
       "  <thead>\n",
       "    <tr style=\"text-align: right;\">\n",
       "      <th></th>\n",
       "      <th>ruas</th>\n",
       "      <th>forecast</th>\n",
       "      <th>yearmonth</th>\n",
       "    </tr>\n",
       "  </thead>\n",
       "  <tbody>\n",
       "    <tr>\n",
       "      <th>0</th>\n",
       "      <td>09-MBS-35_to_ME-D2-KT2</td>\n",
       "      <td>0.0</td>\n",
       "      <td>202503</td>\n",
       "    </tr>\n",
       "    <tr>\n",
       "      <th>1</th>\n",
       "      <td>09-MBS-35_to_ME-D2-KT2</td>\n",
       "      <td>0.0</td>\n",
       "      <td>202504</td>\n",
       "    </tr>\n",
       "    <tr>\n",
       "      <th>2</th>\n",
       "      <td>09-MBS-35_to_ME-D2-KT2</td>\n",
       "      <td>0.0</td>\n",
       "      <td>202505</td>\n",
       "    </tr>\n",
       "    <tr>\n",
       "      <th>3</th>\n",
       "      <td>09-MBS-35_to_ME-D2-KT2</td>\n",
       "      <td>0.0</td>\n",
       "      <td>202506</td>\n",
       "    </tr>\n",
       "    <tr>\n",
       "      <th>4</th>\n",
       "      <td>09-MBS-35_to_ME-D2-KT2</td>\n",
       "      <td>0.0</td>\n",
       "      <td>202507</td>\n",
       "    </tr>\n",
       "  </tbody>\n",
       "</table>\n",
       "</div>"
      ],
      "text/plain": [
       "                     ruas  forecast  yearmonth\n",
       "0  09-MBS-35_to_ME-D2-KT2       0.0     202503\n",
       "1  09-MBS-35_to_ME-D2-KT2       0.0     202504\n",
       "2  09-MBS-35_to_ME-D2-KT2       0.0     202505\n",
       "3  09-MBS-35_to_ME-D2-KT2       0.0     202506\n",
       "4  09-MBS-35_to_ME-D2-KT2       0.0     202507"
      ]
     },
     "execution_count": 75,
     "metadata": {},
     "output_type": "execute_result"
    }
   ],
   "source": [
    "df_final = pd.concat([df_validation, df_final], ignore_index=True)\n",
    "df_final = df_final.sort_values(by=['ruas', 'yearmonth']).reset_index(drop=True)\n",
    "\n",
    "df_final.head()"
   ]
  },
  {
   "cell_type": "code",
   "execution_count": 76,
   "id": "c898c9a8-0aec-4bf0-8b29-97639502b0f4",
   "metadata": {
    "tags": []
   },
   "outputs": [
    {
     "data": {
      "text/html": [
       "<div>\n",
       "<style scoped>\n",
       "    .dataframe tbody tr th:only-of-type {\n",
       "        vertical-align: middle;\n",
       "    }\n",
       "\n",
       "    .dataframe tbody tr th {\n",
       "        vertical-align: top;\n",
       "    }\n",
       "\n",
       "    .dataframe thead th {\n",
       "        text-align: right;\n",
       "    }\n",
       "</style>\n",
       "<table border=\"1\" class=\"dataframe\">\n",
       "  <thead>\n",
       "    <tr style=\"text-align: right;\">\n",
       "      <th></th>\n",
       "      <th>yearmonth</th>\n",
       "      <th>ruas</th>\n",
       "      <th>forecast</th>\n",
       "      <th>treg</th>\n",
       "      <th>capacity</th>\n",
       "    </tr>\n",
       "  </thead>\n",
       "  <tbody>\n",
       "    <tr>\n",
       "      <th>0</th>\n",
       "      <td>202503</td>\n",
       "      <td>09-MBS-35_to_ME-D2-KT2</td>\n",
       "      <td>0.0</td>\n",
       "      <td>2</td>\n",
       "      <td>10.0</td>\n",
       "    </tr>\n",
       "    <tr>\n",
       "      <th>1</th>\n",
       "      <td>202504</td>\n",
       "      <td>09-MBS-35_to_ME-D2-KT2</td>\n",
       "      <td>0.0</td>\n",
       "      <td>2</td>\n",
       "      <td>10.0</td>\n",
       "    </tr>\n",
       "    <tr>\n",
       "      <th>2</th>\n",
       "      <td>202505</td>\n",
       "      <td>09-MBS-35_to_ME-D2-KT2</td>\n",
       "      <td>0.0</td>\n",
       "      <td>2</td>\n",
       "      <td>10.0</td>\n",
       "    </tr>\n",
       "    <tr>\n",
       "      <th>3</th>\n",
       "      <td>202506</td>\n",
       "      <td>09-MBS-35_to_ME-D2-KT2</td>\n",
       "      <td>0.0</td>\n",
       "      <td>2</td>\n",
       "      <td>10.0</td>\n",
       "    </tr>\n",
       "    <tr>\n",
       "      <th>4</th>\n",
       "      <td>202507</td>\n",
       "      <td>09-MBS-35_to_ME-D2-KT2</td>\n",
       "      <td>0.0</td>\n",
       "      <td>2</td>\n",
       "      <td>10.0</td>\n",
       "    </tr>\n",
       "  </tbody>\n",
       "</table>\n",
       "</div>"
      ],
      "text/plain": [
       "   yearmonth                    ruas  forecast  treg  capacity\n",
       "0     202503  09-MBS-35_to_ME-D2-KT2       0.0     2      10.0\n",
       "1     202504  09-MBS-35_to_ME-D2-KT2       0.0     2      10.0\n",
       "2     202505  09-MBS-35_to_ME-D2-KT2       0.0     2      10.0\n",
       "3     202506  09-MBS-35_to_ME-D2-KT2       0.0     2      10.0\n",
       "4     202507  09-MBS-35_to_ME-D2-KT2       0.0     2      10.0"
      ]
     },
     "execution_count": 76,
     "metadata": {},
     "output_type": "execute_result"
    }
   ],
   "source": [
    "df_final_pred = pd.merge(df_final, dfcapacity, on=\"ruas\", how=\"left\")\n",
    "df_final_pred = df_final_pred[['yearmonth', 'ruas', 'forecast', 'treg', 'capacity']]\n",
    "\n",
    "df_final_pred.head()"
   ]
  },
  {
   "cell_type": "code",
   "execution_count": 77,
   "id": "b5ca6240-445e-4286-aeb9-b6a48c926c44",
   "metadata": {
    "tags": []
   },
   "outputs": [
    {
     "data": {
      "text/html": [
       "<div>\n",
       "<style scoped>\n",
       "    .dataframe tbody tr th:only-of-type {\n",
       "        vertical-align: middle;\n",
       "    }\n",
       "\n",
       "    .dataframe tbody tr th {\n",
       "        vertical-align: top;\n",
       "    }\n",
       "\n",
       "    .dataframe thead th {\n",
       "        text-align: right;\n",
       "    }\n",
       "</style>\n",
       "<table border=\"1\" class=\"dataframe\">\n",
       "  <thead>\n",
       "    <tr style=\"text-align: right;\">\n",
       "      <th>yearmonth</th>\n",
       "      <th>ruas</th>\n",
       "      <th>202504</th>\n",
       "      <th>202505</th>\n",
       "      <th>202506</th>\n",
       "      <th>202507</th>\n",
       "      <th>202508</th>\n",
       "      <th>202509</th>\n",
       "      <th>202510</th>\n",
       "      <th>202511</th>\n",
       "      <th>202512</th>\n",
       "      <th>202601</th>\n",
       "      <th>202602</th>\n",
       "      <th>202603</th>\n",
       "      <th>202604</th>\n",
       "    </tr>\n",
       "  </thead>\n",
       "  <tbody>\n",
       "    <tr>\n",
       "      <th>0</th>\n",
       "      <td>09-MBS-35_to_ME-D2-KT2</td>\n",
       "      <td>0.000000e+00</td>\n",
       "      <td>0.000000e+00</td>\n",
       "      <td>0.000000e+00</td>\n",
       "      <td>0.000000e+00</td>\n",
       "      <td>0.000000e+00</td>\n",
       "      <td>0.000000e+00</td>\n",
       "      <td>0.000000e+00</td>\n",
       "      <td>0.000000e+00</td>\n",
       "      <td>0.000000e+00</td>\n",
       "      <td>0.000000e+00</td>\n",
       "      <td>0.000000e+00</td>\n",
       "      <td>0.000000e+00</td>\n",
       "      <td>0.000000e+00</td>\n",
       "    </tr>\n",
       "    <tr>\n",
       "      <th>1</th>\n",
       "      <td>09-SPL-03_to_ME-D2-SPL</td>\n",
       "      <td>4.695110e+00</td>\n",
       "      <td>4.830943e+00</td>\n",
       "      <td>4.845499e+00</td>\n",
       "      <td>4.807026e+00</td>\n",
       "      <td>4.848532e+00</td>\n",
       "      <td>4.822340e+00</td>\n",
       "      <td>4.855111e+00</td>\n",
       "      <td>4.952154e+00</td>\n",
       "      <td>4.937763e+00</td>\n",
       "      <td>5.071475e+00</td>\n",
       "      <td>5.096554e+00</td>\n",
       "      <td>4.959658e+00</td>\n",
       "      <td>4.889869e+00</td>\n",
       "    </tr>\n",
       "    <tr>\n",
       "      <th>2</th>\n",
       "      <td>09PGG-12_to_ME-D2-PGG</td>\n",
       "      <td>0.000000e+00</td>\n",
       "      <td>0.000000e+00</td>\n",
       "      <td>0.000000e+00</td>\n",
       "      <td>0.000000e+00</td>\n",
       "      <td>0.000000e+00</td>\n",
       "      <td>0.000000e+00</td>\n",
       "      <td>0.000000e+00</td>\n",
       "      <td>0.000000e+00</td>\n",
       "      <td>0.000000e+00</td>\n",
       "      <td>0.000000e+00</td>\n",
       "      <td>0.000000e+00</td>\n",
       "      <td>0.000000e+00</td>\n",
       "      <td>0.000000e+00</td>\n",
       "    </tr>\n",
       "    <tr>\n",
       "      <th>3</th>\n",
       "      <td>172.21.212.239_to_OTHER</td>\n",
       "      <td>1.000001e-02</td>\n",
       "      <td>1.000002e-02</td>\n",
       "      <td>1.000003e-02</td>\n",
       "      <td>1.000006e-02</td>\n",
       "      <td>1.000007e-02</td>\n",
       "      <td>1.000007e-02</td>\n",
       "      <td>1.000008e-02</td>\n",
       "      <td>1.000008e-02</td>\n",
       "      <td>1.000009e-02</td>\n",
       "      <td>1.000010e-02</td>\n",
       "      <td>1.000010e-02</td>\n",
       "      <td>1.000010e-02</td>\n",
       "      <td>1.000011e-02</td>\n",
       "    </tr>\n",
       "    <tr>\n",
       "      <th>4</th>\n",
       "      <td>BLADE-D2-LEGOK-2_to_OTHER</td>\n",
       "      <td>3.529345e-08</td>\n",
       "      <td>5.882242e-08</td>\n",
       "      <td>8.235139e-08</td>\n",
       "      <td>7.058690e-08</td>\n",
       "      <td>8.470428e-08</td>\n",
       "      <td>9.882166e-08</td>\n",
       "      <td>1.129390e-07</td>\n",
       "      <td>1.270564e-07</td>\n",
       "      <td>1.482325e-07</td>\n",
       "      <td>1.623499e-07</td>\n",
       "      <td>1.764673e-07</td>\n",
       "      <td>1.905846e-07</td>\n",
       "      <td>3.411700e-07</td>\n",
       "    </tr>\n",
       "  </tbody>\n",
       "</table>\n",
       "</div>"
      ],
      "text/plain": [
       "yearmonth                       ruas        202504        202505  \\\n",
       "0             09-MBS-35_to_ME-D2-KT2  0.000000e+00  0.000000e+00   \n",
       "1             09-SPL-03_to_ME-D2-SPL  4.695110e+00  4.830943e+00   \n",
       "2              09PGG-12_to_ME-D2-PGG  0.000000e+00  0.000000e+00   \n",
       "3            172.21.212.239_to_OTHER  1.000001e-02  1.000002e-02   \n",
       "4          BLADE-D2-LEGOK-2_to_OTHER  3.529345e-08  5.882242e-08   \n",
       "\n",
       "yearmonth        202506        202507        202508        202509  \\\n",
       "0          0.000000e+00  0.000000e+00  0.000000e+00  0.000000e+00   \n",
       "1          4.845499e+00  4.807026e+00  4.848532e+00  4.822340e+00   \n",
       "2          0.000000e+00  0.000000e+00  0.000000e+00  0.000000e+00   \n",
       "3          1.000003e-02  1.000006e-02  1.000007e-02  1.000007e-02   \n",
       "4          8.235139e-08  7.058690e-08  8.470428e-08  9.882166e-08   \n",
       "\n",
       "yearmonth        202510        202511        202512        202601  \\\n",
       "0          0.000000e+00  0.000000e+00  0.000000e+00  0.000000e+00   \n",
       "1          4.855111e+00  4.952154e+00  4.937763e+00  5.071475e+00   \n",
       "2          0.000000e+00  0.000000e+00  0.000000e+00  0.000000e+00   \n",
       "3          1.000008e-02  1.000008e-02  1.000009e-02  1.000010e-02   \n",
       "4          1.129390e-07  1.270564e-07  1.482325e-07  1.623499e-07   \n",
       "\n",
       "yearmonth        202602        202603        202604  \n",
       "0          0.000000e+00  0.000000e+00  0.000000e+00  \n",
       "1          5.096554e+00  4.959658e+00  4.889869e+00  \n",
       "2          0.000000e+00  0.000000e+00  0.000000e+00  \n",
       "3          1.000010e-02  1.000010e-02  1.000011e-02  \n",
       "4          1.764673e-07  1.905846e-07  3.411700e-07  "
      ]
     },
     "execution_count": 77,
     "metadata": {},
     "output_type": "execute_result"
    }
   ],
   "source": [
    "# tabel traffic\n",
    "df_traffic = pd.pivot_table(\n",
    "    df_final.loc[df_final['yearmonth'] != int(threshold_test.replace('-', ''))], values=\"forecast\", columns=\"yearmonth\", index=[\"ruas\"]\n",
    ").reset_index()\n",
    "\n",
    "df_traffic = df_traffic.sort_values(\"ruas\")\n",
    "df_traffic.head()"
   ]
  },
  {
   "cell_type": "code",
   "execution_count": 78,
   "id": "40694f79-6622-4dfc-8c5f-b02c96bba832",
   "metadata": {
    "tags": []
   },
   "outputs": [
    {
     "data": {
      "text/html": [
       "<div>\n",
       "<style scoped>\n",
       "    .dataframe tbody tr th:only-of-type {\n",
       "        vertical-align: middle;\n",
       "    }\n",
       "\n",
       "    .dataframe tbody tr th {\n",
       "        vertical-align: top;\n",
       "    }\n",
       "\n",
       "    .dataframe thead th {\n",
       "        text-align: right;\n",
       "    }\n",
       "</style>\n",
       "<table border=\"1\" class=\"dataframe\">\n",
       "  <thead>\n",
       "    <tr style=\"text-align: right;\">\n",
       "      <th></th>\n",
       "      <th>treg</th>\n",
       "      <th>ruas</th>\n",
       "      <th>capacity</th>\n",
       "      <th>202504</th>\n",
       "      <th>202505</th>\n",
       "      <th>202506</th>\n",
       "      <th>202507</th>\n",
       "      <th>202508</th>\n",
       "      <th>202509</th>\n",
       "      <th>202510</th>\n",
       "      <th>202511</th>\n",
       "      <th>202512</th>\n",
       "      <th>202601</th>\n",
       "      <th>202602</th>\n",
       "      <th>202603</th>\n",
       "      <th>202604</th>\n",
       "    </tr>\n",
       "  </thead>\n",
       "  <tbody>\n",
       "    <tr>\n",
       "      <th>0</th>\n",
       "      <td>2</td>\n",
       "      <td>09-MBS-35_to_ME-D2-KT2</td>\n",
       "      <td>10.0</td>\n",
       "      <td>0.000000e+00</td>\n",
       "      <td>0.000000e+00</td>\n",
       "      <td>0.000000e+00</td>\n",
       "      <td>0.000000e+00</td>\n",
       "      <td>0.000000e+00</td>\n",
       "      <td>0.000000e+00</td>\n",
       "      <td>0.000000e+00</td>\n",
       "      <td>0.000000e+00</td>\n",
       "      <td>0.000000e+00</td>\n",
       "      <td>0.000000e+00</td>\n",
       "      <td>0.000000e+00</td>\n",
       "      <td>0.000000e+00</td>\n",
       "      <td>0.000000e+00</td>\n",
       "    </tr>\n",
       "    <tr>\n",
       "      <th>1</th>\n",
       "      <td>2</td>\n",
       "      <td>09-SPL-03_to_ME-D2-SPL</td>\n",
       "      <td>10.0</td>\n",
       "      <td>4.695110e+00</td>\n",
       "      <td>4.830943e+00</td>\n",
       "      <td>4.845499e+00</td>\n",
       "      <td>4.807026e+00</td>\n",
       "      <td>4.848532e+00</td>\n",
       "      <td>4.822340e+00</td>\n",
       "      <td>4.855111e+00</td>\n",
       "      <td>4.952154e+00</td>\n",
       "      <td>4.937763e+00</td>\n",
       "      <td>5.071475e+00</td>\n",
       "      <td>5.096554e+00</td>\n",
       "      <td>4.959658e+00</td>\n",
       "      <td>4.889869e+00</td>\n",
       "    </tr>\n",
       "    <tr>\n",
       "      <th>2</th>\n",
       "      <td>2</td>\n",
       "      <td>09PGG-12_to_ME-D2-PGG</td>\n",
       "      <td>21.0</td>\n",
       "      <td>0.000000e+00</td>\n",
       "      <td>0.000000e+00</td>\n",
       "      <td>0.000000e+00</td>\n",
       "      <td>0.000000e+00</td>\n",
       "      <td>0.000000e+00</td>\n",
       "      <td>0.000000e+00</td>\n",
       "      <td>0.000000e+00</td>\n",
       "      <td>0.000000e+00</td>\n",
       "      <td>0.000000e+00</td>\n",
       "      <td>0.000000e+00</td>\n",
       "      <td>0.000000e+00</td>\n",
       "      <td>0.000000e+00</td>\n",
       "      <td>0.000000e+00</td>\n",
       "    </tr>\n",
       "    <tr>\n",
       "      <th>3</th>\n",
       "      <td>3</td>\n",
       "      <td>172.21.212.239_to_OTHER</td>\n",
       "      <td>10.0</td>\n",
       "      <td>1.000001e-02</td>\n",
       "      <td>1.000002e-02</td>\n",
       "      <td>1.000003e-02</td>\n",
       "      <td>1.000006e-02</td>\n",
       "      <td>1.000007e-02</td>\n",
       "      <td>1.000007e-02</td>\n",
       "      <td>1.000008e-02</td>\n",
       "      <td>1.000008e-02</td>\n",
       "      <td>1.000009e-02</td>\n",
       "      <td>1.000010e-02</td>\n",
       "      <td>1.000010e-02</td>\n",
       "      <td>1.000010e-02</td>\n",
       "      <td>1.000011e-02</td>\n",
       "    </tr>\n",
       "    <tr>\n",
       "      <th>4</th>\n",
       "      <td>2</td>\n",
       "      <td>BLADE-D2-LEGOK-2_to_OTHER</td>\n",
       "      <td>1.0</td>\n",
       "      <td>3.529345e-08</td>\n",
       "      <td>5.882242e-08</td>\n",
       "      <td>8.235139e-08</td>\n",
       "      <td>7.058690e-08</td>\n",
       "      <td>8.470428e-08</td>\n",
       "      <td>9.882166e-08</td>\n",
       "      <td>1.129390e-07</td>\n",
       "      <td>1.270564e-07</td>\n",
       "      <td>1.482325e-07</td>\n",
       "      <td>1.623499e-07</td>\n",
       "      <td>1.764673e-07</td>\n",
       "      <td>1.905846e-07</td>\n",
       "      <td>3.411700e-07</td>\n",
       "    </tr>\n",
       "  </tbody>\n",
       "</table>\n",
       "</div>"
      ],
      "text/plain": [
       "   treg                       ruas  capacity        202504        202505  \\\n",
       "0     2     09-MBS-35_to_ME-D2-KT2      10.0  0.000000e+00  0.000000e+00   \n",
       "1     2     09-SPL-03_to_ME-D2-SPL      10.0  4.695110e+00  4.830943e+00   \n",
       "2     2      09PGG-12_to_ME-D2-PGG      21.0  0.000000e+00  0.000000e+00   \n",
       "3     3    172.21.212.239_to_OTHER      10.0  1.000001e-02  1.000002e-02   \n",
       "4     2  BLADE-D2-LEGOK-2_to_OTHER       1.0  3.529345e-08  5.882242e-08   \n",
       "\n",
       "         202506        202507        202508        202509        202510  \\\n",
       "0  0.000000e+00  0.000000e+00  0.000000e+00  0.000000e+00  0.000000e+00   \n",
       "1  4.845499e+00  4.807026e+00  4.848532e+00  4.822340e+00  4.855111e+00   \n",
       "2  0.000000e+00  0.000000e+00  0.000000e+00  0.000000e+00  0.000000e+00   \n",
       "3  1.000003e-02  1.000006e-02  1.000007e-02  1.000007e-02  1.000008e-02   \n",
       "4  8.235139e-08  7.058690e-08  8.470428e-08  9.882166e-08  1.129390e-07   \n",
       "\n",
       "         202511        202512        202601        202602        202603  \\\n",
       "0  0.000000e+00  0.000000e+00  0.000000e+00  0.000000e+00  0.000000e+00   \n",
       "1  4.952154e+00  4.937763e+00  5.071475e+00  5.096554e+00  4.959658e+00   \n",
       "2  0.000000e+00  0.000000e+00  0.000000e+00  0.000000e+00  0.000000e+00   \n",
       "3  1.000008e-02  1.000009e-02  1.000010e-02  1.000010e-02  1.000010e-02   \n",
       "4  1.270564e-07  1.482325e-07  1.623499e-07  1.764673e-07  1.905846e-07   \n",
       "\n",
       "         202604  \n",
       "0  0.000000e+00  \n",
       "1  4.889869e+00  \n",
       "2  0.000000e+00  \n",
       "3  1.000011e-02  \n",
       "4  3.411700e-07  "
      ]
     },
     "execution_count": 78,
     "metadata": {},
     "output_type": "execute_result"
    }
   ],
   "source": [
    "df_traffic_pred = pd.merge(df_traffic, dfcapacity, on=\"ruas\", how=\"left\")\n",
    "columns = ['treg', 'ruas', 'capacity'] + [col for col in df_traffic_pred.columns if col not in ['treg', 'capacity', 'ruas']]\n",
    "\n",
    "# Rearrange the DataFrame columns\n",
    "df_traffic_pred = df_traffic_pred[columns]\n",
    "\n",
    "df_traffic_pred.head()"
   ]
  },
  {
   "cell_type": "code",
   "execution_count": 79,
   "id": "6f59fc92-d757-416d-b225-6409174936fe",
   "metadata": {
    "tags": []
   },
   "outputs": [
    {
     "data": {
      "text/html": [
       "<div>\n",
       "<style scoped>\n",
       "    .dataframe tbody tr th:only-of-type {\n",
       "        vertical-align: middle;\n",
       "    }\n",
       "\n",
       "    .dataframe tbody tr th {\n",
       "        vertical-align: top;\n",
       "    }\n",
       "\n",
       "    .dataframe thead th {\n",
       "        text-align: right;\n",
       "    }\n",
       "</style>\n",
       "<table border=\"1\" class=\"dataframe\">\n",
       "  <thead>\n",
       "    <tr style=\"text-align: right;\">\n",
       "      <th></th>\n",
       "      <th>ruas</th>\n",
       "      <th>forecast</th>\n",
       "      <th>yearmonth</th>\n",
       "      <th>treg</th>\n",
       "      <th>capacity</th>\n",
       "      <th>percent_utilization</th>\n",
       "    </tr>\n",
       "  </thead>\n",
       "  <tbody>\n",
       "    <tr>\n",
       "      <th>0</th>\n",
       "      <td>09-MBS-35_to_ME-D2-KT2</td>\n",
       "      <td>0.0</td>\n",
       "      <td>202504</td>\n",
       "      <td>2</td>\n",
       "      <td>10.0</td>\n",
       "      <td>0.0</td>\n",
       "    </tr>\n",
       "    <tr>\n",
       "      <th>1</th>\n",
       "      <td>09-MBS-35_to_ME-D2-KT2</td>\n",
       "      <td>0.0</td>\n",
       "      <td>202505</td>\n",
       "      <td>2</td>\n",
       "      <td>10.0</td>\n",
       "      <td>0.0</td>\n",
       "    </tr>\n",
       "    <tr>\n",
       "      <th>2</th>\n",
       "      <td>09-MBS-35_to_ME-D2-KT2</td>\n",
       "      <td>0.0</td>\n",
       "      <td>202506</td>\n",
       "      <td>2</td>\n",
       "      <td>10.0</td>\n",
       "      <td>0.0</td>\n",
       "    </tr>\n",
       "    <tr>\n",
       "      <th>3</th>\n",
       "      <td>09-MBS-35_to_ME-D2-KT2</td>\n",
       "      <td>0.0</td>\n",
       "      <td>202507</td>\n",
       "      <td>2</td>\n",
       "      <td>10.0</td>\n",
       "      <td>0.0</td>\n",
       "    </tr>\n",
       "    <tr>\n",
       "      <th>4</th>\n",
       "      <td>09-MBS-35_to_ME-D2-KT2</td>\n",
       "      <td>0.0</td>\n",
       "      <td>202508</td>\n",
       "      <td>2</td>\n",
       "      <td>10.0</td>\n",
       "      <td>0.0</td>\n",
       "    </tr>\n",
       "  </tbody>\n",
       "</table>\n",
       "</div>"
      ],
      "text/plain": [
       "                     ruas  forecast  yearmonth  treg  capacity  \\\n",
       "0  09-MBS-35_to_ME-D2-KT2       0.0     202504     2      10.0   \n",
       "1  09-MBS-35_to_ME-D2-KT2       0.0     202505     2      10.0   \n",
       "2  09-MBS-35_to_ME-D2-KT2       0.0     202506     2      10.0   \n",
       "3  09-MBS-35_to_ME-D2-KT2       0.0     202507     2      10.0   \n",
       "4  09-MBS-35_to_ME-D2-KT2       0.0     202508     2      10.0   \n",
       "\n",
       "   percent_utilization  \n",
       "0                  0.0  \n",
       "1                  0.0  \n",
       "2                  0.0  \n",
       "3                  0.0  \n",
       "4                  0.0  "
      ]
     },
     "execution_count": 79,
     "metadata": {},
     "output_type": "execute_result"
    }
   ],
   "source": [
    "df_final_cap = pd.merge(df_final.loc[df_final['yearmonth'] != int(threshold_test.replace('-', ''))], dfcapacity, on=\"ruas\", how=\"left\")\n",
    "df_final_cap[\"percent_utilization\"] = (df_final_cap.forecast / df_final_cap.capacity)*100\n",
    "\n",
    "df_final_cap.head()"
   ]
  },
  {
   "cell_type": "code",
   "execution_count": 80,
   "id": "20a79806-902a-4c5b-9b50-9f6bb5c3bfaf",
   "metadata": {
    "tags": []
   },
   "outputs": [
    {
     "data": {
      "text/html": [
       "<div>\n",
       "<style scoped>\n",
       "    .dataframe tbody tr th:only-of-type {\n",
       "        vertical-align: middle;\n",
       "    }\n",
       "\n",
       "    .dataframe tbody tr th {\n",
       "        vertical-align: top;\n",
       "    }\n",
       "\n",
       "    .dataframe thead th {\n",
       "        text-align: right;\n",
       "    }\n",
       "</style>\n",
       "<table border=\"1\" class=\"dataframe\">\n",
       "  <thead>\n",
       "    <tr style=\"text-align: right;\">\n",
       "      <th>yearmonth</th>\n",
       "      <th>ruas</th>\n",
       "      <th>202504</th>\n",
       "      <th>202505</th>\n",
       "      <th>202506</th>\n",
       "      <th>202507</th>\n",
       "      <th>202508</th>\n",
       "      <th>202509</th>\n",
       "      <th>202510</th>\n",
       "      <th>202511</th>\n",
       "      <th>202512</th>\n",
       "      <th>202601</th>\n",
       "      <th>202602</th>\n",
       "      <th>202603</th>\n",
       "      <th>202604</th>\n",
       "    </tr>\n",
       "  </thead>\n",
       "  <tbody>\n",
       "    <tr>\n",
       "      <th>0</th>\n",
       "      <td>09-MBS-35_to_ME-D2-KT2</td>\n",
       "      <td>0.000000</td>\n",
       "      <td>0.000000</td>\n",
       "      <td>0.000000</td>\n",
       "      <td>0.000000</td>\n",
       "      <td>0.000000</td>\n",
       "      <td>0.000000</td>\n",
       "      <td>0.000000</td>\n",
       "      <td>0.000000</td>\n",
       "      <td>0.000000</td>\n",
       "      <td>0.000000</td>\n",
       "      <td>0.000000</td>\n",
       "      <td>0.000000</td>\n",
       "      <td>0.000000</td>\n",
       "    </tr>\n",
       "    <tr>\n",
       "      <th>1</th>\n",
       "      <td>09-SPL-03_to_ME-D2-SPL</td>\n",
       "      <td>46.951097</td>\n",
       "      <td>48.309428</td>\n",
       "      <td>48.454994</td>\n",
       "      <td>48.070264</td>\n",
       "      <td>48.485318</td>\n",
       "      <td>48.223403</td>\n",
       "      <td>48.551106</td>\n",
       "      <td>49.521544</td>\n",
       "      <td>49.377627</td>\n",
       "      <td>50.714749</td>\n",
       "      <td>50.965542</td>\n",
       "      <td>49.596576</td>\n",
       "      <td>48.898691</td>\n",
       "    </tr>\n",
       "    <tr>\n",
       "      <th>2</th>\n",
       "      <td>09PGG-12_to_ME-D2-PGG</td>\n",
       "      <td>0.000000</td>\n",
       "      <td>0.000000</td>\n",
       "      <td>0.000000</td>\n",
       "      <td>0.000000</td>\n",
       "      <td>0.000000</td>\n",
       "      <td>0.000000</td>\n",
       "      <td>0.000000</td>\n",
       "      <td>0.000000</td>\n",
       "      <td>0.000000</td>\n",
       "      <td>0.000000</td>\n",
       "      <td>0.000000</td>\n",
       "      <td>0.000000</td>\n",
       "      <td>0.000000</td>\n",
       "    </tr>\n",
       "    <tr>\n",
       "      <th>3</th>\n",
       "      <td>172.21.212.239_to_OTHER</td>\n",
       "      <td>0.100000</td>\n",
       "      <td>0.100000</td>\n",
       "      <td>0.100000</td>\n",
       "      <td>0.100001</td>\n",
       "      <td>0.100001</td>\n",
       "      <td>0.100001</td>\n",
       "      <td>0.100001</td>\n",
       "      <td>0.100001</td>\n",
       "      <td>0.100001</td>\n",
       "      <td>0.100001</td>\n",
       "      <td>0.100001</td>\n",
       "      <td>0.100001</td>\n",
       "      <td>0.100001</td>\n",
       "    </tr>\n",
       "    <tr>\n",
       "      <th>4</th>\n",
       "      <td>BLADE-D2-LEGOK-2_to_OTHER</td>\n",
       "      <td>0.000004</td>\n",
       "      <td>0.000006</td>\n",
       "      <td>0.000008</td>\n",
       "      <td>0.000007</td>\n",
       "      <td>0.000008</td>\n",
       "      <td>0.000010</td>\n",
       "      <td>0.000011</td>\n",
       "      <td>0.000013</td>\n",
       "      <td>0.000015</td>\n",
       "      <td>0.000016</td>\n",
       "      <td>0.000018</td>\n",
       "      <td>0.000019</td>\n",
       "      <td>0.000034</td>\n",
       "    </tr>\n",
       "  </tbody>\n",
       "</table>\n",
       "</div>"
      ],
      "text/plain": [
       "yearmonth                       ruas     202504     202505     202506  \\\n",
       "0             09-MBS-35_to_ME-D2-KT2   0.000000   0.000000   0.000000   \n",
       "1             09-SPL-03_to_ME-D2-SPL  46.951097  48.309428  48.454994   \n",
       "2              09PGG-12_to_ME-D2-PGG   0.000000   0.000000   0.000000   \n",
       "3            172.21.212.239_to_OTHER   0.100000   0.100000   0.100000   \n",
       "4          BLADE-D2-LEGOK-2_to_OTHER   0.000004   0.000006   0.000008   \n",
       "\n",
       "yearmonth     202507     202508     202509     202510     202511     202512  \\\n",
       "0           0.000000   0.000000   0.000000   0.000000   0.000000   0.000000   \n",
       "1          48.070264  48.485318  48.223403  48.551106  49.521544  49.377627   \n",
       "2           0.000000   0.000000   0.000000   0.000000   0.000000   0.000000   \n",
       "3           0.100001   0.100001   0.100001   0.100001   0.100001   0.100001   \n",
       "4           0.000007   0.000008   0.000010   0.000011   0.000013   0.000015   \n",
       "\n",
       "yearmonth     202601     202602     202603     202604  \n",
       "0           0.000000   0.000000   0.000000   0.000000  \n",
       "1          50.714749  50.965542  49.596576  48.898691  \n",
       "2           0.000000   0.000000   0.000000   0.000000  \n",
       "3           0.100001   0.100001   0.100001   0.100001  \n",
       "4           0.000016   0.000018   0.000019   0.000034  "
      ]
     },
     "execution_count": 80,
     "metadata": {},
     "output_type": "execute_result"
    }
   ],
   "source": [
    "df_util = pd.pivot_table(\n",
    "    df_final_cap,\n",
    "    values=\"percent_utilization\",\n",
    "    columns=\"yearmonth\",\n",
    "    index=[\"ruas\"],\n",
    "    dropna=False,\n",
    ").reset_index()\n",
    "\n",
    "df_util.head()"
   ]
  },
  {
   "cell_type": "code",
   "execution_count": 81,
   "id": "f2959596-79da-4ec7-a951-b2e8bc4d9c2e",
   "metadata": {
    "tags": []
   },
   "outputs": [
    {
     "data": {
      "text/html": [
       "<div>\n",
       "<style scoped>\n",
       "    .dataframe tbody tr th:only-of-type {\n",
       "        vertical-align: middle;\n",
       "    }\n",
       "\n",
       "    .dataframe tbody tr th {\n",
       "        vertical-align: top;\n",
       "    }\n",
       "\n",
       "    .dataframe thead th {\n",
       "        text-align: right;\n",
       "    }\n",
       "</style>\n",
       "<table border=\"1\" class=\"dataframe\">\n",
       "  <thead>\n",
       "    <tr style=\"text-align: right;\">\n",
       "      <th></th>\n",
       "      <th>treg</th>\n",
       "      <th>ruas</th>\n",
       "      <th>capacity</th>\n",
       "      <th>202504</th>\n",
       "      <th>202505</th>\n",
       "      <th>202506</th>\n",
       "      <th>202507</th>\n",
       "      <th>202508</th>\n",
       "      <th>202509</th>\n",
       "      <th>202510</th>\n",
       "      <th>202511</th>\n",
       "      <th>202512</th>\n",
       "      <th>202601</th>\n",
       "      <th>202602</th>\n",
       "      <th>202603</th>\n",
       "      <th>202604</th>\n",
       "    </tr>\n",
       "  </thead>\n",
       "  <tbody>\n",
       "    <tr>\n",
       "      <th>0</th>\n",
       "      <td>2</td>\n",
       "      <td>09-MBS-35_to_ME-D2-KT2</td>\n",
       "      <td>10.0</td>\n",
       "      <td>0.000000</td>\n",
       "      <td>0.000000</td>\n",
       "      <td>0.000000</td>\n",
       "      <td>0.000000</td>\n",
       "      <td>0.000000</td>\n",
       "      <td>0.000000</td>\n",
       "      <td>0.000000</td>\n",
       "      <td>0.000000</td>\n",
       "      <td>0.000000</td>\n",
       "      <td>0.000000</td>\n",
       "      <td>0.000000</td>\n",
       "      <td>0.000000</td>\n",
       "      <td>0.000000</td>\n",
       "    </tr>\n",
       "    <tr>\n",
       "      <th>1</th>\n",
       "      <td>2</td>\n",
       "      <td>09-SPL-03_to_ME-D2-SPL</td>\n",
       "      <td>10.0</td>\n",
       "      <td>46.951097</td>\n",
       "      <td>48.309428</td>\n",
       "      <td>48.454994</td>\n",
       "      <td>48.070264</td>\n",
       "      <td>48.485318</td>\n",
       "      <td>48.223403</td>\n",
       "      <td>48.551106</td>\n",
       "      <td>49.521544</td>\n",
       "      <td>49.377627</td>\n",
       "      <td>50.714749</td>\n",
       "      <td>50.965542</td>\n",
       "      <td>49.596576</td>\n",
       "      <td>48.898691</td>\n",
       "    </tr>\n",
       "    <tr>\n",
       "      <th>2</th>\n",
       "      <td>2</td>\n",
       "      <td>09PGG-12_to_ME-D2-PGG</td>\n",
       "      <td>21.0</td>\n",
       "      <td>0.000000</td>\n",
       "      <td>0.000000</td>\n",
       "      <td>0.000000</td>\n",
       "      <td>0.000000</td>\n",
       "      <td>0.000000</td>\n",
       "      <td>0.000000</td>\n",
       "      <td>0.000000</td>\n",
       "      <td>0.000000</td>\n",
       "      <td>0.000000</td>\n",
       "      <td>0.000000</td>\n",
       "      <td>0.000000</td>\n",
       "      <td>0.000000</td>\n",
       "      <td>0.000000</td>\n",
       "    </tr>\n",
       "    <tr>\n",
       "      <th>3</th>\n",
       "      <td>3</td>\n",
       "      <td>172.21.212.239_to_OTHER</td>\n",
       "      <td>10.0</td>\n",
       "      <td>0.100000</td>\n",
       "      <td>0.100000</td>\n",
       "      <td>0.100000</td>\n",
       "      <td>0.100001</td>\n",
       "      <td>0.100001</td>\n",
       "      <td>0.100001</td>\n",
       "      <td>0.100001</td>\n",
       "      <td>0.100001</td>\n",
       "      <td>0.100001</td>\n",
       "      <td>0.100001</td>\n",
       "      <td>0.100001</td>\n",
       "      <td>0.100001</td>\n",
       "      <td>0.100001</td>\n",
       "    </tr>\n",
       "    <tr>\n",
       "      <th>4</th>\n",
       "      <td>2</td>\n",
       "      <td>BLADE-D2-LEGOK-2_to_OTHER</td>\n",
       "      <td>1.0</td>\n",
       "      <td>0.000004</td>\n",
       "      <td>0.000006</td>\n",
       "      <td>0.000008</td>\n",
       "      <td>0.000007</td>\n",
       "      <td>0.000008</td>\n",
       "      <td>0.000010</td>\n",
       "      <td>0.000011</td>\n",
       "      <td>0.000013</td>\n",
       "      <td>0.000015</td>\n",
       "      <td>0.000016</td>\n",
       "      <td>0.000018</td>\n",
       "      <td>0.000019</td>\n",
       "      <td>0.000034</td>\n",
       "    </tr>\n",
       "  </tbody>\n",
       "</table>\n",
       "</div>"
      ],
      "text/plain": [
       "   treg                       ruas  capacity     202504     202505     202506  \\\n",
       "0     2     09-MBS-35_to_ME-D2-KT2      10.0   0.000000   0.000000   0.000000   \n",
       "1     2     09-SPL-03_to_ME-D2-SPL      10.0  46.951097  48.309428  48.454994   \n",
       "2     2      09PGG-12_to_ME-D2-PGG      21.0   0.000000   0.000000   0.000000   \n",
       "3     3    172.21.212.239_to_OTHER      10.0   0.100000   0.100000   0.100000   \n",
       "4     2  BLADE-D2-LEGOK-2_to_OTHER       1.0   0.000004   0.000006   0.000008   \n",
       "\n",
       "      202507     202508     202509     202510     202511     202512  \\\n",
       "0   0.000000   0.000000   0.000000   0.000000   0.000000   0.000000   \n",
       "1  48.070264  48.485318  48.223403  48.551106  49.521544  49.377627   \n",
       "2   0.000000   0.000000   0.000000   0.000000   0.000000   0.000000   \n",
       "3   0.100001   0.100001   0.100001   0.100001   0.100001   0.100001   \n",
       "4   0.000007   0.000008   0.000010   0.000011   0.000013   0.000015   \n",
       "\n",
       "      202601     202602     202603     202604  \n",
       "0   0.000000   0.000000   0.000000   0.000000  \n",
       "1  50.714749  50.965542  49.596576  48.898691  \n",
       "2   0.000000   0.000000   0.000000   0.000000  \n",
       "3   0.100001   0.100001   0.100001   0.100001  \n",
       "4   0.000016   0.000018   0.000019   0.000034  "
      ]
     },
     "execution_count": 81,
     "metadata": {},
     "output_type": "execute_result"
    }
   ],
   "source": [
    "df_util_pred = pd.merge(df_util, dfcapacity, on=\"ruas\", how=\"left\")\n",
    "columns = ['treg', 'ruas', 'capacity'] + [col for col in df_traffic_pred.columns if col not in ['treg', 'capacity', 'ruas']]\n",
    "\n",
    "# Rearrange the DataFrame columns\n",
    "df_util_pred = df_util_pred[columns]\n",
    "\n",
    "df_util_pred.head()"
   ]
  },
  {
   "cell_type": "code",
   "execution_count": 82,
   "id": "dbae2040-549e-4411-9d41-5a6591b6d562",
   "metadata": {
    "tags": []
   },
   "outputs": [],
   "source": [
    "# save to csv\n",
    "df_final_pred.to_csv(f\"data/pred_{utils.LAYER}.csv\", index=None)\n",
    "df_traffic_pred.to_csv(f\"data/pred_{utils.LAYER}_traffic.csv\", index=None)\n",
    "df_util_pred.to_csv(f\"data/pred_{utils.LAYER}_util.csv\", index=None)"
   ]
  },
  {
   "cell_type": "code",
   "execution_count": 83,
   "id": "28b41787-6b7f-4d1d-be01-0e031e918f87",
   "metadata": {
    "tags": []
   },
   "outputs": [
    {
     "data": {
      "text/plain": [
       "'202503'"
      ]
     },
     "execution_count": 83,
     "metadata": {},
     "output_type": "execute_result"
    }
   ],
   "source": [
    "# upload to db\n",
    "from sqlalchemy.exc import ProgrammingError\n",
    "engine = utils.build_db_engine()\n",
    "\n",
    "min_yearmonth = str(df_final[\"yearmonth\"].min())\n",
    "min_yearmonth"
   ]
  },
  {
   "cell_type": "code",
   "execution_count": 84,
   "id": "3f6ae2b6-b810-494c-a4ca-9c10bf21317d",
   "metadata": {
    "tags": []
   },
   "outputs": [
    {
     "name": "stdout",
     "output_type": "stream",
     "text": [
      "Rows deleted successfully.\n"
     ]
    }
   ],
   "source": [
    "## delete old predictions\n",
    "from sqlalchemy import text\n",
    "\n",
    "query_drop = f\"DELETE FROM pred_{utils.LAYER} WHERE yearmonth >= {min_yearmonth}\"\n",
    "\n",
    "try:\n",
    "    with engine.connect() as con:\n",
    "        con.execute(text(query_drop))\n",
    "        con.commit()  # Explicit commit after deletion\n",
    "    print(\"Rows deleted successfully.\")\n",
    "except Exception as e:\n",
    "    print(\"An error occurred:\", e)"
   ]
  },
  {
   "cell_type": "code",
   "execution_count": 85,
   "id": "8f066296-fa4e-4819-98c0-3b55cae4e395",
   "metadata": {
    "tags": []
   },
   "outputs": [
    {
     "data": {
      "text/plain": [
       "122154"
      ]
     },
     "execution_count": 85,
     "metadata": {},
     "output_type": "execute_result"
    }
   ],
   "source": [
    "# tabel pred\n",
    "df_final_pred.to_sql(\n",
    "    f\"pred_{utils.LAYER}\", engine, if_exists=\"append\", index=None\n",
    ")"
   ]
  },
  {
   "cell_type": "code",
   "execution_count": 86,
   "id": "8ed39d77-0a36-4ea2-aaa3-72612350231f",
   "metadata": {
    "tags": []
   },
   "outputs": [
    {
     "data": {
      "text/plain": [
       "8734"
      ]
     },
     "execution_count": 86,
     "metadata": {},
     "output_type": "execute_result"
    }
   ],
   "source": [
    "# tabel util\n",
    "df_util_pred.replace(np.inf, np.nan).to_sql(\n",
    "    f\"pred_{utils.LAYER}_util\", engine, if_exists=\"replace\", index=None\n",
    ")"
   ]
  },
  {
   "cell_type": "code",
   "execution_count": 87,
   "id": "38852766-905a-4f19-b561-3eb6dca63843",
   "metadata": {
    "tags": []
   },
   "outputs": [
    {
     "data": {
      "text/plain": [
       "8734"
      ]
     },
     "execution_count": 87,
     "metadata": {},
     "output_type": "execute_result"
    }
   ],
   "source": [
    "# tabel traffic\n",
    "df_traffic_pred.to_sql(\n",
    "    f\"pred_{utils.LAYER}_traffic\", engine, if_exists=\"replace\", index=None\n",
    ")"
   ]
  },
  {
   "cell_type": "markdown",
   "id": "c20735f0-2dd3-43d8-9f6d-d3bbc942c465",
   "metadata": {},
   "source": [
    "# Comp Table"
   ]
  },
  {
   "cell_type": "markdown",
   "id": "be8931a7-2dcb-4d60-8100-3ae269197190",
   "metadata": {},
   "source": [
    "## Cut off date"
   ]
  },
  {
   "cell_type": "code",
   "execution_count": 88,
   "id": "d13b8744-84a9-4d05-a78d-1fe7fb80e7a9",
   "metadata": {
    "tags": []
   },
   "outputs": [
    {
     "data": {
      "text/plain": [
       "'202410'"
      ]
     },
     "execution_count": 88,
     "metadata": {},
     "output_type": "execute_result"
    }
   ],
   "source": [
    "# Get 7 months ago from today --> 6 months ago from testing period\n",
    "\n",
    "# Get the current date\n",
    "current_date = datetime.today()\n",
    "\n",
    "# Calculate the date 7 month ago\n",
    "one_month_ago = current_date - pd.DateOffset(months=6)\n",
    "\n",
    "# Get the first day of the month for the calculated date\n",
    "comp_period = one_month_ago.replace(day=1).strftime(\"%Y%m\")\n",
    "\n",
    "comp_period"
   ]
  },
  {
   "cell_type": "code",
   "execution_count": 89,
   "id": "81778cc4-ed53-49f9-8d17-d4dd0c7a6a69",
   "metadata": {
    "tags": []
   },
   "outputs": [
    {
     "data": {
      "text/plain": [
       "('2025-03-01', '2025-03')"
      ]
     },
     "execution_count": 89,
     "metadata": {},
     "output_type": "execute_result"
    }
   ],
   "source": [
    "# Get the current date\n",
    "current_date = datetime.today()\n",
    "\n",
    "# Calculate the date 1 month ago\n",
    "one_month_ago = current_date - pd.DateOffset(months=1)\n",
    "\n",
    "# Get the first day of the month for the calculated date\n",
    "START_TEST_DATE = one_month_ago.replace(day=1).strftime(\"%Y-%m-%d\")\n",
    "threshold_test = one_month_ago.replace(day=1).strftime(\"%Y-%m\")\n",
    "\n",
    "START_TEST_DATE, threshold_test"
   ]
  },
  {
   "cell_type": "markdown",
   "id": "9c5d4271-3ea4-42e1-9e5d-6417ad345ac8",
   "metadata": {},
   "source": [
    "## Get capacity"
   ]
  },
  {
   "cell_type": "code",
   "execution_count": 90,
   "id": "f57ac489-ff34-418e-a3d0-a860395e8dda",
   "metadata": {
    "tags": []
   },
   "outputs": [
    {
     "data": {
      "text/html": [
       "<div>\n",
       "<style scoped>\n",
       "    .dataframe tbody tr th:only-of-type {\n",
       "        vertical-align: middle;\n",
       "    }\n",
       "\n",
       "    .dataframe tbody tr th {\n",
       "        vertical-align: top;\n",
       "    }\n",
       "\n",
       "    .dataframe thead th {\n",
       "        text-align: right;\n",
       "    }\n",
       "</style>\n",
       "<table border=\"1\" class=\"dataframe\">\n",
       "  <thead>\n",
       "    <tr style=\"text-align: right;\">\n",
       "      <th></th>\n",
       "      <th>ruas</th>\n",
       "      <th>treg</th>\n",
       "      <th>capacity</th>\n",
       "    </tr>\n",
       "  </thead>\n",
       "  <tbody>\n",
       "    <tr>\n",
       "      <th>0</th>\n",
       "      <td>09-MBS-35_to_ME-D2-KT2</td>\n",
       "      <td>2</td>\n",
       "      <td>10.0</td>\n",
       "    </tr>\n",
       "    <tr>\n",
       "      <th>1</th>\n",
       "      <td>09-SPL-03_to_ME-D2-SPL</td>\n",
       "      <td>2</td>\n",
       "      <td>10.0</td>\n",
       "    </tr>\n",
       "    <tr>\n",
       "      <th>2</th>\n",
       "      <td>09PGG-12_to_ME-D2-PGG</td>\n",
       "      <td>2</td>\n",
       "      <td>21.0</td>\n",
       "    </tr>\n",
       "    <tr>\n",
       "      <th>3</th>\n",
       "      <td>172.21.212.239_to_OTHER</td>\n",
       "      <td>3</td>\n",
       "      <td>10.0</td>\n",
       "    </tr>\n",
       "    <tr>\n",
       "      <th>4</th>\n",
       "      <td>BLADE-D2-LEGOK-2_to_OTHER</td>\n",
       "      <td>2</td>\n",
       "      <td>1.0</td>\n",
       "    </tr>\n",
       "  </tbody>\n",
       "</table>\n",
       "</div>"
      ],
      "text/plain": [
       "                        ruas  treg  capacity\n",
       "0     09-MBS-35_to_ME-D2-KT2     2      10.0\n",
       "1     09-SPL-03_to_ME-D2-SPL     2      10.0\n",
       "2      09PGG-12_to_ME-D2-PGG     2      21.0\n",
       "3    172.21.212.239_to_OTHER     3      10.0\n",
       "4  BLADE-D2-LEGOK-2_to_OTHER     2       1.0"
      ]
     },
     "execution_count": 90,
     "metadata": {},
     "output_type": "execute_result"
    }
   ],
   "source": [
    "raw = pd.read_csv(\"data/raw.csv\")\n",
    "\n",
    "raw.createddate = pd.to_datetime(raw.createddate)\n",
    "raw['yearmonth'] = raw['createddate'].dt.strftime('%Y-%m')\n",
    "\n",
    "query = f\"\"\"\n",
    "    SELECT ruas, reg as treg, cap as capacity\n",
    "    FROM (\n",
    "        SELECT *,\n",
    "               ROW_NUMBER() OVER (PARTITION BY ruas ORDER BY createddate DESC) as row_num\n",
    "        FROM raw\n",
    "        WHERE yearmonth <= '{threshold_test}'\n",
    "    ) sub\n",
    "    WHERE row_num = 1\n",
    "    order by 1\n",
    "\"\"\"\n",
    "\n",
    "# Fetch the result as a DataFrame\n",
    "dfcapacity = duckdb.query(query).to_df()\n",
    "\n",
    "dfcapacity.head()"
   ]
  },
  {
   "cell_type": "code",
   "execution_count": 91,
   "id": "523ebda4-f911-4e5d-bfc7-cafa569d2caa",
   "metadata": {
    "tags": []
   },
   "outputs": [
    {
     "data": {
      "text/html": [
       "<div>\n",
       "<style scoped>\n",
       "    .dataframe tbody tr th:only-of-type {\n",
       "        vertical-align: middle;\n",
       "    }\n",
       "\n",
       "    .dataframe tbody tr th {\n",
       "        vertical-align: top;\n",
       "    }\n",
       "\n",
       "    .dataframe thead th {\n",
       "        text-align: right;\n",
       "    }\n",
       "</style>\n",
       "<table border=\"1\" class=\"dataframe\">\n",
       "  <thead>\n",
       "    <tr style=\"text-align: right;\">\n",
       "      <th></th>\n",
       "      <th>ruas</th>\n",
       "      <th>createddate</th>\n",
       "      <th>traffic</th>\n",
       "      <th>yearmonth</th>\n",
       "    </tr>\n",
       "  </thead>\n",
       "  <tbody>\n",
       "    <tr>\n",
       "      <th>0</th>\n",
       "      <td>09-MBS-35_to_ME-D2-KT2</td>\n",
       "      <td>2022-11-30</td>\n",
       "      <td>0.0</td>\n",
       "      <td>202211</td>\n",
       "    </tr>\n",
       "    <tr>\n",
       "      <th>1</th>\n",
       "      <td>09-MBS-35_to_ME-D2-KT2</td>\n",
       "      <td>2022-12-15</td>\n",
       "      <td>0.0</td>\n",
       "      <td>202212</td>\n",
       "    </tr>\n",
       "    <tr>\n",
       "      <th>2</th>\n",
       "      <td>09-MBS-35_to_ME-D2-KT2</td>\n",
       "      <td>2022-12-31</td>\n",
       "      <td>0.0</td>\n",
       "      <td>202212</td>\n",
       "    </tr>\n",
       "    <tr>\n",
       "      <th>3</th>\n",
       "      <td>09-MBS-35_to_ME-D2-KT2</td>\n",
       "      <td>2023-01-15</td>\n",
       "      <td>0.0</td>\n",
       "      <td>202301</td>\n",
       "    </tr>\n",
       "    <tr>\n",
       "      <th>4</th>\n",
       "      <td>09-MBS-35_to_ME-D2-KT2</td>\n",
       "      <td>2023-01-31</td>\n",
       "      <td>0.0</td>\n",
       "      <td>202301</td>\n",
       "    </tr>\n",
       "  </tbody>\n",
       "</table>\n",
       "</div>"
      ],
      "text/plain": [
       "                     ruas createddate  traffic  yearmonth\n",
       "0  09-MBS-35_to_ME-D2-KT2  2022-11-30      0.0     202211\n",
       "1  09-MBS-35_to_ME-D2-KT2  2022-12-15      0.0     202212\n",
       "2  09-MBS-35_to_ME-D2-KT2  2022-12-31      0.0     202212\n",
       "3  09-MBS-35_to_ME-D2-KT2  2023-01-15      0.0     202301\n",
       "4  09-MBS-35_to_ME-D2-KT2  2023-01-31      0.0     202301"
      ]
     },
     "execution_count": 91,
     "metadata": {},
     "output_type": "execute_result"
    }
   ],
   "source": [
    "# Load df actual\n",
    "dfm = pd.read_csv(\"data/data_mean_mod.csv\")\n",
    "dfm[\"yearmonth\"] = dfm.createddate.str[:7].str.replace(\"-\", \"\").astype(int)\n",
    "\n",
    "dfm.head()"
   ]
  },
  {
   "cell_type": "code",
   "execution_count": 93,
   "id": "5d45ed31-c71c-4a7c-ae22-df1ef6fccd14",
   "metadata": {
    "tags": []
   },
   "outputs": [
    {
     "data": {
      "text/html": [
       "<div>\n",
       "<style scoped>\n",
       "    .dataframe tbody tr th:only-of-type {\n",
       "        vertical-align: middle;\n",
       "    }\n",
       "\n",
       "    .dataframe tbody tr th {\n",
       "        vertical-align: top;\n",
       "    }\n",
       "\n",
       "    .dataframe thead th {\n",
       "        text-align: right;\n",
       "    }\n",
       "</style>\n",
       "<table border=\"1\" class=\"dataframe\">\n",
       "  <thead>\n",
       "    <tr style=\"text-align: right;\">\n",
       "      <th></th>\n",
       "      <th>yearmonth</th>\n",
       "      <th>ruas</th>\n",
       "      <th>forecast</th>\n",
       "      <th>capacity</th>\n",
       "      <th>treg</th>\n",
       "    </tr>\n",
       "  </thead>\n",
       "  <tbody>\n",
       "    <tr>\n",
       "      <th>0</th>\n",
       "      <td>202410</td>\n",
       "      <td>GPON00-D4-MGE-4FRAK_to_ME2-D4-MGL</td>\n",
       "      <td>1.166</td>\n",
       "      <td>20.0</td>\n",
       "      <td>4</td>\n",
       "    </tr>\n",
       "    <tr>\n",
       "      <th>1</th>\n",
       "      <td>202411</td>\n",
       "      <td>GPON00-D4-MGE-4FRAK_to_ME2-D4-MGL</td>\n",
       "      <td>0.000</td>\n",
       "      <td>20.0</td>\n",
       "      <td>4</td>\n",
       "    </tr>\n",
       "    <tr>\n",
       "      <th>2</th>\n",
       "      <td>202412</td>\n",
       "      <td>GPON00-D4-MGE-4FRAK_to_ME2-D4-MGL</td>\n",
       "      <td>0.000</td>\n",
       "      <td>20.0</td>\n",
       "      <td>4</td>\n",
       "    </tr>\n",
       "    <tr>\n",
       "      <th>3</th>\n",
       "      <td>202501</td>\n",
       "      <td>GPON00-D4-MGE-4FRAK_to_ME2-D4-MGL</td>\n",
       "      <td>0.000</td>\n",
       "      <td>20.0</td>\n",
       "      <td>4</td>\n",
       "    </tr>\n",
       "    <tr>\n",
       "      <th>4</th>\n",
       "      <td>202410</td>\n",
       "      <td>09-MBS-35_to_ME-D2-KT2</td>\n",
       "      <td>0.000</td>\n",
       "      <td>0.0</td>\n",
       "      <td>2</td>\n",
       "    </tr>\n",
       "  </tbody>\n",
       "</table>\n",
       "</div>"
      ],
      "text/plain": [
       "   yearmonth                                ruas  forecast  capacity treg\n",
       "0     202410   GPON00-D4-MGE-4FRAK_to_ME2-D4-MGL     1.166      20.0    4\n",
       "1     202411   GPON00-D4-MGE-4FRAK_to_ME2-D4-MGL     0.000      20.0    4\n",
       "2     202412   GPON00-D4-MGE-4FRAK_to_ME2-D4-MGL     0.000      20.0    4\n",
       "3     202501   GPON00-D4-MGE-4FRAK_to_ME2-D4-MGL     0.000      20.0    4\n",
       "4     202410              09-MBS-35_to_ME-D2-KT2     0.000       0.0    2"
      ]
     },
     "execution_count": 93,
     "metadata": {},
     "output_type": "execute_result"
    }
   ],
   "source": [
    "# Load df forecast\n",
    "df_forecast = utils.pd_read_sql(\n",
    "    f\"select * from pred_{utils.LAYER} where yearmonth >= {comp_period} order by ruas, yearmonth\",\n",
    ")\n",
    "df_forecast['yearmonth'] = df_forecast['yearmonth'].astype(int)\n",
    "\n",
    "df_forecast.head()"
   ]
  },
  {
   "cell_type": "code",
   "execution_count": 94,
   "id": "ccb186bf-57e7-41b0-b470-9ccfbf532c20",
   "metadata": {
    "tags": []
   },
   "outputs": [
    {
     "data": {
      "text/plain": [
       "(8739, 9384)"
      ]
     },
     "execution_count": 94,
     "metadata": {},
     "output_type": "execute_result"
    }
   ],
   "source": [
    "dfm['ruas'].nunique(), df_forecast['ruas'].nunique()"
   ]
  },
  {
   "cell_type": "code",
   "execution_count": 95,
   "id": "85b9fd90-9ce4-4de2-af0b-4581c7d05bf6",
   "metadata": {
    "tags": []
   },
   "outputs": [
    {
     "data": {
      "text/html": [
       "<div>\n",
       "<style scoped>\n",
       "    .dataframe tbody tr th:only-of-type {\n",
       "        vertical-align: middle;\n",
       "    }\n",
       "\n",
       "    .dataframe tbody tr th {\n",
       "        vertical-align: top;\n",
       "    }\n",
       "\n",
       "    .dataframe thead th {\n",
       "        text-align: right;\n",
       "    }\n",
       "</style>\n",
       "<table border=\"1\" class=\"dataframe\">\n",
       "  <thead>\n",
       "    <tr style=\"text-align: right;\">\n",
       "      <th></th>\n",
       "      <th>ruas</th>\n",
       "      <th>yearmonth</th>\n",
       "      <th>actual</th>\n",
       "      <th>forecast</th>\n",
       "      <th>difference</th>\n",
       "      <th>sape</th>\n",
       "    </tr>\n",
       "  </thead>\n",
       "  <tbody>\n",
       "    <tr>\n",
       "      <th>0</th>\n",
       "      <td>BLADE-D2-LEGOK-2_to_OTHER</td>\n",
       "      <td>202503</td>\n",
       "      <td>0.000</td>\n",
       "      <td>0.007175</td>\n",
       "      <td>-0.007175</td>\n",
       "      <td>0.000000</td>\n",
       "    </tr>\n",
       "    <tr>\n",
       "      <th>1</th>\n",
       "      <td>GP0N00-D2-BJT-2PMR_to_OTHER</td>\n",
       "      <td>202503</td>\n",
       "      <td>0.080</td>\n",
       "      <td>0.039690</td>\n",
       "      <td>0.040310</td>\n",
       "      <td>0.000000</td>\n",
       "    </tr>\n",
       "    <tr>\n",
       "      <th>2</th>\n",
       "      <td>GP0N00-D2-BJT-2PMR_to_OTHER</td>\n",
       "      <td>202503</td>\n",
       "      <td>0.060</td>\n",
       "      <td>0.039690</td>\n",
       "      <td>0.020310</td>\n",
       "      <td>0.000000</td>\n",
       "    </tr>\n",
       "    <tr>\n",
       "      <th>3</th>\n",
       "      <td>GPON00-D1-ABA-2_to_ME-D1-ABAA</td>\n",
       "      <td>202410</td>\n",
       "      <td>2.115</td>\n",
       "      <td>2.308036</td>\n",
       "      <td>-0.193036</td>\n",
       "      <td>0.043643</td>\n",
       "    </tr>\n",
       "    <tr>\n",
       "      <th>4</th>\n",
       "      <td>GPON00-D1-ABA-2_to_ME-D1-ABAA</td>\n",
       "      <td>202410</td>\n",
       "      <td>2.136</td>\n",
       "      <td>2.308036</td>\n",
       "      <td>-0.172036</td>\n",
       "      <td>0.038712</td>\n",
       "    </tr>\n",
       "  </tbody>\n",
       "</table>\n",
       "</div>"
      ],
      "text/plain": [
       "                            ruas  yearmonth  actual  forecast  difference  \\\n",
       "0      BLADE-D2-LEGOK-2_to_OTHER     202503   0.000  0.007175   -0.007175   \n",
       "1    GP0N00-D2-BJT-2PMR_to_OTHER     202503   0.080  0.039690    0.040310   \n",
       "2    GP0N00-D2-BJT-2PMR_to_OTHER     202503   0.060  0.039690    0.020310   \n",
       "3  GPON00-D1-ABA-2_to_ME-D1-ABAA     202410   2.115  2.308036   -0.193036   \n",
       "4  GPON00-D1-ABA-2_to_ME-D1-ABAA     202410   2.136  2.308036   -0.172036   \n",
       "\n",
       "       sape  \n",
       "0  0.000000  \n",
       "1  0.000000  \n",
       "2  0.000000  \n",
       "3  0.043643  \n",
       "4  0.038712  "
      ]
     },
     "execution_count": 95,
     "metadata": {},
     "output_type": "execute_result"
    }
   ],
   "source": [
    "# join df actual and forecast\n",
    "df_join = pd.merge(dfm, df_forecast, on=[\"ruas\", \"yearmonth\"])[\n",
    "    [\"ruas\", \"yearmonth\", \"traffic\", \"forecast\"]\n",
    "].rename(columns={\"traffic\": \"actual\"})\n",
    "\n",
    "df_join[\"difference\"] = df_join[\"actual\"] - df_join[\"forecast\"]\n",
    "df_join['sape'] = [utils.sape(actual,forecast) for actual,forecast in zip(df_join['actual'], df_join['forecast'])]\n",
    "df_join['sape'] = df_join.sape.astype(float)\n",
    "\n",
    "df_join.head()"
   ]
  },
  {
   "cell_type": "code",
   "execution_count": 96,
   "id": "ad065a57-f71b-4cec-a747-ee0c22d7ccd3",
   "metadata": {
    "tags": []
   },
   "outputs": [
    {
     "data": {
      "text/plain": [
       "69505"
      ]
     },
     "execution_count": 96,
     "metadata": {},
     "output_type": "execute_result"
    }
   ],
   "source": [
    "## write to table\n",
    "df_join.to_sql(f\"pred_{utils.LAYER}_comp_ruas\", utils.build_db_engine(), if_exists=\"replace\", index=None)"
   ]
  },
  {
   "cell_type": "code",
   "execution_count": 97,
   "id": "9eafd0f3-4508-4485-bb28-5b18e4b4916b",
   "metadata": {
    "tags": []
   },
   "outputs": [
    {
     "data": {
      "text/html": [
       "<div>\n",
       "<style scoped>\n",
       "    .dataframe tbody tr th:only-of-type {\n",
       "        vertical-align: middle;\n",
       "    }\n",
       "\n",
       "    .dataframe tbody tr th {\n",
       "        vertical-align: top;\n",
       "    }\n",
       "\n",
       "    .dataframe thead th {\n",
       "        text-align: right;\n",
       "    }\n",
       "</style>\n",
       "<table border=\"1\" class=\"dataframe\">\n",
       "  <thead>\n",
       "    <tr style=\"text-align: right;\">\n",
       "      <th></th>\n",
       "      <th>202410_%dev</th>\n",
       "      <th>202410_actual</th>\n",
       "      <th>202410_forecast</th>\n",
       "      <th>202411_%dev</th>\n",
       "      <th>202411_actual</th>\n",
       "      <th>202411_forecast</th>\n",
       "      <th>202412_%dev</th>\n",
       "      <th>202412_actual</th>\n",
       "      <th>202412_forecast</th>\n",
       "      <th>202501_%dev</th>\n",
       "      <th>202501_actual</th>\n",
       "      <th>202501_forecast</th>\n",
       "      <th>202503_%dev</th>\n",
       "      <th>202503_actual</th>\n",
       "      <th>202503_forecast</th>\n",
       "    </tr>\n",
       "    <tr>\n",
       "      <th>ruas</th>\n",
       "      <th></th>\n",
       "      <th></th>\n",
       "      <th></th>\n",
       "      <th></th>\n",
       "      <th></th>\n",
       "      <th></th>\n",
       "      <th></th>\n",
       "      <th></th>\n",
       "      <th></th>\n",
       "      <th></th>\n",
       "      <th></th>\n",
       "      <th></th>\n",
       "      <th></th>\n",
       "      <th></th>\n",
       "      <th></th>\n",
       "    </tr>\n",
       "  </thead>\n",
       "  <tbody>\n",
       "    <tr>\n",
       "      <th>BLADE-D2-LEGOK-2_to_OTHER</th>\n",
       "      <td>NaN</td>\n",
       "      <td>NaN</td>\n",
       "      <td>NaN</td>\n",
       "      <td>NaN</td>\n",
       "      <td>NaN</td>\n",
       "      <td>NaN</td>\n",
       "      <td>NaN</td>\n",
       "      <td>NaN</td>\n",
       "      <td>NaN</td>\n",
       "      <td>NaN</td>\n",
       "      <td>NaN</td>\n",
       "      <td>NaN</td>\n",
       "      <td>0.000000</td>\n",
       "      <td>0.0000</td>\n",
       "      <td>0.007175</td>\n",
       "    </tr>\n",
       "    <tr>\n",
       "      <th>GP0N00-D2-BJT-2PMR_to_OTHER</th>\n",
       "      <td>NaN</td>\n",
       "      <td>NaN</td>\n",
       "      <td>NaN</td>\n",
       "      <td>NaN</td>\n",
       "      <td>NaN</td>\n",
       "      <td>NaN</td>\n",
       "      <td>NaN</td>\n",
       "      <td>NaN</td>\n",
       "      <td>NaN</td>\n",
       "      <td>NaN</td>\n",
       "      <td>NaN</td>\n",
       "      <td>NaN</td>\n",
       "      <td>0.000000</td>\n",
       "      <td>0.0740</td>\n",
       "      <td>0.039690</td>\n",
       "    </tr>\n",
       "    <tr>\n",
       "      <th>GPON00-D1-ABA-2_to_ME-D1-ABAA</th>\n",
       "      <td>4.216379</td>\n",
       "      <td>2.1297</td>\n",
       "      <td>2.308036</td>\n",
       "      <td>6.784113</td>\n",
       "      <td>2.1638</td>\n",
       "      <td>2.472331</td>\n",
       "      <td>4.318394</td>\n",
       "      <td>2.5587</td>\n",
       "      <td>2.664670</td>\n",
       "      <td>6.969397</td>\n",
       "      <td>2.4588</td>\n",
       "      <td>2.778871</td>\n",
       "      <td>5.041903</td>\n",
       "      <td>2.9845</td>\n",
       "      <td>2.683435</td>\n",
       "    </tr>\n",
       "    <tr>\n",
       "      <th>GPON00-D1-ABG-2_to_ME-D1-SPPA</th>\n",
       "      <td>11.717254</td>\n",
       "      <td>2.1824</td>\n",
       "      <td>2.745462</td>\n",
       "      <td>4.138104</td>\n",
       "      <td>2.2618</td>\n",
       "      <td>2.450979</td>\n",
       "      <td>6.139361</td>\n",
       "      <td>2.3123</td>\n",
       "      <td>2.597078</td>\n",
       "      <td>3.653785</td>\n",
       "      <td>2.4295</td>\n",
       "      <td>2.598653</td>\n",
       "      <td>3.106498</td>\n",
       "      <td>2.8000</td>\n",
       "      <td>2.631277</td>\n",
       "    </tr>\n",
       "    <tr>\n",
       "      <th>GPON00-D1-ABG-2_to_OTHER</th>\n",
       "      <td>NaN</td>\n",
       "      <td>NaN</td>\n",
       "      <td>NaN</td>\n",
       "      <td>NaN</td>\n",
       "      <td>NaN</td>\n",
       "      <td>NaN</td>\n",
       "      <td>NaN</td>\n",
       "      <td>NaN</td>\n",
       "      <td>NaN</td>\n",
       "      <td>100.000000</td>\n",
       "      <td>2.4250</td>\n",
       "      <td>0.000000</td>\n",
       "      <td>6.832992</td>\n",
       "      <td>2.5980</td>\n",
       "      <td>2.265606</td>\n",
       "    </tr>\n",
       "  </tbody>\n",
       "</table>\n",
       "</div>"
      ],
      "text/plain": [
       "                               202410_%dev  202410_actual  202410_forecast  \\\n",
       "ruas                                                                         \n",
       "BLADE-D2-LEGOK-2_to_OTHER              NaN            NaN              NaN   \n",
       "GP0N00-D2-BJT-2PMR_to_OTHER            NaN            NaN              NaN   \n",
       "GPON00-D1-ABA-2_to_ME-D1-ABAA     4.216379         2.1297         2.308036   \n",
       "GPON00-D1-ABG-2_to_ME-D1-SPPA    11.717254         2.1824         2.745462   \n",
       "GPON00-D1-ABG-2_to_OTHER               NaN            NaN              NaN   \n",
       "\n",
       "                               202411_%dev  202411_actual  202411_forecast  \\\n",
       "ruas                                                                         \n",
       "BLADE-D2-LEGOK-2_to_OTHER              NaN            NaN              NaN   \n",
       "GP0N00-D2-BJT-2PMR_to_OTHER            NaN            NaN              NaN   \n",
       "GPON00-D1-ABA-2_to_ME-D1-ABAA     6.784113         2.1638         2.472331   \n",
       "GPON00-D1-ABG-2_to_ME-D1-SPPA     4.138104         2.2618         2.450979   \n",
       "GPON00-D1-ABG-2_to_OTHER               NaN            NaN              NaN   \n",
       "\n",
       "                               202412_%dev  202412_actual  202412_forecast  \\\n",
       "ruas                                                                         \n",
       "BLADE-D2-LEGOK-2_to_OTHER              NaN            NaN              NaN   \n",
       "GP0N00-D2-BJT-2PMR_to_OTHER            NaN            NaN              NaN   \n",
       "GPON00-D1-ABA-2_to_ME-D1-ABAA     4.318394         2.5587         2.664670   \n",
       "GPON00-D1-ABG-2_to_ME-D1-SPPA     6.139361         2.3123         2.597078   \n",
       "GPON00-D1-ABG-2_to_OTHER               NaN            NaN              NaN   \n",
       "\n",
       "                               202501_%dev  202501_actual  202501_forecast  \\\n",
       "ruas                                                                         \n",
       "BLADE-D2-LEGOK-2_to_OTHER              NaN            NaN              NaN   \n",
       "GP0N00-D2-BJT-2PMR_to_OTHER            NaN            NaN              NaN   \n",
       "GPON00-D1-ABA-2_to_ME-D1-ABAA     6.969397         2.4588         2.778871   \n",
       "GPON00-D1-ABG-2_to_ME-D1-SPPA     3.653785         2.4295         2.598653   \n",
       "GPON00-D1-ABG-2_to_OTHER        100.000000         2.4250         0.000000   \n",
       "\n",
       "                               202503_%dev  202503_actual  202503_forecast  \n",
       "ruas                                                                        \n",
       "BLADE-D2-LEGOK-2_to_OTHER         0.000000         0.0000         0.007175  \n",
       "GP0N00-D2-BJT-2PMR_to_OTHER       0.000000         0.0740         0.039690  \n",
       "GPON00-D1-ABA-2_to_ME-D1-ABAA     5.041903         2.9845         2.683435  \n",
       "GPON00-D1-ABG-2_to_ME-D1-SPPA     3.106498         2.8000         2.631277  \n",
       "GPON00-D1-ABG-2_to_OTHER          6.832992         2.5980         2.265606  "
      ]
     },
     "execution_count": 97,
     "metadata": {},
     "output_type": "execute_result"
    }
   ],
   "source": [
    "# generate pivoted comp table\n",
    "df_join[\"%dev\"] = df_join[\"sape\"] * 100\n",
    "del df_join[\"sape\"]\n",
    "\n",
    "comp = pd.pivot_table(df_join, [\"actual\", \"forecast\", \"%dev\"], \"ruas\", \"yearmonth\", aggfunc=agg_mode)\n",
    "comp_columns_list = comp.columns.to_flat_index().tolist()\n",
    "comp_columns_list_list = [list(x) for x in comp_columns_list]\n",
    "for x in comp_columns_list_list:\n",
    "    x[1] = str(x[1])\n",
    "    x[0], x[1] = x[1], x[0]\n",
    "\n",
    "comp.columns = [\"_\".join(a) for a in comp_columns_list_list]\n",
    "comp = comp.sort_index(axis=1)\n",
    "\n",
    "comp.head()"
   ]
  },
  {
   "cell_type": "code",
   "execution_count": 98,
   "id": "f4a0b6e0-a681-4d81-99d5-8f34b922ce7b",
   "metadata": {
    "tags": []
   },
   "outputs": [
    {
     "data": {
      "text/html": [
       "<div>\n",
       "<style scoped>\n",
       "    .dataframe tbody tr th:only-of-type {\n",
       "        vertical-align: middle;\n",
       "    }\n",
       "\n",
       "    .dataframe tbody tr th {\n",
       "        vertical-align: top;\n",
       "    }\n",
       "\n",
       "    .dataframe thead th {\n",
       "        text-align: right;\n",
       "    }\n",
       "</style>\n",
       "<table border=\"1\" class=\"dataframe\">\n",
       "  <thead>\n",
       "    <tr style=\"text-align: right;\">\n",
       "      <th></th>\n",
       "      <th>treg</th>\n",
       "      <th>ruas</th>\n",
       "      <th>capacity</th>\n",
       "      <th>202410_%dev</th>\n",
       "      <th>202410_actual</th>\n",
       "      <th>202410_forecast</th>\n",
       "      <th>202411_%dev</th>\n",
       "      <th>202411_actual</th>\n",
       "      <th>202411_forecast</th>\n",
       "      <th>202412_%dev</th>\n",
       "      <th>202412_actual</th>\n",
       "      <th>202412_forecast</th>\n",
       "      <th>202501_%dev</th>\n",
       "      <th>202501_actual</th>\n",
       "      <th>202501_forecast</th>\n",
       "      <th>202503_%dev</th>\n",
       "      <th>202503_actual</th>\n",
       "      <th>202503_forecast</th>\n",
       "    </tr>\n",
       "  </thead>\n",
       "  <tbody>\n",
       "    <tr>\n",
       "      <th>0</th>\n",
       "      <td>2</td>\n",
       "      <td>BLADE-D2-LEGOK-2_to_OTHER</td>\n",
       "      <td>1.0</td>\n",
       "      <td>NaN</td>\n",
       "      <td>NaN</td>\n",
       "      <td>NaN</td>\n",
       "      <td>NaN</td>\n",
       "      <td>NaN</td>\n",
       "      <td>NaN</td>\n",
       "      <td>NaN</td>\n",
       "      <td>NaN</td>\n",
       "      <td>NaN</td>\n",
       "      <td>NaN</td>\n",
       "      <td>NaN</td>\n",
       "      <td>NaN</td>\n",
       "      <td>0.000000</td>\n",
       "      <td>0.0000</td>\n",
       "      <td>0.007175</td>\n",
       "    </tr>\n",
       "    <tr>\n",
       "      <th>1</th>\n",
       "      <td>2</td>\n",
       "      <td>GP0N00-D2-BJT-2PMR_to_OTHER</td>\n",
       "      <td>10.0</td>\n",
       "      <td>NaN</td>\n",
       "      <td>NaN</td>\n",
       "      <td>NaN</td>\n",
       "      <td>NaN</td>\n",
       "      <td>NaN</td>\n",
       "      <td>NaN</td>\n",
       "      <td>NaN</td>\n",
       "      <td>NaN</td>\n",
       "      <td>NaN</td>\n",
       "      <td>NaN</td>\n",
       "      <td>NaN</td>\n",
       "      <td>NaN</td>\n",
       "      <td>0.000000</td>\n",
       "      <td>0.0740</td>\n",
       "      <td>0.039690</td>\n",
       "    </tr>\n",
       "    <tr>\n",
       "      <th>2</th>\n",
       "      <td>1</td>\n",
       "      <td>GPON00-D1-ABA-2_to_ME-D1-ABAA</td>\n",
       "      <td>4.0</td>\n",
       "      <td>4.216379</td>\n",
       "      <td>2.1297</td>\n",
       "      <td>2.308036</td>\n",
       "      <td>6.784113</td>\n",
       "      <td>2.1638</td>\n",
       "      <td>2.472331</td>\n",
       "      <td>4.318394</td>\n",
       "      <td>2.5587</td>\n",
       "      <td>2.664670</td>\n",
       "      <td>6.969397</td>\n",
       "      <td>2.4588</td>\n",
       "      <td>2.778871</td>\n",
       "      <td>5.041903</td>\n",
       "      <td>2.9845</td>\n",
       "      <td>2.683435</td>\n",
       "    </tr>\n",
       "    <tr>\n",
       "      <th>3</th>\n",
       "      <td>1</td>\n",
       "      <td>GPON00-D1-ABG-2_to_ME-D1-SPPA</td>\n",
       "      <td>12.0</td>\n",
       "      <td>11.717254</td>\n",
       "      <td>2.1824</td>\n",
       "      <td>2.745462</td>\n",
       "      <td>4.138104</td>\n",
       "      <td>2.2618</td>\n",
       "      <td>2.450979</td>\n",
       "      <td>6.139361</td>\n",
       "      <td>2.3123</td>\n",
       "      <td>2.597078</td>\n",
       "      <td>3.653785</td>\n",
       "      <td>2.4295</td>\n",
       "      <td>2.598653</td>\n",
       "      <td>3.106498</td>\n",
       "      <td>2.8000</td>\n",
       "      <td>2.631277</td>\n",
       "    </tr>\n",
       "    <tr>\n",
       "      <th>4</th>\n",
       "      <td>1</td>\n",
       "      <td>GPON00-D1-ABG-2_to_OTHER</td>\n",
       "      <td>11.0</td>\n",
       "      <td>NaN</td>\n",
       "      <td>NaN</td>\n",
       "      <td>NaN</td>\n",
       "      <td>NaN</td>\n",
       "      <td>NaN</td>\n",
       "      <td>NaN</td>\n",
       "      <td>NaN</td>\n",
       "      <td>NaN</td>\n",
       "      <td>NaN</td>\n",
       "      <td>100.000000</td>\n",
       "      <td>2.4250</td>\n",
       "      <td>0.000000</td>\n",
       "      <td>6.832992</td>\n",
       "      <td>2.5980</td>\n",
       "      <td>2.265606</td>\n",
       "    </tr>\n",
       "  </tbody>\n",
       "</table>\n",
       "</div>"
      ],
      "text/plain": [
       "   treg                           ruas  capacity  202410_%dev  202410_actual  \\\n",
       "0     2      BLADE-D2-LEGOK-2_to_OTHER       1.0          NaN            NaN   \n",
       "1     2    GP0N00-D2-BJT-2PMR_to_OTHER      10.0          NaN            NaN   \n",
       "2     1  GPON00-D1-ABA-2_to_ME-D1-ABAA       4.0     4.216379         2.1297   \n",
       "3     1  GPON00-D1-ABG-2_to_ME-D1-SPPA      12.0    11.717254         2.1824   \n",
       "4     1       GPON00-D1-ABG-2_to_OTHER      11.0          NaN            NaN   \n",
       "\n",
       "   202410_forecast  202411_%dev  202411_actual  202411_forecast  202412_%dev  \\\n",
       "0              NaN          NaN            NaN              NaN          NaN   \n",
       "1              NaN          NaN            NaN              NaN          NaN   \n",
       "2         2.308036     6.784113         2.1638         2.472331     4.318394   \n",
       "3         2.745462     4.138104         2.2618         2.450979     6.139361   \n",
       "4              NaN          NaN            NaN              NaN          NaN   \n",
       "\n",
       "   202412_actual  202412_forecast  202501_%dev  202501_actual  \\\n",
       "0            NaN              NaN          NaN            NaN   \n",
       "1            NaN              NaN          NaN            NaN   \n",
       "2         2.5587         2.664670     6.969397         2.4588   \n",
       "3         2.3123         2.597078     3.653785         2.4295   \n",
       "4            NaN              NaN   100.000000         2.4250   \n",
       "\n",
       "   202501_forecast  202503_%dev  202503_actual  202503_forecast  \n",
       "0              NaN     0.000000         0.0000         0.007175  \n",
       "1              NaN     0.000000         0.0740         0.039690  \n",
       "2         2.778871     5.041903         2.9845         2.683435  \n",
       "3         2.598653     3.106498         2.8000         2.631277  \n",
       "4         0.000000     6.832992         2.5980         2.265606  "
      ]
     },
     "execution_count": 98,
     "metadata": {},
     "output_type": "execute_result"
    }
   ],
   "source": [
    "comp_pred = pd.merge(comp, dfcapacity, on=\"ruas\", how=\"left\")\n",
    "columns = ['treg', 'ruas', 'capacity'] + [col for col in comp_pred.columns if col not in ['treg', 'capacity', 'ruas']]\n",
    "\n",
    "# Rearrange the DataFrame columns\n",
    "comp_pred = comp_pred[columns]\n",
    "\n",
    "comp_pred.head()"
   ]
  },
  {
   "cell_type": "code",
   "execution_count": 99,
   "id": "fa093739-dc09-4735-8b32-a9be72e7672e",
   "metadata": {
    "tags": []
   },
   "outputs": [
    {
     "name": "stdout",
     "output_type": "stream",
     "text": [
      "Done\n"
     ]
    }
   ],
   "source": [
    "if comp_pred.shape[0] > 0:\n",
    "    comp_pred.reset_index(drop=True).to_sql(\n",
    "        f\"pred_{utils.LAYER}_comp\", utils.build_db_engine(), if_exists=\"replace\", index=None\n",
    "    )\n",
    "    print(\"Done\")\n",
    "\n",
    "else:\n",
    "    print(\"Didn't update the comp table because it was zero rows\")"
   ]
  },
  {
   "cell_type": "markdown",
   "id": "3c78d1ab-1694-41bf-8242-3c9f745fb0a4",
   "metadata": {},
   "source": [
    "# Validate total forecasted ruas"
   ]
  },
  {
   "cell_type": "code",
   "execution_count": null,
   "id": "cfaf3168-a958-4959-83dd-ca5ee99f76b8",
   "metadata": {
    "tags": []
   },
   "outputs": [],
   "source": [
    "df = pd.read_csv(\"data/raw.csv\")\n",
    "\n",
    "df.createddate = pd.to_datetime(df.createddate)\n",
    "df['yearmonth'] = df['createddate'].dt.strftime('%Y-%m')\n",
    "\n",
    "df.head()"
   ]
  },
  {
   "cell_type": "code",
   "execution_count": null,
   "id": "f3668a13-a615-4239-a7d1-0847c9fc08e4",
   "metadata": {
    "tags": []
   },
   "outputs": [],
   "source": [
    "# Get the current date\n",
    "current_date = datetime.today()\n",
    "threshold = current_date.replace(day=1).strftime(\"%Y-%m\")\n",
    "\n",
    "threshold"
   ]
  },
  {
   "cell_type": "code",
   "execution_count": null,
   "id": "a8c9b6c8-7924-4e99-9271-bdf108711afb",
   "metadata": {
    "tags": []
   },
   "outputs": [],
   "source": [
    "df[df['yearmonth'] == threshold]['ruas'].nunique()"
   ]
  },
  {
   "cell_type": "code",
   "execution_count": null,
   "id": "9b8346b8-8b7e-4a2c-bcb1-67ac1312c9c9",
   "metadata": {
    "tags": []
   },
   "outputs": [],
   "source": [
    "# Load df forecast\n",
    "utils.pd_read_sql(\n",
    "    f\"SELECT count(distinct ruas) from pred_{utils.LAYER} where yearmonth = {int(threshold.replace('-', ''))}\",\n",
    ")"
   ]
  },
  {
   "cell_type": "code",
   "execution_count": null,
   "id": "2c61534c-2882-45f4-851e-1d27cf309070",
   "metadata": {},
   "outputs": [],
   "source": []
  },
  {
   "cell_type": "code",
   "execution_count": null,
   "id": "233bdd7d-a744-43c9-ad90-931f7e279b4a",
   "metadata": {},
   "outputs": [],
   "source": []
  }
 ],
 "metadata": {
  "kernelspec": {
   "display_name": "Python 3 (ipykernel)",
   "language": "python",
   "name": "python3"
  },
  "language_info": {
   "codemirror_mode": {
    "name": "ipython",
    "version": 3
   },
   "file_extension": ".py",
   "mimetype": "text/x-python",
   "name": "python",
   "nbconvert_exporter": "python",
   "pygments_lexer": "ipython3",
   "version": "3.9.7"
  }
 },
 "nbformat": 4,
 "nbformat_minor": 5
}
